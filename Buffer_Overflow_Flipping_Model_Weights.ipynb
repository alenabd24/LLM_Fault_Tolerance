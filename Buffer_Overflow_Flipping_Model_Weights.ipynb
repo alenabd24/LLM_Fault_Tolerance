{
  "cells": [
    {
      "cell_type": "markdown",
      "metadata": {
        "id": "view-in-github",
        "colab_type": "text"
      },
      "source": [
        "<a href=\"https://colab.research.google.com/github/alenabd24/LLM_Fault_Tolerance/blob/main/Buffer_Overflow_Flipping_Model_Weights.ipynb\" target=\"_parent\"><img src=\"https://colab.research.google.com/assets/colab-badge.svg\" alt=\"Open In Colab\"/></a>"
      ]
    },
    {
      "cell_type": "markdown",
      "metadata": {
        "id": "yt7LTllYnbmQ"
      },
      "source": [
        "# **February 23rd**\n",
        "## Testing Fault Tolerance of a GraphCodeBERT-based Buffer Overflow CWE Classification model, by injecting bit-flip faults into the model weight parameters."
      ]
    },
    {
      "cell_type": "markdown",
      "source": [
        "# **Code Update (16th March):**\n",
        "* Changed CWEs to Ratnaker's recommendations"
      ],
      "metadata": {
        "id": "1RZKyuO8j17h"
      }
    },
    {
      "cell_type": "markdown",
      "metadata": {
        "id": "O7J7gXnCnqIv"
      },
      "source": [
        "## Purpose of the script:\n",
        "1. Train a GraphCodeBERT-based model to classify code snippets into different CWE types (specifically those related to buffer overflows).\n",
        "\n",
        "2. Introduce bit-flip noise into the model weights post-training, prior to inference on unseen test data.\n",
        "\n",
        "3. Evaluate how this noise affects the model's accuracy and robustness.\n",
        "\n",
        "---"
      ]
    },
    {
      "cell_type": "markdown",
      "metadata": {
        "id": "CJA_Z_-qn1H-"
      },
      "source": [
        "Installing ML and NLP-related libraries, mainly from hugging face"
      ]
    },
    {
      "cell_type": "code",
      "execution_count": null,
      "metadata": {
        "colab": {
          "base_uri": "https://localhost:8080/"
        },
        "id": "ciRWKTPhnaMe",
        "outputId": "c63dc2bf-8198-4154-92bd-860d2e21c283"
      },
      "outputs": [
        {
          "output_type": "stream",
          "name": "stdout",
          "text": [
            "Collecting datasets\n",
            "  Downloading datasets-3.4.1-py3-none-any.whl.metadata (19 kB)\n",
            "Requirement already satisfied: filelock in /usr/local/lib/python3.11/dist-packages (from datasets) (3.17.0)\n",
            "Requirement already satisfied: numpy>=1.17 in /usr/local/lib/python3.11/dist-packages (from datasets) (2.0.2)\n",
            "Requirement already satisfied: pyarrow>=15.0.0 in /usr/local/lib/python3.11/dist-packages (from datasets) (18.1.0)\n",
            "Collecting dill<0.3.9,>=0.3.0 (from datasets)\n",
            "  Downloading dill-0.3.8-py3-none-any.whl.metadata (10 kB)\n",
            "Requirement already satisfied: pandas in /usr/local/lib/python3.11/dist-packages (from datasets) (2.2.2)\n",
            "Requirement already satisfied: requests>=2.32.2 in /usr/local/lib/python3.11/dist-packages (from datasets) (2.32.3)\n",
            "Requirement already satisfied: tqdm>=4.66.3 in /usr/local/lib/python3.11/dist-packages (from datasets) (4.67.1)\n",
            "Collecting xxhash (from datasets)\n",
            "  Downloading xxhash-3.5.0-cp311-cp311-manylinux_2_17_x86_64.manylinux2014_x86_64.whl.metadata (12 kB)\n",
            "Collecting multiprocess<0.70.17 (from datasets)\n",
            "  Downloading multiprocess-0.70.16-py311-none-any.whl.metadata (7.2 kB)\n",
            "Requirement already satisfied: fsspec<=2024.12.0,>=2023.1.0 in /usr/local/lib/python3.11/dist-packages (from fsspec[http]<=2024.12.0,>=2023.1.0->datasets) (2024.10.0)\n",
            "Requirement already satisfied: aiohttp in /usr/local/lib/python3.11/dist-packages (from datasets) (3.11.13)\n",
            "Requirement already satisfied: huggingface-hub>=0.24.0 in /usr/local/lib/python3.11/dist-packages (from datasets) (0.28.1)\n",
            "Requirement already satisfied: packaging in /usr/local/lib/python3.11/dist-packages (from datasets) (24.2)\n",
            "Requirement already satisfied: pyyaml>=5.1 in /usr/local/lib/python3.11/dist-packages (from datasets) (6.0.2)\n",
            "Requirement already satisfied: aiohappyeyeballs>=2.3.0 in /usr/local/lib/python3.11/dist-packages (from aiohttp->datasets) (2.6.1)\n",
            "Requirement already satisfied: aiosignal>=1.1.2 in /usr/local/lib/python3.11/dist-packages (from aiohttp->datasets) (1.3.2)\n",
            "Requirement already satisfied: attrs>=17.3.0 in /usr/local/lib/python3.11/dist-packages (from aiohttp->datasets) (25.3.0)\n",
            "Requirement already satisfied: frozenlist>=1.1.1 in /usr/local/lib/python3.11/dist-packages (from aiohttp->datasets) (1.5.0)\n",
            "Requirement already satisfied: multidict<7.0,>=4.5 in /usr/local/lib/python3.11/dist-packages (from aiohttp->datasets) (6.1.0)\n",
            "Requirement already satisfied: propcache>=0.2.0 in /usr/local/lib/python3.11/dist-packages (from aiohttp->datasets) (0.3.0)\n",
            "Requirement already satisfied: yarl<2.0,>=1.17.0 in /usr/local/lib/python3.11/dist-packages (from aiohttp->datasets) (1.18.3)\n",
            "Requirement already satisfied: typing-extensions>=3.7.4.3 in /usr/local/lib/python3.11/dist-packages (from huggingface-hub>=0.24.0->datasets) (4.12.2)\n",
            "Requirement already satisfied: charset-normalizer<4,>=2 in /usr/local/lib/python3.11/dist-packages (from requests>=2.32.2->datasets) (3.4.1)\n",
            "Requirement already satisfied: idna<4,>=2.5 in /usr/local/lib/python3.11/dist-packages (from requests>=2.32.2->datasets) (3.10)\n",
            "Requirement already satisfied: urllib3<3,>=1.21.1 in /usr/local/lib/python3.11/dist-packages (from requests>=2.32.2->datasets) (2.3.0)\n",
            "Requirement already satisfied: certifi>=2017.4.17 in /usr/local/lib/python3.11/dist-packages (from requests>=2.32.2->datasets) (2025.1.31)\n",
            "Requirement already satisfied: python-dateutil>=2.8.2 in /usr/local/lib/python3.11/dist-packages (from pandas->datasets) (2.8.2)\n",
            "Requirement already satisfied: pytz>=2020.1 in /usr/local/lib/python3.11/dist-packages (from pandas->datasets) (2025.1)\n",
            "Requirement already satisfied: tzdata>=2022.7 in /usr/local/lib/python3.11/dist-packages (from pandas->datasets) (2025.1)\n",
            "Requirement already satisfied: six>=1.5 in /usr/local/lib/python3.11/dist-packages (from python-dateutil>=2.8.2->pandas->datasets) (1.17.0)\n",
            "Downloading datasets-3.4.1-py3-none-any.whl (487 kB)\n",
            "\u001b[2K   \u001b[90m━━━━━━━━━━━━━━━━━━━━━━━━━━━━━━━━━━━━━━━━\u001b[0m \u001b[32m487.4/487.4 kB\u001b[0m \u001b[31m9.4 MB/s\u001b[0m eta \u001b[36m0:00:00\u001b[0m\n",
            "\u001b[?25hDownloading dill-0.3.8-py3-none-any.whl (116 kB)\n",
            "\u001b[2K   \u001b[90m━━━━━━━━━━━━━━━━━━━━━━━━━━━━━━━━━━━━━━━━\u001b[0m \u001b[32m116.3/116.3 kB\u001b[0m \u001b[31m12.1 MB/s\u001b[0m eta \u001b[36m0:00:00\u001b[0m\n",
            "\u001b[?25hDownloading multiprocess-0.70.16-py311-none-any.whl (143 kB)\n",
            "\u001b[2K   \u001b[90m━━━━━━━━━━━━━━━━━━━━━━━━━━━━━━━━━━━━━━━━\u001b[0m \u001b[32m143.5/143.5 kB\u001b[0m \u001b[31m14.3 MB/s\u001b[0m eta \u001b[36m0:00:00\u001b[0m\n",
            "\u001b[?25hDownloading xxhash-3.5.0-cp311-cp311-manylinux_2_17_x86_64.manylinux2014_x86_64.whl (194 kB)\n",
            "\u001b[2K   \u001b[90m━━━━━━━━━━━━━━━━━━━━━━━━━━━━━━━━━━━━━━━━\u001b[0m \u001b[32m194.8/194.8 kB\u001b[0m \u001b[31m18.6 MB/s\u001b[0m eta \u001b[36m0:00:00\u001b[0m\n",
            "\u001b[?25hInstalling collected packages: xxhash, dill, multiprocess, datasets\n",
            "Successfully installed datasets-3.4.1 dill-0.3.8 multiprocess-0.70.16 xxhash-3.5.0\n",
            "Requirement already satisfied: transformers in /usr/local/lib/python3.11/dist-packages (4.48.3)\n",
            "Requirement already satisfied: filelock in /usr/local/lib/python3.11/dist-packages (from transformers) (3.17.0)\n",
            "Requirement already satisfied: huggingface-hub<1.0,>=0.24.0 in /usr/local/lib/python3.11/dist-packages (from transformers) (0.28.1)\n",
            "Requirement already satisfied: numpy>=1.17 in /usr/local/lib/python3.11/dist-packages (from transformers) (2.0.2)\n",
            "Requirement already satisfied: packaging>=20.0 in /usr/local/lib/python3.11/dist-packages (from transformers) (24.2)\n",
            "Requirement already satisfied: pyyaml>=5.1 in /usr/local/lib/python3.11/dist-packages (from transformers) (6.0.2)\n",
            "Requirement already satisfied: regex!=2019.12.17 in /usr/local/lib/python3.11/dist-packages (from transformers) (2024.11.6)\n",
            "Requirement already satisfied: requests in /usr/local/lib/python3.11/dist-packages (from transformers) (2.32.3)\n",
            "Requirement already satisfied: tokenizers<0.22,>=0.21 in /usr/local/lib/python3.11/dist-packages (from transformers) (0.21.1)\n",
            "Requirement already satisfied: safetensors>=0.4.1 in /usr/local/lib/python3.11/dist-packages (from transformers) (0.5.3)\n",
            "Requirement already satisfied: tqdm>=4.27 in /usr/local/lib/python3.11/dist-packages (from transformers) (4.67.1)\n",
            "Requirement already satisfied: fsspec>=2023.5.0 in /usr/local/lib/python3.11/dist-packages (from huggingface-hub<1.0,>=0.24.0->transformers) (2024.10.0)\n",
            "Requirement already satisfied: typing-extensions>=3.7.4.3 in /usr/local/lib/python3.11/dist-packages (from huggingface-hub<1.0,>=0.24.0->transformers) (4.12.2)\n",
            "Requirement already satisfied: charset-normalizer<4,>=2 in /usr/local/lib/python3.11/dist-packages (from requests->transformers) (3.4.1)\n",
            "Requirement already satisfied: idna<4,>=2.5 in /usr/local/lib/python3.11/dist-packages (from requests->transformers) (3.10)\n",
            "Requirement already satisfied: urllib3<3,>=1.21.1 in /usr/local/lib/python3.11/dist-packages (from requests->transformers) (2.3.0)\n",
            "Requirement already satisfied: certifi>=2017.4.17 in /usr/local/lib/python3.11/dist-packages (from requests->transformers) (2025.1.31)\n",
            "Requirement already satisfied: accelerate in /usr/local/lib/python3.11/dist-packages (1.3.0)\n",
            "Collecting accelerate\n",
            "  Downloading accelerate-1.5.2-py3-none-any.whl.metadata (19 kB)\n",
            "Requirement already satisfied: numpy<3.0.0,>=1.17 in /usr/local/lib/python3.11/dist-packages (from accelerate) (2.0.2)\n",
            "Requirement already satisfied: packaging>=20.0 in /usr/local/lib/python3.11/dist-packages (from accelerate) (24.2)\n",
            "Requirement already satisfied: psutil in /usr/local/lib/python3.11/dist-packages (from accelerate) (5.9.5)\n",
            "Requirement already satisfied: pyyaml in /usr/local/lib/python3.11/dist-packages (from accelerate) (6.0.2)\n",
            "Requirement already satisfied: torch>=2.0.0 in /usr/local/lib/python3.11/dist-packages (from accelerate) (2.6.0+cu124)\n",
            "Requirement already satisfied: huggingface-hub>=0.21.0 in /usr/local/lib/python3.11/dist-packages (from accelerate) (0.28.1)\n",
            "Requirement already satisfied: safetensors>=0.4.3 in /usr/local/lib/python3.11/dist-packages (from accelerate) (0.5.3)\n",
            "Requirement already satisfied: filelock in /usr/local/lib/python3.11/dist-packages (from huggingface-hub>=0.21.0->accelerate) (3.17.0)\n",
            "Requirement already satisfied: fsspec>=2023.5.0 in /usr/local/lib/python3.11/dist-packages (from huggingface-hub>=0.21.0->accelerate) (2024.10.0)\n",
            "Requirement already satisfied: requests in /usr/local/lib/python3.11/dist-packages (from huggingface-hub>=0.21.0->accelerate) (2.32.3)\n",
            "Requirement already satisfied: tqdm>=4.42.1 in /usr/local/lib/python3.11/dist-packages (from huggingface-hub>=0.21.0->accelerate) (4.67.1)\n",
            "Requirement already satisfied: typing-extensions>=3.7.4.3 in /usr/local/lib/python3.11/dist-packages (from huggingface-hub>=0.21.0->accelerate) (4.12.2)\n",
            "Requirement already satisfied: networkx in /usr/local/lib/python3.11/dist-packages (from torch>=2.0.0->accelerate) (3.4.2)\n",
            "Requirement already satisfied: jinja2 in /usr/local/lib/python3.11/dist-packages (from torch>=2.0.0->accelerate) (3.1.6)\n",
            "Collecting nvidia-cuda-nvrtc-cu12==12.4.127 (from torch>=2.0.0->accelerate)\n",
            "  Downloading nvidia_cuda_nvrtc_cu12-12.4.127-py3-none-manylinux2014_x86_64.whl.metadata (1.5 kB)\n",
            "Collecting nvidia-cuda-runtime-cu12==12.4.127 (from torch>=2.0.0->accelerate)\n",
            "  Downloading nvidia_cuda_runtime_cu12-12.4.127-py3-none-manylinux2014_x86_64.whl.metadata (1.5 kB)\n",
            "Collecting nvidia-cuda-cupti-cu12==12.4.127 (from torch>=2.0.0->accelerate)\n",
            "  Downloading nvidia_cuda_cupti_cu12-12.4.127-py3-none-manylinux2014_x86_64.whl.metadata (1.6 kB)\n",
            "Collecting nvidia-cudnn-cu12==9.1.0.70 (from torch>=2.0.0->accelerate)\n",
            "  Downloading nvidia_cudnn_cu12-9.1.0.70-py3-none-manylinux2014_x86_64.whl.metadata (1.6 kB)\n",
            "Collecting nvidia-cublas-cu12==12.4.5.8 (from torch>=2.0.0->accelerate)\n",
            "  Downloading nvidia_cublas_cu12-12.4.5.8-py3-none-manylinux2014_x86_64.whl.metadata (1.5 kB)\n",
            "Collecting nvidia-cufft-cu12==11.2.1.3 (from torch>=2.0.0->accelerate)\n",
            "  Downloading nvidia_cufft_cu12-11.2.1.3-py3-none-manylinux2014_x86_64.whl.metadata (1.5 kB)\n",
            "Collecting nvidia-curand-cu12==10.3.5.147 (from torch>=2.0.0->accelerate)\n",
            "  Downloading nvidia_curand_cu12-10.3.5.147-py3-none-manylinux2014_x86_64.whl.metadata (1.5 kB)\n",
            "Collecting nvidia-cusolver-cu12==11.6.1.9 (from torch>=2.0.0->accelerate)\n",
            "  Downloading nvidia_cusolver_cu12-11.6.1.9-py3-none-manylinux2014_x86_64.whl.metadata (1.6 kB)\n",
            "Collecting nvidia-cusparse-cu12==12.3.1.170 (from torch>=2.0.0->accelerate)\n",
            "  Downloading nvidia_cusparse_cu12-12.3.1.170-py3-none-manylinux2014_x86_64.whl.metadata (1.6 kB)\n",
            "Requirement already satisfied: nvidia-cusparselt-cu12==0.6.2 in /usr/local/lib/python3.11/dist-packages (from torch>=2.0.0->accelerate) (0.6.2)\n",
            "Requirement already satisfied: nvidia-nccl-cu12==2.21.5 in /usr/local/lib/python3.11/dist-packages (from torch>=2.0.0->accelerate) (2.21.5)\n",
            "Requirement already satisfied: nvidia-nvtx-cu12==12.4.127 in /usr/local/lib/python3.11/dist-packages (from torch>=2.0.0->accelerate) (12.4.127)\n",
            "Collecting nvidia-nvjitlink-cu12==12.4.127 (from torch>=2.0.0->accelerate)\n",
            "  Downloading nvidia_nvjitlink_cu12-12.4.127-py3-none-manylinux2014_x86_64.whl.metadata (1.5 kB)\n",
            "Requirement already satisfied: triton==3.2.0 in /usr/local/lib/python3.11/dist-packages (from torch>=2.0.0->accelerate) (3.2.0)\n",
            "Requirement already satisfied: sympy==1.13.1 in /usr/local/lib/python3.11/dist-packages (from torch>=2.0.0->accelerate) (1.13.1)\n",
            "Requirement already satisfied: mpmath<1.4,>=1.1.0 in /usr/local/lib/python3.11/dist-packages (from sympy==1.13.1->torch>=2.0.0->accelerate) (1.3.0)\n",
            "Requirement already satisfied: MarkupSafe>=2.0 in /usr/local/lib/python3.11/dist-packages (from jinja2->torch>=2.0.0->accelerate) (3.0.2)\n",
            "Requirement already satisfied: charset-normalizer<4,>=2 in /usr/local/lib/python3.11/dist-packages (from requests->huggingface-hub>=0.21.0->accelerate) (3.4.1)\n",
            "Requirement already satisfied: idna<4,>=2.5 in /usr/local/lib/python3.11/dist-packages (from requests->huggingface-hub>=0.21.0->accelerate) (3.10)\n",
            "Requirement already satisfied: urllib3<3,>=1.21.1 in /usr/local/lib/python3.11/dist-packages (from requests->huggingface-hub>=0.21.0->accelerate) (2.3.0)\n",
            "Requirement already satisfied: certifi>=2017.4.17 in /usr/local/lib/python3.11/dist-packages (from requests->huggingface-hub>=0.21.0->accelerate) (2025.1.31)\n",
            "Downloading accelerate-1.5.2-py3-none-any.whl (345 kB)\n",
            "\u001b[2K   \u001b[90m━━━━━━━━━━━━━━━━━━━━━━━━━━━━━━━━━━━━━━━━\u001b[0m \u001b[32m345.1/345.1 kB\u001b[0m \u001b[31m7.4 MB/s\u001b[0m eta \u001b[36m0:00:00\u001b[0m\n",
            "\u001b[?25hDownloading nvidia_cublas_cu12-12.4.5.8-py3-none-manylinux2014_x86_64.whl (363.4 MB)\n",
            "\u001b[2K   \u001b[90m━━━━━━━━━━━━━━━━━━━━━━━━━━━━━━━━━━━━━━━━\u001b[0m \u001b[32m363.4/363.4 MB\u001b[0m \u001b[31m3.3 MB/s\u001b[0m eta \u001b[36m0:00:00\u001b[0m\n",
            "\u001b[?25hDownloading nvidia_cuda_cupti_cu12-12.4.127-py3-none-manylinux2014_x86_64.whl (13.8 MB)\n",
            "\u001b[2K   \u001b[90m━━━━━━━━━━━━━━━━━━━━━━━━━━━━━━━━━━━━━━━━\u001b[0m \u001b[32m13.8/13.8 MB\u001b[0m \u001b[31m103.6 MB/s\u001b[0m eta \u001b[36m0:00:00\u001b[0m\n",
            "\u001b[?25hDownloading nvidia_cuda_nvrtc_cu12-12.4.127-py3-none-manylinux2014_x86_64.whl (24.6 MB)\n",
            "\u001b[2K   \u001b[90m━━━━━━━━━━━━━━━━━━━━━━━━━━━━━━━━━━━━━━━━\u001b[0m \u001b[32m24.6/24.6 MB\u001b[0m \u001b[31m88.1 MB/s\u001b[0m eta \u001b[36m0:00:00\u001b[0m\n",
            "\u001b[?25hDownloading nvidia_cuda_runtime_cu12-12.4.127-py3-none-manylinux2014_x86_64.whl (883 kB)\n",
            "\u001b[2K   \u001b[90m━━━━━━━━━━━━━━━━━━━━━━━━━━━━━━━━━━━━━━━━\u001b[0m \u001b[32m883.7/883.7 kB\u001b[0m \u001b[31m51.3 MB/s\u001b[0m eta \u001b[36m0:00:00\u001b[0m\n",
            "\u001b[?25hDownloading nvidia_cudnn_cu12-9.1.0.70-py3-none-manylinux2014_x86_64.whl (664.8 MB)\n",
            "\u001b[2K   \u001b[90m━━━━━━━━━━━━━━━━━━━━━━━━━━━━━━━━━━━━━━━━\u001b[0m \u001b[32m664.8/664.8 MB\u001b[0m \u001b[31m2.2 MB/s\u001b[0m eta \u001b[36m0:00:00\u001b[0m\n",
            "\u001b[?25hDownloading nvidia_cufft_cu12-11.2.1.3-py3-none-manylinux2014_x86_64.whl (211.5 MB)\n",
            "\u001b[2K   \u001b[90m━━━━━━━━━━━━━━━━━━━━━━━━━━━━━━━━━━━━━━━━\u001b[0m \u001b[32m211.5/211.5 MB\u001b[0m \u001b[31m4.8 MB/s\u001b[0m eta \u001b[36m0:00:00\u001b[0m\n",
            "\u001b[?25hDownloading nvidia_curand_cu12-10.3.5.147-py3-none-manylinux2014_x86_64.whl (56.3 MB)\n",
            "\u001b[2K   \u001b[90m━━━━━━━━━━━━━━━━━━━━━━━━━━━━━━━━━━━━━━━━\u001b[0m \u001b[32m56.3/56.3 MB\u001b[0m \u001b[31m40.4 MB/s\u001b[0m eta \u001b[36m0:00:00\u001b[0m\n",
            "\u001b[?25hDownloading nvidia_cusolver_cu12-11.6.1.9-py3-none-manylinux2014_x86_64.whl (127.9 MB)\n",
            "\u001b[2K   \u001b[90m━━━━━━━━━━━━━━━━━━━━━━━━━━━━━━━━━━━━━━━━\u001b[0m \u001b[32m127.9/127.9 MB\u001b[0m \u001b[31m18.5 MB/s\u001b[0m eta \u001b[36m0:00:00\u001b[0m\n",
            "\u001b[?25hDownloading nvidia_cusparse_cu12-12.3.1.170-py3-none-manylinux2014_x86_64.whl (207.5 MB)\n",
            "\u001b[2K   \u001b[90m━━━━━━━━━━━━━━━━━━━━━━━━━━━━━━━━━━━━━━━━\u001b[0m \u001b[32m207.5/207.5 MB\u001b[0m \u001b[31m5.0 MB/s\u001b[0m eta \u001b[36m0:00:00\u001b[0m\n",
            "\u001b[?25hDownloading nvidia_nvjitlink_cu12-12.4.127-py3-none-manylinux2014_x86_64.whl (21.1 MB)\n",
            "\u001b[2K   \u001b[90m━━━━━━━━━━━━━━━━━━━━━━━━━━━━━━━━━━━━━━━━\u001b[0m \u001b[32m21.1/21.1 MB\u001b[0m \u001b[31m93.5 MB/s\u001b[0m eta \u001b[36m0:00:00\u001b[0m\n",
            "\u001b[?25hInstalling collected packages: nvidia-nvjitlink-cu12, nvidia-curand-cu12, nvidia-cufft-cu12, nvidia-cuda-runtime-cu12, nvidia-cuda-nvrtc-cu12, nvidia-cuda-cupti-cu12, nvidia-cublas-cu12, nvidia-cusparse-cu12, nvidia-cudnn-cu12, nvidia-cusolver-cu12, accelerate\n",
            "  Attempting uninstall: nvidia-nvjitlink-cu12\n",
            "    Found existing installation: nvidia-nvjitlink-cu12 12.5.82\n",
            "    Uninstalling nvidia-nvjitlink-cu12-12.5.82:\n",
            "      Successfully uninstalled nvidia-nvjitlink-cu12-12.5.82\n",
            "  Attempting uninstall: nvidia-curand-cu12\n",
            "    Found existing installation: nvidia-curand-cu12 10.3.6.82\n",
            "    Uninstalling nvidia-curand-cu12-10.3.6.82:\n",
            "      Successfully uninstalled nvidia-curand-cu12-10.3.6.82\n",
            "  Attempting uninstall: nvidia-cufft-cu12\n",
            "    Found existing installation: nvidia-cufft-cu12 11.2.3.61\n",
            "    Uninstalling nvidia-cufft-cu12-11.2.3.61:\n",
            "      Successfully uninstalled nvidia-cufft-cu12-11.2.3.61\n",
            "  Attempting uninstall: nvidia-cuda-runtime-cu12\n",
            "    Found existing installation: nvidia-cuda-runtime-cu12 12.5.82\n",
            "    Uninstalling nvidia-cuda-runtime-cu12-12.5.82:\n",
            "      Successfully uninstalled nvidia-cuda-runtime-cu12-12.5.82\n",
            "  Attempting uninstall: nvidia-cuda-nvrtc-cu12\n",
            "    Found existing installation: nvidia-cuda-nvrtc-cu12 12.5.82\n",
            "    Uninstalling nvidia-cuda-nvrtc-cu12-12.5.82:\n",
            "      Successfully uninstalled nvidia-cuda-nvrtc-cu12-12.5.82\n",
            "  Attempting uninstall: nvidia-cuda-cupti-cu12\n",
            "    Found existing installation: nvidia-cuda-cupti-cu12 12.5.82\n",
            "    Uninstalling nvidia-cuda-cupti-cu12-12.5.82:\n",
            "      Successfully uninstalled nvidia-cuda-cupti-cu12-12.5.82\n",
            "  Attempting uninstall: nvidia-cublas-cu12\n",
            "    Found existing installation: nvidia-cublas-cu12 12.5.3.2\n",
            "    Uninstalling nvidia-cublas-cu12-12.5.3.2:\n",
            "      Successfully uninstalled nvidia-cublas-cu12-12.5.3.2\n",
            "  Attempting uninstall: nvidia-cusparse-cu12\n",
            "    Found existing installation: nvidia-cusparse-cu12 12.5.1.3\n",
            "    Uninstalling nvidia-cusparse-cu12-12.5.1.3:\n",
            "      Successfully uninstalled nvidia-cusparse-cu12-12.5.1.3\n",
            "  Attempting uninstall: nvidia-cudnn-cu12\n",
            "    Found existing installation: nvidia-cudnn-cu12 9.3.0.75\n",
            "    Uninstalling nvidia-cudnn-cu12-9.3.0.75:\n",
            "      Successfully uninstalled nvidia-cudnn-cu12-9.3.0.75\n",
            "  Attempting uninstall: nvidia-cusolver-cu12\n",
            "    Found existing installation: nvidia-cusolver-cu12 11.6.3.83\n",
            "    Uninstalling nvidia-cusolver-cu12-11.6.3.83:\n",
            "      Successfully uninstalled nvidia-cusolver-cu12-11.6.3.83\n",
            "  Attempting uninstall: accelerate\n",
            "    Found existing installation: accelerate 1.3.0\n",
            "    Uninstalling accelerate-1.3.0:\n",
            "      Successfully uninstalled accelerate-1.3.0\n",
            "Successfully installed accelerate-1.5.2 nvidia-cublas-cu12-12.4.5.8 nvidia-cuda-cupti-cu12-12.4.127 nvidia-cuda-nvrtc-cu12-12.4.127 nvidia-cuda-runtime-cu12-12.4.127 nvidia-cudnn-cu12-9.1.0.70 nvidia-cufft-cu12-11.2.1.3 nvidia-curand-cu12-10.3.5.147 nvidia-cusolver-cu12-11.6.1.9 nvidia-cusparse-cu12-12.3.1.170 nvidia-nvjitlink-cu12-12.4.127\n",
            "Requirement already satisfied: transformers[torch] in /usr/local/lib/python3.11/dist-packages (4.48.3)\n",
            "Requirement already satisfied: filelock in /usr/local/lib/python3.11/dist-packages (from transformers[torch]) (3.17.0)\n",
            "Requirement already satisfied: huggingface-hub<1.0,>=0.24.0 in /usr/local/lib/python3.11/dist-packages (from transformers[torch]) (0.28.1)\n",
            "Requirement already satisfied: numpy>=1.17 in /usr/local/lib/python3.11/dist-packages (from transformers[torch]) (2.0.2)\n",
            "Requirement already satisfied: packaging>=20.0 in /usr/local/lib/python3.11/dist-packages (from transformers[torch]) (24.2)\n",
            "Requirement already satisfied: pyyaml>=5.1 in /usr/local/lib/python3.11/dist-packages (from transformers[torch]) (6.0.2)\n",
            "Requirement already satisfied: regex!=2019.12.17 in /usr/local/lib/python3.11/dist-packages (from transformers[torch]) (2024.11.6)\n",
            "Requirement already satisfied: requests in /usr/local/lib/python3.11/dist-packages (from transformers[torch]) (2.32.3)\n",
            "Requirement already satisfied: tokenizers<0.22,>=0.21 in /usr/local/lib/python3.11/dist-packages (from transformers[torch]) (0.21.1)\n",
            "Requirement already satisfied: safetensors>=0.4.1 in /usr/local/lib/python3.11/dist-packages (from transformers[torch]) (0.5.3)\n",
            "Requirement already satisfied: tqdm>=4.27 in /usr/local/lib/python3.11/dist-packages (from transformers[torch]) (4.67.1)\n",
            "Requirement already satisfied: torch>=2.0 in /usr/local/lib/python3.11/dist-packages (from transformers[torch]) (2.6.0+cu124)\n",
            "Requirement already satisfied: accelerate>=0.26.0 in /usr/local/lib/python3.11/dist-packages (from transformers[torch]) (1.5.2)\n",
            "Requirement already satisfied: psutil in /usr/local/lib/python3.11/dist-packages (from accelerate>=0.26.0->transformers[torch]) (5.9.5)\n",
            "Requirement already satisfied: fsspec>=2023.5.0 in /usr/local/lib/python3.11/dist-packages (from huggingface-hub<1.0,>=0.24.0->transformers[torch]) (2024.10.0)\n",
            "Requirement already satisfied: typing-extensions>=3.7.4.3 in /usr/local/lib/python3.11/dist-packages (from huggingface-hub<1.0,>=0.24.0->transformers[torch]) (4.12.2)\n",
            "Requirement already satisfied: networkx in /usr/local/lib/python3.11/dist-packages (from torch>=2.0->transformers[torch]) (3.4.2)\n",
            "Requirement already satisfied: jinja2 in /usr/local/lib/python3.11/dist-packages (from torch>=2.0->transformers[torch]) (3.1.6)\n",
            "Requirement already satisfied: nvidia-cuda-nvrtc-cu12==12.4.127 in /usr/local/lib/python3.11/dist-packages (from torch>=2.0->transformers[torch]) (12.4.127)\n",
            "Requirement already satisfied: nvidia-cuda-runtime-cu12==12.4.127 in /usr/local/lib/python3.11/dist-packages (from torch>=2.0->transformers[torch]) (12.4.127)\n",
            "Requirement already satisfied: nvidia-cuda-cupti-cu12==12.4.127 in /usr/local/lib/python3.11/dist-packages (from torch>=2.0->transformers[torch]) (12.4.127)\n",
            "Requirement already satisfied: nvidia-cudnn-cu12==9.1.0.70 in /usr/local/lib/python3.11/dist-packages (from torch>=2.0->transformers[torch]) (9.1.0.70)\n",
            "Requirement already satisfied: nvidia-cublas-cu12==12.4.5.8 in /usr/local/lib/python3.11/dist-packages (from torch>=2.0->transformers[torch]) (12.4.5.8)\n",
            "Requirement already satisfied: nvidia-cufft-cu12==11.2.1.3 in /usr/local/lib/python3.11/dist-packages (from torch>=2.0->transformers[torch]) (11.2.1.3)\n",
            "Requirement already satisfied: nvidia-curand-cu12==10.3.5.147 in /usr/local/lib/python3.11/dist-packages (from torch>=2.0->transformers[torch]) (10.3.5.147)\n",
            "Requirement already satisfied: nvidia-cusolver-cu12==11.6.1.9 in /usr/local/lib/python3.11/dist-packages (from torch>=2.0->transformers[torch]) (11.6.1.9)\n",
            "Requirement already satisfied: nvidia-cusparse-cu12==12.3.1.170 in /usr/local/lib/python3.11/dist-packages (from torch>=2.0->transformers[torch]) (12.3.1.170)\n",
            "Requirement already satisfied: nvidia-cusparselt-cu12==0.6.2 in /usr/local/lib/python3.11/dist-packages (from torch>=2.0->transformers[torch]) (0.6.2)\n",
            "Requirement already satisfied: nvidia-nccl-cu12==2.21.5 in /usr/local/lib/python3.11/dist-packages (from torch>=2.0->transformers[torch]) (2.21.5)\n",
            "Requirement already satisfied: nvidia-nvtx-cu12==12.4.127 in /usr/local/lib/python3.11/dist-packages (from torch>=2.0->transformers[torch]) (12.4.127)\n",
            "Requirement already satisfied: nvidia-nvjitlink-cu12==12.4.127 in /usr/local/lib/python3.11/dist-packages (from torch>=2.0->transformers[torch]) (12.4.127)\n",
            "Requirement already satisfied: triton==3.2.0 in /usr/local/lib/python3.11/dist-packages (from torch>=2.0->transformers[torch]) (3.2.0)\n",
            "Requirement already satisfied: sympy==1.13.1 in /usr/local/lib/python3.11/dist-packages (from torch>=2.0->transformers[torch]) (1.13.1)\n",
            "Requirement already satisfied: mpmath<1.4,>=1.1.0 in /usr/local/lib/python3.11/dist-packages (from sympy==1.13.1->torch>=2.0->transformers[torch]) (1.3.0)\n",
            "Requirement already satisfied: charset-normalizer<4,>=2 in /usr/local/lib/python3.11/dist-packages (from requests->transformers[torch]) (3.4.1)\n",
            "Requirement already satisfied: idna<4,>=2.5 in /usr/local/lib/python3.11/dist-packages (from requests->transformers[torch]) (3.10)\n",
            "Requirement already satisfied: urllib3<3,>=1.21.1 in /usr/local/lib/python3.11/dist-packages (from requests->transformers[torch]) (2.3.0)\n",
            "Requirement already satisfied: certifi>=2017.4.17 in /usr/local/lib/python3.11/dist-packages (from requests->transformers[torch]) (2025.1.31)\n",
            "Requirement already satisfied: MarkupSafe>=2.0 in /usr/local/lib/python3.11/dist-packages (from jinja2->torch>=2.0->transformers[torch]) (3.0.2)\n",
            "Requirement already satisfied: wandb in /usr/local/lib/python3.11/dist-packages (0.19.8)\n",
            "Requirement already satisfied: click!=8.0.0,>=7.1 in /usr/local/lib/python3.11/dist-packages (from wandb) (8.1.8)\n",
            "Requirement already satisfied: docker-pycreds>=0.4.0 in /usr/local/lib/python3.11/dist-packages (from wandb) (0.4.0)\n",
            "Requirement already satisfied: gitpython!=3.1.29,>=1.0.0 in /usr/local/lib/python3.11/dist-packages (from wandb) (3.1.44)\n",
            "Requirement already satisfied: platformdirs in /usr/local/lib/python3.11/dist-packages (from wandb) (4.3.6)\n",
            "Requirement already satisfied: protobuf!=4.21.0,!=5.28.0,<6,>=3.19.0 in /usr/local/lib/python3.11/dist-packages (from wandb) (4.25.6)\n",
            "Requirement already satisfied: psutil>=5.0.0 in /usr/local/lib/python3.11/dist-packages (from wandb) (5.9.5)\n",
            "Requirement already satisfied: pydantic<3,>=2.6 in /usr/local/lib/python3.11/dist-packages (from wandb) (2.10.6)\n",
            "Requirement already satisfied: pyyaml in /usr/local/lib/python3.11/dist-packages (from wandb) (6.0.2)\n",
            "Requirement already satisfied: requests<3,>=2.0.0 in /usr/local/lib/python3.11/dist-packages (from wandb) (2.32.3)\n",
            "Requirement already satisfied: sentry-sdk>=2.0.0 in /usr/local/lib/python3.11/dist-packages (from wandb) (2.22.0)\n",
            "Requirement already satisfied: setproctitle in /usr/local/lib/python3.11/dist-packages (from wandb) (1.3.5)\n",
            "Requirement already satisfied: setuptools in /usr/local/lib/python3.11/dist-packages (from wandb) (75.1.0)\n",
            "Requirement already satisfied: typing-extensions<5,>=4.4 in /usr/local/lib/python3.11/dist-packages (from wandb) (4.12.2)\n",
            "Requirement already satisfied: six>=1.4.0 in /usr/local/lib/python3.11/dist-packages (from docker-pycreds>=0.4.0->wandb) (1.17.0)\n",
            "Requirement already satisfied: gitdb<5,>=4.0.1 in /usr/local/lib/python3.11/dist-packages (from gitpython!=3.1.29,>=1.0.0->wandb) (4.0.12)\n",
            "Requirement already satisfied: annotated-types>=0.6.0 in /usr/local/lib/python3.11/dist-packages (from pydantic<3,>=2.6->wandb) (0.7.0)\n",
            "Requirement already satisfied: pydantic-core==2.27.2 in /usr/local/lib/python3.11/dist-packages (from pydantic<3,>=2.6->wandb) (2.27.2)\n",
            "Requirement already satisfied: charset-normalizer<4,>=2 in /usr/local/lib/python3.11/dist-packages (from requests<3,>=2.0.0->wandb) (3.4.1)\n",
            "Requirement already satisfied: idna<4,>=2.5 in /usr/local/lib/python3.11/dist-packages (from requests<3,>=2.0.0->wandb) (3.10)\n",
            "Requirement already satisfied: urllib3<3,>=1.21.1 in /usr/local/lib/python3.11/dist-packages (from requests<3,>=2.0.0->wandb) (2.3.0)\n",
            "Requirement already satisfied: certifi>=2017.4.17 in /usr/local/lib/python3.11/dist-packages (from requests<3,>=2.0.0->wandb) (2025.1.31)\n",
            "Requirement already satisfied: smmap<6,>=3.0.1 in /usr/local/lib/python3.11/dist-packages (from gitdb<5,>=4.0.1->gitpython!=3.1.29,>=1.0.0->wandb) (5.0.2)\n"
          ]
        }
      ],
      "source": [
        "!pip install datasets\n",
        "!pip install transformers\n",
        "!pip install accelerate -U\n",
        "!pip install transformers[torch]\n",
        "!pip install wandb"
      ]
    },
    {
      "cell_type": "code",
      "execution_count": null,
      "metadata": {
        "colab": {
          "base_uri": "https://localhost:8080/"
        },
        "id": "v3ahYTyvn0kh",
        "outputId": "684693a1-6511-417b-f9a9-7f383ffb45e1"
      },
      "outputs": [
        {
          "output_type": "stream",
          "name": "stdout",
          "text": [
            "Collecting evaluate\n",
            "  Downloading evaluate-0.4.3-py3-none-any.whl.metadata (9.2 kB)\n",
            "Requirement already satisfied: datasets>=2.0.0 in /usr/local/lib/python3.11/dist-packages (from evaluate) (3.4.1)\n",
            "Requirement already satisfied: numpy>=1.17 in /usr/local/lib/python3.11/dist-packages (from evaluate) (2.0.2)\n",
            "Requirement already satisfied: dill in /usr/local/lib/python3.11/dist-packages (from evaluate) (0.3.8)\n",
            "Requirement already satisfied: pandas in /usr/local/lib/python3.11/dist-packages (from evaluate) (2.2.2)\n",
            "Requirement already satisfied: requests>=2.19.0 in /usr/local/lib/python3.11/dist-packages (from evaluate) (2.32.3)\n",
            "Requirement already satisfied: tqdm>=4.62.1 in /usr/local/lib/python3.11/dist-packages (from evaluate) (4.67.1)\n",
            "Requirement already satisfied: xxhash in /usr/local/lib/python3.11/dist-packages (from evaluate) (3.5.0)\n",
            "Requirement already satisfied: multiprocess in /usr/local/lib/python3.11/dist-packages (from evaluate) (0.70.16)\n",
            "Requirement already satisfied: fsspec>=2021.05.0 in /usr/local/lib/python3.11/dist-packages (from fsspec[http]>=2021.05.0->evaluate) (2024.10.0)\n",
            "Requirement already satisfied: huggingface-hub>=0.7.0 in /usr/local/lib/python3.11/dist-packages (from evaluate) (0.28.1)\n",
            "Requirement already satisfied: packaging in /usr/local/lib/python3.11/dist-packages (from evaluate) (24.2)\n",
            "Requirement already satisfied: filelock in /usr/local/lib/python3.11/dist-packages (from datasets>=2.0.0->evaluate) (3.17.0)\n",
            "Requirement already satisfied: pyarrow>=15.0.0 in /usr/local/lib/python3.11/dist-packages (from datasets>=2.0.0->evaluate) (18.1.0)\n",
            "Requirement already satisfied: aiohttp in /usr/local/lib/python3.11/dist-packages (from datasets>=2.0.0->evaluate) (3.11.13)\n",
            "Requirement already satisfied: pyyaml>=5.1 in /usr/local/lib/python3.11/dist-packages (from datasets>=2.0.0->evaluate) (6.0.2)\n",
            "Requirement already satisfied: typing-extensions>=3.7.4.3 in /usr/local/lib/python3.11/dist-packages (from huggingface-hub>=0.7.0->evaluate) (4.12.2)\n",
            "Requirement already satisfied: charset-normalizer<4,>=2 in /usr/local/lib/python3.11/dist-packages (from requests>=2.19.0->evaluate) (3.4.1)\n",
            "Requirement already satisfied: idna<4,>=2.5 in /usr/local/lib/python3.11/dist-packages (from requests>=2.19.0->evaluate) (3.10)\n",
            "Requirement already satisfied: urllib3<3,>=1.21.1 in /usr/local/lib/python3.11/dist-packages (from requests>=2.19.0->evaluate) (2.3.0)\n",
            "Requirement already satisfied: certifi>=2017.4.17 in /usr/local/lib/python3.11/dist-packages (from requests>=2.19.0->evaluate) (2025.1.31)\n",
            "Requirement already satisfied: python-dateutil>=2.8.2 in /usr/local/lib/python3.11/dist-packages (from pandas->evaluate) (2.8.2)\n",
            "Requirement already satisfied: pytz>=2020.1 in /usr/local/lib/python3.11/dist-packages (from pandas->evaluate) (2025.1)\n",
            "Requirement already satisfied: tzdata>=2022.7 in /usr/local/lib/python3.11/dist-packages (from pandas->evaluate) (2025.1)\n",
            "Requirement already satisfied: aiohappyeyeballs>=2.3.0 in /usr/local/lib/python3.11/dist-packages (from aiohttp->datasets>=2.0.0->evaluate) (2.6.1)\n",
            "Requirement already satisfied: aiosignal>=1.1.2 in /usr/local/lib/python3.11/dist-packages (from aiohttp->datasets>=2.0.0->evaluate) (1.3.2)\n",
            "Requirement already satisfied: attrs>=17.3.0 in /usr/local/lib/python3.11/dist-packages (from aiohttp->datasets>=2.0.0->evaluate) (25.3.0)\n",
            "Requirement already satisfied: frozenlist>=1.1.1 in /usr/local/lib/python3.11/dist-packages (from aiohttp->datasets>=2.0.0->evaluate) (1.5.0)\n",
            "Requirement already satisfied: multidict<7.0,>=4.5 in /usr/local/lib/python3.11/dist-packages (from aiohttp->datasets>=2.0.0->evaluate) (6.1.0)\n",
            "Requirement already satisfied: propcache>=0.2.0 in /usr/local/lib/python3.11/dist-packages (from aiohttp->datasets>=2.0.0->evaluate) (0.3.0)\n",
            "Requirement already satisfied: yarl<2.0,>=1.17.0 in /usr/local/lib/python3.11/dist-packages (from aiohttp->datasets>=2.0.0->evaluate) (1.18.3)\n",
            "Requirement already satisfied: six>=1.5 in /usr/local/lib/python3.11/dist-packages (from python-dateutil>=2.8.2->pandas->evaluate) (1.17.0)\n",
            "Downloading evaluate-0.4.3-py3-none-any.whl (84 kB)\n",
            "\u001b[2K   \u001b[90m━━━━━━━━━━━━━━━━━━━━━━━━━━━━━━━━━━━━━━━━\u001b[0m \u001b[32m84.0/84.0 kB\u001b[0m \u001b[31m2.1 MB/s\u001b[0m eta \u001b[36m0:00:00\u001b[0m\n",
            "\u001b[?25hInstalling collected packages: evaluate\n",
            "Successfully installed evaluate-0.4.3\n"
          ]
        }
      ],
      "source": [
        "from tqdm import tqdm, trange\n",
        "import multiprocessing\n",
        "\n",
        "from transformers import (WEIGHTS_NAME, AdamW, get_linear_schedule_with_warmup,\n",
        "                          RobertaConfig, RobertaForSequenceClassification, RobertaTokenizer)\n",
        "from datasets import Dataset\n",
        "from transformers import RobertaTokenizer, RobertaForMaskedLM, pipeline\n",
        "from transformers import DataCollatorWithPadding\n",
        "from transformers import AutoModelForSequenceClassification, TrainingArguments, Trainer\n",
        "\n",
        "import torch\n",
        "\n",
        "!pip install evaluate\n",
        "import evaluate\n",
        "import numpy as np\n",
        "import pandas as pd\n",
        "from sklearn.model_selection import train_test_split"
      ]
    },
    {
      "cell_type": "markdown",
      "metadata": {
        "id": "UpxfEwg3n_ee"
      },
      "source": [
        "## Transformers & Hugging Face Libraries  \n",
        "- **RobertaConfig** → Configuration settings for RoBERTa models.  \n",
        "- **RobertaForSequenceClassification** → RoBERTa model for classification tasks.  \n",
        "- **RobertaTokenizer** → Tokenizer for RoBERTa (converts text into tokenized inputs).  \n",
        "- **RobertaForMaskedLM** → RoBERTa for Masked Language Modeling (predicting masked words).  \n",
        "- **pipeline** → High-level API for using pre-trained models easily.  \n",
        "- **DataCollatorWithPadding** → Ensures tokenized inputs are correctly padded for training.  \n",
        "- **AutoModelForSequenceClassification** → Generic method for loading classification models.  \n",
        "- **TrainingArguments & Trainer** → Utilities for managing model training.  \n",
        "\n",
        "## Torch & Optimizers  \n",
        "- **torch** → PyTorch framework for training deep learning models.  \n",
        "- **AdamW** → Optimizer designed for transformers.  \n",
        "- **get_linear_schedule_with_warmup** → Learning rate scheduler.  \n",
        "\n",
        "## Additional Libraries  \n",
        "- **evaluate** → A package for computing accuracy, F1-score, etc., similar to `datasets.metric`.  \n",
        "- **numpy & pandas** → For handling datasets and numerical operations.  \n",
        "- **sklearn.train_test_split** → Splits data into training and test sets.  \n"
      ]
    },
    {
      "cell_type": "code",
      "execution_count": null,
      "metadata": {
        "colab": {
          "base_uri": "https://localhost:8080/"
        },
        "id": "sndHYsIun7zD",
        "outputId": "72bf8ccc-ba14-426c-ea85-0be4dc0ff3de"
      },
      "outputs": [
        {
          "output_type": "stream",
          "name": "stdout",
          "text": [
            "Mounted at /content/drive\n"
          ]
        }
      ],
      "source": [
        "from google.colab import drive\n",
        "drive.mount('/content/drive')"
      ]
    },
    {
      "cell_type": "code",
      "execution_count": null,
      "metadata": {
        "id": "qvjG2wSYoio4"
      },
      "outputs": [],
      "source": [
        "import pandas as pd\n",
        "df=pd.read_csv('/content/drive/MyDrive/Colab_Notebooks/MSc_Fault_Tolerance/processed_data_diversevul_2.csv')"
      ]
    },
    {
      "cell_type": "code",
      "execution_count": null,
      "metadata": {
        "colab": {
          "base_uri": "https://localhost:8080/"
        },
        "id": "qsVbL0jfoE8F",
        "outputId": "d25226fd-181c-4bdd-a29a-99fcd9e46d74"
      },
      "outputs": [
        {
          "output_type": "stream",
          "name": "stdout",
          "text": [
            "Unique CWEs in the filtered dataset: ['CWE0' 'CWE400' 'CWE120' 'CWE190' 'CWE369' 'CWE502' 'CWE122']\n",
            "Dataset has been filtered and saved as 'filtered_dataset.csv'\n"
          ]
        }
      ],
      "source": [
        "import pandas as pd\n",
        "\n",
        "# List of buffer overflow related CWEs\n",
        "# buffer_overflow_cwes = [\n",
        "#     'CWE119', 'CWE120', 'CWE121', 'CWE122', 'CWE123', 'CWE124',\n",
        "#     'CWE125', 'CWE787', 'CWE805', 'CWE680', 'CWE131', 'CWE170',\n",
        "#     'CWE369', 'CWE415'\n",
        "# ]\n",
        "\n",
        "buffer_overflow_cwes = [\n",
        "    'CWE0', 'CWE120', 'CWE122', 'CWE369', 'CWE190',\n",
        "    'CWE400', 'CWE502'\n",
        "]\n",
        "\n",
        "\n",
        "# Creating a list of specific CWE identifiers related to buffer overflow vulnerabilities\n",
        "\n",
        "# Filter the dataset to include only rows where the CWE-Type column matches one of the buffer overflow CWEs\n",
        "# This line filters the DataFrame (df) to only include rows where the value in the CWE-Type column matches\n",
        "# any of the CWEs in the buffer_overflow_cwes list.\n",
        "filtered_df = df[df['CWE-Type'].isin(buffer_overflow_cwes)]\n",
        "\n",
        "# Show unique values in the CWE-Type column after filtering\n",
        "# extracts the unique values in the CWE-Type column of the filtered DataFrame (filtered_df), i.e.,\n",
        "# the distinct CWEs that match buffer overflow vulnerabilities. It prints those unique CWEs so you can see which vulnerabilities are present\n",
        "unique_cwes = filtered_df['CWE-Type'].unique()\n",
        "print(\"Unique CWEs in the filtered dataset:\", unique_cwes)\n",
        "\n",
        "# Save the filtered dataset to a new CSV file\n",
        "filtered_df.to_csv('filtered_dataset.csv', index=False)\n",
        "\n",
        "print(\"Dataset has been filtered and saved as 'filtered_dataset.csv'\")\n"
      ]
    },
    {
      "cell_type": "markdown",
      "metadata": {
        "id": "C0q6sQrYoLkK"
      },
      "source": [
        "CWEs are used to classify and identify different types of security vulnerabilities, in this case related to buffer overflow.\n",
        "\n",
        "filtered_df = df[df['CWE-Type'].isin(buffer_overflow_cwes)]:\n",
        "* Only rows where condition of (CWE-type present in buffer_overflow_cwes = true) are kept.\n",
        "* Returns a new DataFrame with only the rows where the CWE-type column matches one of the buffer overflow CWEs"
      ]
    },
    {
      "cell_type": "code",
      "execution_count": null,
      "metadata": {
        "id": "wP76cxIaoHz1"
      },
      "outputs": [],
      "source": [
        "filtered_df.to_csv('/content/drive/MyDrive/Colab_Notebooks/MSc_Fault_Tolerance/bo_filtered_dataset.csv', index=False)"
      ]
    },
    {
      "cell_type": "code",
      "execution_count": null,
      "metadata": {
        "colab": {
          "base_uri": "https://localhost:8080/"
        },
        "id": "8cKp09_NoNpq",
        "outputId": "c986c863-dab8-4fe3-b990-91dac1a403a1"
      },
      "outputs": [
        {
          "output_type": "execute_result",
          "data": {
            "text/plain": [
              "80134"
            ]
          },
          "metadata": {},
          "execution_count": 8
        }
      ],
      "source": [
        "len(filtered_df)"
      ]
    },
    {
      "cell_type": "code",
      "execution_count": null,
      "metadata": {
        "colab": {
          "base_uri": "https://localhost:8080/"
        },
        "id": "B6XuKGlSoO23",
        "outputId": "9aa4b1a4-0c3b-4262-e60e-d49a31f20b37"
      },
      "outputs": [
        {
          "output_type": "stream",
          "name": "stdout",
          "text": [
            "                                                     code CWE-Type\n",
            "0       int _gnutls_ciphertext2compressed(gnutls_sessi...     CWE0\n",
            "2       unpack_Z_stream(int fd_in, int fd_out)\\n{\\n\\tI...     CWE0\n",
            "14      asmlinkage long compat_sys_mount(char __user *...     CWE0\n",
            "15      unsigned short atalk_checksum(struct ddpehdr *...     CWE0\n",
            "16      static int ltalk_rcv(struct sk_buff *skb, stru...     CWE0\n",
            "...                                                   ...      ...\n",
            "409114  CpuDefinitionInfoList *qmp_query_cpu_definitio...     CWE0\n",
            "409115  static bool loongarch_cpu_exec_interrupt(CPUSt...     CWE0\n",
            "409116  static bool loongarch_cpu_has_work(CPUState *c...     CWE0\n",
            "409117  static void loongarch_cpu_add_definition(gpoin...     CWE0\n",
            "409118  static void loongarch_cpu_synchronize_from_tb(...     CWE0\n",
            "\n",
            "[80134 rows x 2 columns]\n"
          ]
        }
      ],
      "source": [
        "\n",
        "# Define a list of CWEs to filter\n",
        "target_cwes = ['CWE0', 'CWE120', 'CWE122', 'CWE369', 'CWE190',\n",
        "    'CWE400', 'CWE502']\n",
        "\n",
        "# Include CWEs in the range 780-790\n",
        "#for i in range(780, 791):\n",
        "#    target_cwes.append('CWE' + str(i))\n",
        "\n",
        "# Filter entries containing CWEs in the specified range or in the target list\n",
        "filtered_df = df[df['CWE-Type'].str.contains('|'.join(target_cwes))]\n",
        "\n",
        "# Output the filtered dataframe\n",
        "print(filtered_df)"
      ]
    },
    {
      "cell_type": "code",
      "execution_count": null,
      "metadata": {
        "colab": {
          "base_uri": "https://localhost:8080/"
        },
        "id": "pQKYXayqoQNh",
        "outputId": "250d8a35-f707-4bf2-bc4c-9d9c7817f15c"
      },
      "outputs": [
        {
          "output_type": "stream",
          "name": "stdout",
          "text": [
            "Unique CWE types: 7\n"
          ]
        }
      ],
      "source": [
        "# Extract unique CWE types\n",
        "unique_cwes = filtered_df['CWE-Type'].nunique()\n",
        "\n",
        "# Output unique CWE types\n",
        "print(\"Unique CWE types:\", unique_cwes)"
      ]
    },
    {
      "cell_type": "code",
      "execution_count": null,
      "metadata": {
        "id": "rJ_l61m4oR82"
      },
      "outputs": [],
      "source": [
        "df=filtered_df"
      ]
    },
    {
      "cell_type": "code",
      "execution_count": null,
      "metadata": {
        "id": "Lau5lmJzor1-"
      },
      "outputs": [],
      "source": [
        "df = df.astype(str)"
      ]
    },
    {
      "cell_type": "code",
      "execution_count": null,
      "metadata": {
        "id": "rbKpEpA2osbW"
      },
      "outputs": [],
      "source": [
        "# Creating 2 dictionaries that convert between unique CWE types and numerical labels\n",
        "id2label = dict() # Maps integer index to a CWE-type (0 : 'CWE119)\n",
        "label2id = dict() # Maps CWE-type to an integer index ('CWE119' : 0)\n",
        "ind = 0\n",
        "for i in df['CWE-Type'].unique():\n",
        "    id2label[ind] = i\n",
        "    label2id[i] = ind\n",
        "    ind+=1"
      ]
    },
    {
      "cell_type": "code",
      "execution_count": null,
      "metadata": {
        "colab": {
          "base_uri": "https://localhost:8080/"
        },
        "id": "U5Px8hxloxNS",
        "outputId": "f445b5de-8af4-4f83-b497-8c62b706a29e"
      },
      "outputs": [
        {
          "output_type": "stream",
          "name": "stdout",
          "text": [
            "id2label dictionary: \n",
            "{0: 'CWE0', 1: 'CWE400', 2: 'CWE120', 3: 'CWE190', 4: 'CWE369', 5: 'CWE502', 6: 'CWE122'}\n",
            "label2id dictionary: \n",
            "{'CWE0': 0, 'CWE400': 1, 'CWE120': 2, 'CWE190': 3, 'CWE369': 4, 'CWE502': 5, 'CWE122': 6}\n"
          ]
        }
      ],
      "source": [
        "print('id2label dictionary: ')\n",
        "print(id2label)\n",
        "print('label2id dictionary: ')\n",
        "print(label2id)"
      ]
    },
    {
      "cell_type": "code",
      "execution_count": null,
      "metadata": {
        "colab": {
          "base_uri": "https://localhost:8080/",
          "height": 206
        },
        "id": "zMx2D6bAoyEV",
        "outputId": "e448f8aa-03ed-41c6-9aeb-fafd9e154e2a"
      },
      "outputs": [
        {
          "output_type": "execute_result",
          "data": {
            "text/plain": [
              "                                                 code CWE-Type  label\n",
              "0   int _gnutls_ciphertext2compressed(gnutls_sessi...     CWE0      0\n",
              "2   unpack_Z_stream(int fd_in, int fd_out)\\n{\\n\\tI...     CWE0      0\n",
              "14  asmlinkage long compat_sys_mount(char __user *...     CWE0      0\n",
              "15  unsigned short atalk_checksum(struct ddpehdr *...     CWE0      0\n",
              "16  static int ltalk_rcv(struct sk_buff *skb, stru...     CWE0      0"
            ],
            "text/html": [
              "\n",
              "  <div id=\"df-459b97f6-bd55-4b07-b42b-abf4b6590699\" class=\"colab-df-container\">\n",
              "    <div>\n",
              "<style scoped>\n",
              "    .dataframe tbody tr th:only-of-type {\n",
              "        vertical-align: middle;\n",
              "    }\n",
              "\n",
              "    .dataframe tbody tr th {\n",
              "        vertical-align: top;\n",
              "    }\n",
              "\n",
              "    .dataframe thead th {\n",
              "        text-align: right;\n",
              "    }\n",
              "</style>\n",
              "<table border=\"1\" class=\"dataframe\">\n",
              "  <thead>\n",
              "    <tr style=\"text-align: right;\">\n",
              "      <th></th>\n",
              "      <th>code</th>\n",
              "      <th>CWE-Type</th>\n",
              "      <th>label</th>\n",
              "    </tr>\n",
              "  </thead>\n",
              "  <tbody>\n",
              "    <tr>\n",
              "      <th>0</th>\n",
              "      <td>int _gnutls_ciphertext2compressed(gnutls_sessi...</td>\n",
              "      <td>CWE0</td>\n",
              "      <td>0</td>\n",
              "    </tr>\n",
              "    <tr>\n",
              "      <th>2</th>\n",
              "      <td>unpack_Z_stream(int fd_in, int fd_out)\\n{\\n\\tI...</td>\n",
              "      <td>CWE0</td>\n",
              "      <td>0</td>\n",
              "    </tr>\n",
              "    <tr>\n",
              "      <th>14</th>\n",
              "      <td>asmlinkage long compat_sys_mount(char __user *...</td>\n",
              "      <td>CWE0</td>\n",
              "      <td>0</td>\n",
              "    </tr>\n",
              "    <tr>\n",
              "      <th>15</th>\n",
              "      <td>unsigned short atalk_checksum(struct ddpehdr *...</td>\n",
              "      <td>CWE0</td>\n",
              "      <td>0</td>\n",
              "    </tr>\n",
              "    <tr>\n",
              "      <th>16</th>\n",
              "      <td>static int ltalk_rcv(struct sk_buff *skb, stru...</td>\n",
              "      <td>CWE0</td>\n",
              "      <td>0</td>\n",
              "    </tr>\n",
              "  </tbody>\n",
              "</table>\n",
              "</div>\n",
              "    <div class=\"colab-df-buttons\">\n",
              "\n",
              "  <div class=\"colab-df-container\">\n",
              "    <button class=\"colab-df-convert\" onclick=\"convertToInteractive('df-459b97f6-bd55-4b07-b42b-abf4b6590699')\"\n",
              "            title=\"Convert this dataframe to an interactive table.\"\n",
              "            style=\"display:none;\">\n",
              "\n",
              "  <svg xmlns=\"http://www.w3.org/2000/svg\" height=\"24px\" viewBox=\"0 -960 960 960\">\n",
              "    <path d=\"M120-120v-720h720v720H120Zm60-500h600v-160H180v160Zm220 220h160v-160H400v160Zm0 220h160v-160H400v160ZM180-400h160v-160H180v160Zm440 0h160v-160H620v160ZM180-180h160v-160H180v160Zm440 0h160v-160H620v160Z\"/>\n",
              "  </svg>\n",
              "    </button>\n",
              "\n",
              "  <style>\n",
              "    .colab-df-container {\n",
              "      display:flex;\n",
              "      gap: 12px;\n",
              "    }\n",
              "\n",
              "    .colab-df-convert {\n",
              "      background-color: #E8F0FE;\n",
              "      border: none;\n",
              "      border-radius: 50%;\n",
              "      cursor: pointer;\n",
              "      display: none;\n",
              "      fill: #1967D2;\n",
              "      height: 32px;\n",
              "      padding: 0 0 0 0;\n",
              "      width: 32px;\n",
              "    }\n",
              "\n",
              "    .colab-df-convert:hover {\n",
              "      background-color: #E2EBFA;\n",
              "      box-shadow: 0px 1px 2px rgba(60, 64, 67, 0.3), 0px 1px 3px 1px rgba(60, 64, 67, 0.15);\n",
              "      fill: #174EA6;\n",
              "    }\n",
              "\n",
              "    .colab-df-buttons div {\n",
              "      margin-bottom: 4px;\n",
              "    }\n",
              "\n",
              "    [theme=dark] .colab-df-convert {\n",
              "      background-color: #3B4455;\n",
              "      fill: #D2E3FC;\n",
              "    }\n",
              "\n",
              "    [theme=dark] .colab-df-convert:hover {\n",
              "      background-color: #434B5C;\n",
              "      box-shadow: 0px 1px 3px 1px rgba(0, 0, 0, 0.15);\n",
              "      filter: drop-shadow(0px 1px 2px rgba(0, 0, 0, 0.3));\n",
              "      fill: #FFFFFF;\n",
              "    }\n",
              "  </style>\n",
              "\n",
              "    <script>\n",
              "      const buttonEl =\n",
              "        document.querySelector('#df-459b97f6-bd55-4b07-b42b-abf4b6590699 button.colab-df-convert');\n",
              "      buttonEl.style.display =\n",
              "        google.colab.kernel.accessAllowed ? 'block' : 'none';\n",
              "\n",
              "      async function convertToInteractive(key) {\n",
              "        const element = document.querySelector('#df-459b97f6-bd55-4b07-b42b-abf4b6590699');\n",
              "        const dataTable =\n",
              "          await google.colab.kernel.invokeFunction('convertToInteractive',\n",
              "                                                    [key], {});\n",
              "        if (!dataTable) return;\n",
              "\n",
              "        const docLinkHtml = 'Like what you see? Visit the ' +\n",
              "          '<a target=\"_blank\" href=https://colab.research.google.com/notebooks/data_table.ipynb>data table notebook</a>'\n",
              "          + ' to learn more about interactive tables.';\n",
              "        element.innerHTML = '';\n",
              "        dataTable['output_type'] = 'display_data';\n",
              "        await google.colab.output.renderOutput(dataTable, element);\n",
              "        const docLink = document.createElement('div');\n",
              "        docLink.innerHTML = docLinkHtml;\n",
              "        element.appendChild(docLink);\n",
              "      }\n",
              "    </script>\n",
              "  </div>\n",
              "\n",
              "\n",
              "<div id=\"df-e090ca09-1b42-4e05-96b3-06aa77900322\">\n",
              "  <button class=\"colab-df-quickchart\" onclick=\"quickchart('df-e090ca09-1b42-4e05-96b3-06aa77900322')\"\n",
              "            title=\"Suggest charts\"\n",
              "            style=\"display:none;\">\n",
              "\n",
              "<svg xmlns=\"http://www.w3.org/2000/svg\" height=\"24px\"viewBox=\"0 0 24 24\"\n",
              "     width=\"24px\">\n",
              "    <g>\n",
              "        <path d=\"M19 3H5c-1.1 0-2 .9-2 2v14c0 1.1.9 2 2 2h14c1.1 0 2-.9 2-2V5c0-1.1-.9-2-2-2zM9 17H7v-7h2v7zm4 0h-2V7h2v10zm4 0h-2v-4h2v4z\"/>\n",
              "    </g>\n",
              "</svg>\n",
              "  </button>\n",
              "\n",
              "<style>\n",
              "  .colab-df-quickchart {\n",
              "      --bg-color: #E8F0FE;\n",
              "      --fill-color: #1967D2;\n",
              "      --hover-bg-color: #E2EBFA;\n",
              "      --hover-fill-color: #174EA6;\n",
              "      --disabled-fill-color: #AAA;\n",
              "      --disabled-bg-color: #DDD;\n",
              "  }\n",
              "\n",
              "  [theme=dark] .colab-df-quickchart {\n",
              "      --bg-color: #3B4455;\n",
              "      --fill-color: #D2E3FC;\n",
              "      --hover-bg-color: #434B5C;\n",
              "      --hover-fill-color: #FFFFFF;\n",
              "      --disabled-bg-color: #3B4455;\n",
              "      --disabled-fill-color: #666;\n",
              "  }\n",
              "\n",
              "  .colab-df-quickchart {\n",
              "    background-color: var(--bg-color);\n",
              "    border: none;\n",
              "    border-radius: 50%;\n",
              "    cursor: pointer;\n",
              "    display: none;\n",
              "    fill: var(--fill-color);\n",
              "    height: 32px;\n",
              "    padding: 0;\n",
              "    width: 32px;\n",
              "  }\n",
              "\n",
              "  .colab-df-quickchart:hover {\n",
              "    background-color: var(--hover-bg-color);\n",
              "    box-shadow: 0 1px 2px rgba(60, 64, 67, 0.3), 0 1px 3px 1px rgba(60, 64, 67, 0.15);\n",
              "    fill: var(--button-hover-fill-color);\n",
              "  }\n",
              "\n",
              "  .colab-df-quickchart-complete:disabled,\n",
              "  .colab-df-quickchart-complete:disabled:hover {\n",
              "    background-color: var(--disabled-bg-color);\n",
              "    fill: var(--disabled-fill-color);\n",
              "    box-shadow: none;\n",
              "  }\n",
              "\n",
              "  .colab-df-spinner {\n",
              "    border: 2px solid var(--fill-color);\n",
              "    border-color: transparent;\n",
              "    border-bottom-color: var(--fill-color);\n",
              "    animation:\n",
              "      spin 1s steps(1) infinite;\n",
              "  }\n",
              "\n",
              "  @keyframes spin {\n",
              "    0% {\n",
              "      border-color: transparent;\n",
              "      border-bottom-color: var(--fill-color);\n",
              "      border-left-color: var(--fill-color);\n",
              "    }\n",
              "    20% {\n",
              "      border-color: transparent;\n",
              "      border-left-color: var(--fill-color);\n",
              "      border-top-color: var(--fill-color);\n",
              "    }\n",
              "    30% {\n",
              "      border-color: transparent;\n",
              "      border-left-color: var(--fill-color);\n",
              "      border-top-color: var(--fill-color);\n",
              "      border-right-color: var(--fill-color);\n",
              "    }\n",
              "    40% {\n",
              "      border-color: transparent;\n",
              "      border-right-color: var(--fill-color);\n",
              "      border-top-color: var(--fill-color);\n",
              "    }\n",
              "    60% {\n",
              "      border-color: transparent;\n",
              "      border-right-color: var(--fill-color);\n",
              "    }\n",
              "    80% {\n",
              "      border-color: transparent;\n",
              "      border-right-color: var(--fill-color);\n",
              "      border-bottom-color: var(--fill-color);\n",
              "    }\n",
              "    90% {\n",
              "      border-color: transparent;\n",
              "      border-bottom-color: var(--fill-color);\n",
              "    }\n",
              "  }\n",
              "</style>\n",
              "\n",
              "  <script>\n",
              "    async function quickchart(key) {\n",
              "      const quickchartButtonEl =\n",
              "        document.querySelector('#' + key + ' button');\n",
              "      quickchartButtonEl.disabled = true;  // To prevent multiple clicks.\n",
              "      quickchartButtonEl.classList.add('colab-df-spinner');\n",
              "      try {\n",
              "        const charts = await google.colab.kernel.invokeFunction(\n",
              "            'suggestCharts', [key], {});\n",
              "      } catch (error) {\n",
              "        console.error('Error during call to suggestCharts:', error);\n",
              "      }\n",
              "      quickchartButtonEl.classList.remove('colab-df-spinner');\n",
              "      quickchartButtonEl.classList.add('colab-df-quickchart-complete');\n",
              "    }\n",
              "    (() => {\n",
              "      let quickchartButtonEl =\n",
              "        document.querySelector('#df-e090ca09-1b42-4e05-96b3-06aa77900322 button');\n",
              "      quickchartButtonEl.style.display =\n",
              "        google.colab.kernel.accessAllowed ? 'block' : 'none';\n",
              "    })();\n",
              "  </script>\n",
              "</div>\n",
              "\n",
              "    </div>\n",
              "  </div>\n"
            ],
            "application/vnd.google.colaboratory.intrinsic+json": {
              "type": "dataframe",
              "variable_name": "df",
              "summary": "{\n  \"name\": \"df\",\n  \"rows\": 80134,\n  \"fields\": [\n    {\n      \"column\": \"code\",\n      \"properties\": {\n        \"dtype\": \"string\",\n        \"num_unique_values\": 79841,\n        \"samples\": [\n          \"void JPXStream::init()\\n{\\n  Object oLen, cspace, smaskInData;\\n  if (getDict()) {\\n    oLen = getDict()->lookup(\\\"Length\\\");\\n    cspace = getDict()->lookup(\\\"ColorSpace\\\");\\n    smaskInData = getDict()->lookup(\\\"SMaskInData\\\");\\n  }\\n\\n  int bufSize = BUFFER_INITIAL_SIZE;\\n  if (oLen.isInt() && oLen.getInt() > 0) bufSize = oLen.getInt();\\n\\n  bool indexed = false;\\n  if (cspace.isArray() && cspace.arrayGetLength() > 0) {\\n    const Object cstype = cspace.arrayGet(0);\\n    if (cstype.isName(\\\"Indexed\\\")) indexed = true;\\n  }\\n\\n  priv->smaskInData = 0;\\n  if (smaskInData.isInt()) priv->smaskInData = smaskInData.getInt();\\n\\n  int length = 0;\\n  unsigned char *buf = str->toUnsignedChars(&length, bufSize);\\n  priv->init2(OPJ_CODEC_JP2, buf, length, indexed);\\n  gfree(buf);\\n\\n  if (priv->image) {\\n    int numComps = (priv->image) ? priv->image->numcomps : 1;\\n    int alpha = 0;\\n    if (priv->image) {\\n      if (priv->image->color_space == OPJ_CLRSPC_SRGB && numComps == 4) { numComps = 3; alpha = 1; }\\n      else if (priv->image->color_space == OPJ_CLRSPC_SYCC && numComps == 4) { numComps = 3; alpha = 1; }\\n      else if (numComps == 2) { numComps = 1; alpha = 1; }\\n      else if (numComps > 4) { numComps = 4; alpha = 1; }\\n      else { alpha = 0; }\\n    }\\n    priv->npixels = priv->image->comps[0].w * priv->image->comps[0].h;\\n    priv->ncomps = priv->image->numcomps;\\n    if (alpha == 1 && priv->smaskInData == 0) priv->ncomps--;\\n    for (int component = 0; component < priv->ncomps; component++) {\\n      if (priv->image->comps[component].data == nullptr) {\\n        close();\\n        break;\\n      }\\n      const int componentPixels = priv->image->comps[component].w * priv->image->comps[component].h;\\n      if (componentPixels != priv->npixels) {\\n        error(errSyntaxWarning, -1, \\\"Component {0:d} has different WxH than component 0\\\", component);\\n        close();\\n        break;\\n      }\\n      unsigned char *cdata = (unsigned char *)priv->image->comps[component].data;\\n      int adjust = 0;\\n      int depth = priv->image->comps[component].prec;\\n      if (priv->image->comps[component].prec > 8)\\n\\tadjust = priv->image->comps[component].prec - 8;\\n      int sgndcorr = 0;\\n      if (priv->image->comps[component].sgnd)\\n\\tsgndcorr = 1 << (priv->image->comps[0].prec - 1);\\n      for (int i = 0; i < priv->npixels; i++) {\\n\\tint r = priv->image->comps[component].data[i];\\n\\t*(cdata++) = adjustComp(r, adjust, depth, sgndcorr, indexed);\\n      }\\n    }\\n  } else {\\n    priv->npixels = 0;\\n  }\\n\\n  priv->counter = 0;\\n  priv->ccounter = 0;\\n  priv->inited = true;\\n}\",\n          \"static int php_session_decode(const char *val, int vallen TSRMLS_DC) /* {{{ */\\n{\\n\\tif (!PS(serializer)) {\\n\\t\\tphp_error_docref(NULL TSRMLS_CC, E_WARNING, \\\"Unknown session.serialize_handler. Failed to decode session object\\\");\\n\\t\\treturn FAILURE;\\n\\t}\\n\\tif (PS(serializer)->decode(val, vallen TSRMLS_CC) == FAILURE) {\\n\\t\\tphp_session_destroy(TSRMLS_C);\\n\\t\\tphp_error_docref(NULL TSRMLS_CC, E_WARNING, \\\"Failed to decode session object. Session has been destroyed\\\");\\n\\t\\treturn FAILURE;\\n\\t}\\n\\treturn SUCCESS;\\n}\",\n          \"static int i40e_channel_config_bw(struct i40e_vsi *vsi, struct i40e_channel *ch,\\n\\t\\t\\t\\t  u8 *bw_share)\\n{\\n\\tstruct i40e_aqc_configure_vsi_tc_bw_data bw_data;\\n\\ti40e_status ret;\\n\\tint i;\\n\\n\\tbw_data.tc_valid_bits = ch->enabled_tc;\\n\\tfor (i = 0; i < I40E_MAX_TRAFFIC_CLASS; i++)\\n\\t\\tbw_data.tc_bw_credits[i] = bw_share[i];\\n\\n\\tret = i40e_aq_config_vsi_tc_bw(&vsi->back->hw, ch->seid,\\n\\t\\t\\t\\t       &bw_data, NULL);\\n\\tif (ret) {\\n\\t\\tdev_info(&vsi->back->pdev->dev,\\n\\t\\t\\t \\\"Config VSI BW allocation per TC failed, aq_err: %d for new_vsi->seid %u\\\\n\\\",\\n\\t\\t\\t vsi->back->hw.aq.asq_last_status, ch->seid);\\n\\t\\treturn -EINVAL;\\n\\t}\\n\\n\\tfor (i = 0; i < I40E_MAX_TRAFFIC_CLASS; i++)\\n\\t\\tch->info.qs_handle[i] = bw_data.qs_handles[i];\\n\\n\\treturn 0;\\n}\"\n        ],\n        \"semantic_type\": \"\",\n        \"description\": \"\"\n      }\n    },\n    {\n      \"column\": \"CWE-Type\",\n      \"properties\": {\n        \"dtype\": \"category\",\n        \"num_unique_values\": 7,\n        \"samples\": [\n          \"CWE0\",\n          \"CWE400\",\n          \"CWE502\"\n        ],\n        \"semantic_type\": \"\",\n        \"description\": \"\"\n      }\n    },\n    {\n      \"column\": \"label\",\n      \"properties\": {\n        \"dtype\": \"number\",\n        \"std\": 1,\n        \"min\": 0,\n        \"max\": 6,\n        \"num_unique_values\": 7,\n        \"samples\": [\n          0,\n          1,\n          5\n        ],\n        \"semantic_type\": \"\",\n        \"description\": \"\"\n      }\n    }\n  ]\n}"
            }
          },
          "metadata": {},
          "execution_count": 15
        }
      ],
      "source": [
        "df['label']=df['CWE-Type'].map(label2id)\n",
        "df.head()"
      ]
    },
    {
      "cell_type": "code",
      "execution_count": null,
      "metadata": {
        "id": "Deb4_Dyvo2C6"
      },
      "outputs": [],
      "source": [
        "# Splitting the dataset into training(80%) and test (20%) sets\n",
        "df_train, df_test = train_test_split(df, test_size=0.2, random_state=42)"
      ]
    },
    {
      "cell_type": "code",
      "execution_count": null,
      "metadata": {
        "id": "PiHtFF6To3pZ"
      },
      "outputs": [],
      "source": [
        "dataset = {} # Creating an empty dictionary\n",
        "dataset['text'] = list(df_train['code']) # adding key-value pair to dataset dictionary, 'text' = key and 'code' = value (in the form of a list). Serves as the feature.\n",
        "dataset['label'] = list(df_train['label']) # same, but adding the key-value pair to act as the label (prediction) for the model.\n",
        "# The code below converts dictionary we just created into a Hugging Face dataset object. It provides many convenient NLP features, such as tokenization.\n",
        "ds = Dataset.from_dict(dataset) # Creation of hugging face dataset object.\n",
        "ds = ds.train_test_split(test_size=0.1) # train/validation split (10% validation)"
      ]
    },
    {
      "cell_type": "markdown",
      "metadata": {
        "id": "5zPds00Ao-_t"
      },
      "source": [
        "The code cell above performs the **second (2ND)** data split.\n",
        "\n",
        "### 1st Split:\n",
        "* Creating the initial training and test datasets.\n",
        "* test dataset is entirely separated from the training process\n",
        "### 2nd Split:\n",
        "* Splits the training data set into training and validation\n",
        "* The validation set is used for hyperparameter tuning and intermediate evaluations during the training phase. Happens before testing"
      ]
    },
    {
      "cell_type": "code",
      "execution_count": null,
      "metadata": {
        "colab": {
          "base_uri": "https://localhost:8080/",
          "height": 368,
          "referenced_widgets": [
            "e3502302b50c45d4bdcdc3219cad3e82",
            "6ad80dd5eb504019865fc27ee2023e26",
            "dba869e2bc2b427ea8ebed10100df101",
            "ad9512a517fe4a26bc647f9be91581a1",
            "c1c01a1a289f4457aa1bd4795a97175d",
            "25eedd4384e14b038ece5bf74da8fe37",
            "5b603a2bedb9435d93e630fd487e46b0",
            "9cd9a40081854475863628b8230cf8bd",
            "cca72098932544048c43ba7d17da7572",
            "2c939ec6f249426d827bbcca47eff191",
            "7df3da75da32496abfee3dc17af6c3ed",
            "d802a32eb0884e919a8596ec6d8a418c",
            "8cf096ca41fe497186415d55eebca2ed",
            "572172d1d55048b98ac945e488c1ebf8",
            "ebda29ffe4984884ad4ba5fd281200c3",
            "27f82d35e5414a6b8fc52652aba9d3ab",
            "b233c21c195646f193dd7a0c16355db1",
            "89dc35660f56488fa3f7b0d3787b2ad2",
            "4c45a36635124c17aaf849a457b43986",
            "dc6bdfb5126f4786aa832cc6493d0bd0",
            "9b905387245140568d9ec709c3a83790",
            "5e4de67bcb4e4aa6af810cc696d2d44e",
            "66b11f28697942f880d546917189c9b6",
            "1e0f5752e2b04e79a2486f427aad8622",
            "7caef9846ee94d3a9f255292383d7cad",
            "275ee19e11fe480c8fce2164b4936bfd",
            "274fce7b554644b29967299786fb93e1",
            "8b8024f0a9b44e459b6991e8c8b8c20a",
            "35d9bd30bf024b88b6c3bc7887770c61",
            "429270592a42489db9e3cca2df0c7bc4",
            "6835d8fe4bf64bf2af15c3f76def448c",
            "960495ca105a46f5ae3e53de6d068cad",
            "2976bda63cc1436f855dd82d99c706c1",
            "ad10a07e2fae4a31a07fe2c342e19078",
            "2b663596045c464a9b1f98655d92b940",
            "5744a5318f2b4e42a687313db3c1b18e",
            "f423aa2592e3447b92488747d2d5cbc6",
            "2fb8e83d592e4bf491502a18c452daa1",
            "3d558876233d43ca810efbb1c0ed6e2d",
            "bc986926022b479791a4bf1157c34c5f",
            "a099e19119684e33a8dc87bda14d8e47",
            "6ff5e6c1793e4d92885f72b033b5dab1",
            "eb373b51a3c8420b9203d67ac2d7a1b7",
            "0713d937316e40e2a36a8a3d61de2d97",
            "7b354cb31bad487885de381b759e6882",
            "cdca73032db64cc49759c46cb7e0addb",
            "4622b32eb86348a39a876bb06f89b55c",
            "a394fe8e13a44d3dbcf919cad1c2ab59",
            "130b53d762e848f9b5f2822bf3d49175",
            "eef9e8dc5aec44d292362c0036daaf09",
            "157de54622cb4862a19321a303120526",
            "16386a1419e44619a3bd090730b1165e",
            "dd9109bdddef4b8985e36520f075bbf5",
            "ed55e8259ea0485e91dd158284bbfa9e",
            "ba66ccd76a674d298ab420dd8d1b3408",
            "1991304bec3e4933ac7af9bf9185155f",
            "4a51285d1b244c6da0b26dbf4ba65207",
            "b3d22a123613409eb79763c359047db5",
            "d7c739ee4458472ea588ba053f38d797",
            "241309fa03544924bc79b96a19391bb5",
            "d5ecd4a3f0794eef8f54d067c326f407",
            "129837ca8e4a4335950437bec3d1f356",
            "0dbdbba4ec384d508ec65253307984e6",
            "540fa3911c114875969c6d0122e833bd",
            "f6048f1a32f84de08268f4aa465d8834",
            "593b834c5fef49e7bbbdb2803495b6d8"
          ]
        },
        "id": "rsFXXSaeo8jR",
        "outputId": "cef61570-83fa-404e-b408-7f65cd0f4af5"
      },
      "outputs": [
        {
          "output_type": "stream",
          "name": "stderr",
          "text": [
            "/usr/local/lib/python3.11/dist-packages/huggingface_hub/utils/_auth.py:94: UserWarning: \n",
            "The secret `HF_TOKEN` does not exist in your Colab secrets.\n",
            "To authenticate with the Hugging Face Hub, create a token in your settings tab (https://huggingface.co/settings/tokens), set it as secret in your Google Colab and restart your session.\n",
            "You will be able to reuse this secret in all of your notebooks.\n",
            "Please note that authentication is recommended but still optional to access public models or datasets.\n",
            "  warnings.warn(\n"
          ]
        },
        {
          "output_type": "display_data",
          "data": {
            "text/plain": [
              "tokenizer_config.json:   0%|          | 0.00/25.0 [00:00<?, ?B/s]"
            ],
            "application/vnd.jupyter.widget-view+json": {
              "version_major": 2,
              "version_minor": 0,
              "model_id": "e3502302b50c45d4bdcdc3219cad3e82"
            }
          },
          "metadata": {}
        },
        {
          "output_type": "display_data",
          "data": {
            "text/plain": [
              "config.json:   0%|          | 0.00/539 [00:00<?, ?B/s]"
            ],
            "application/vnd.jupyter.widget-view+json": {
              "version_major": 2,
              "version_minor": 0,
              "model_id": "d802a32eb0884e919a8596ec6d8a418c"
            }
          },
          "metadata": {}
        },
        {
          "output_type": "display_data",
          "data": {
            "text/plain": [
              "vocab.json:   0%|          | 0.00/899k [00:00<?, ?B/s]"
            ],
            "application/vnd.jupyter.widget-view+json": {
              "version_major": 2,
              "version_minor": 0,
              "model_id": "66b11f28697942f880d546917189c9b6"
            }
          },
          "metadata": {}
        },
        {
          "output_type": "display_data",
          "data": {
            "text/plain": [
              "merges.txt:   0%|          | 0.00/456k [00:00<?, ?B/s]"
            ],
            "application/vnd.jupyter.widget-view+json": {
              "version_major": 2,
              "version_minor": 0,
              "model_id": "ad10a07e2fae4a31a07fe2c342e19078"
            }
          },
          "metadata": {}
        },
        {
          "output_type": "display_data",
          "data": {
            "text/plain": [
              "special_tokens_map.json:   0%|          | 0.00/772 [00:00<?, ?B/s]"
            ],
            "application/vnd.jupyter.widget-view+json": {
              "version_major": 2,
              "version_minor": 0,
              "model_id": "7b354cb31bad487885de381b759e6882"
            }
          },
          "metadata": {}
        },
        {
          "output_type": "display_data",
          "data": {
            "text/plain": [
              "pytorch_model.bin:   0%|          | 0.00/499M [00:00<?, ?B/s]"
            ],
            "application/vnd.jupyter.widget-view+json": {
              "version_major": 2,
              "version_minor": 0,
              "model_id": "1991304bec3e4933ac7af9bf9185155f"
            }
          },
          "metadata": {}
        },
        {
          "output_type": "stream",
          "name": "stderr",
          "text": [
            "Some weights of RobertaForSequenceClassification were not initialized from the model checkpoint at microsoft/graphcodebert-base and are newly initialized: ['classifier.dense.bias', 'classifier.dense.weight', 'classifier.out_proj.bias', 'classifier.out_proj.weight']\n",
            "You should probably TRAIN this model on a down-stream task to be able to use it for predictions and inference.\n"
          ]
        }
      ],
      "source": [
        "from transformers import AutoTokenizer, AutoModelForSequenceClassification\n",
        "\n",
        "tokenizer = AutoTokenizer.from_pretrained(\"microsoft/graphcodebert-base\") # Loading the tokenizer\n",
        "model = AutoModelForSequenceClassification.from_pretrained(\"microsoft/graphcodebert-base\", num_labels=7,id2label=id2label, label2id=label2id)  # Adjust num_labels according to your classification needs\n",
        "# Above, a model is loaded for sequence classification, with 12 possible output labels, defined by num_labels=7. Corresponding to 12 types of CWEs"
      ]
    },
    {
      "cell_type": "code",
      "execution_count": null,
      "metadata": {
        "id": "iMB4AxjopCAo",
        "colab": {
          "base_uri": "https://localhost:8080/",
          "height": 49,
          "referenced_widgets": [
            "55d79edeeb5f449aba0bd8a90e6a5c47",
            "d053ac78e26c494594b41ad65e4a442b",
            "8d9bb491d3074a6c83bf364a114bdf9d",
            "a8f5706735a440dd9633dba165a61cf2",
            "ee3a2b65d84c46e1bc93d77cefd1d701",
            "bd03e023178a43ae9f76668c4bd08311",
            "02eba74c29d84383824aa7cfec1bc647",
            "6642ca5e64b840b499568a364a1758cf",
            "c64736b56e2848e789fb11b849ef7f7c",
            "e039f7ed85bf4c73b81fed5bb2d2c715",
            "c0cf4df21a6349b48b431f3265a03c34"
          ]
        },
        "outputId": "fc9dc021-d756-4e7c-8dcf-124a4959118e"
      },
      "outputs": [
        {
          "output_type": "display_data",
          "data": {
            "text/plain": [
              "Downloading builder script:   0%|          | 0.00/4.20k [00:00<?, ?B/s]"
            ],
            "application/vnd.jupyter.widget-view+json": {
              "version_major": 2,
              "version_minor": 0,
              "model_id": "55d79edeeb5f449aba0bd8a90e6a5c47"
            }
          },
          "metadata": {}
        }
      ],
      "source": [
        "from sklearn.metrics import accuracy_score, precision_recall_fscore_support, confusion_matrix # model performance evaluation metrics\n",
        "data_collator = DataCollatorWithPadding(tokenizer=tokenizer)\n",
        "accuracy = evaluate.load(\"accuracy\")\n",
        "\n",
        "def compute_metrics(eval_pred):\n",
        "    predictions, labels = eval_pred\n",
        "    predictions = np.argmax(predictions, axis=1)\n",
        "    return accuracy.compute(predictions=predictions, references=labels)\n",
        "\n",
        "# A function that calculates accuracy during model evaluation by comparing the predicted labels (after applying argmax) to the true labels."
      ]
    },
    {
      "cell_type": "code",
      "execution_count": null,
      "metadata": {
        "colab": {
          "base_uri": "https://localhost:8080/",
          "height": 113,
          "referenced_widgets": [
            "2523b39dd3e5428fbbfaf98bfb148f47",
            "8dea2db1f4184db5978780e2237529f4",
            "d985af3f0a95467ca47e61edd57af7a1",
            "a7e9dc88120b41338511951326844e12",
            "07e11eeefbe2440588f055f28d2f48e7",
            "cc528f87b6eb4bc8b3fb6742262d0ddc",
            "34ceced910da4072965f66b37bc56106",
            "0cff65c30d6540c2a4b0512b7520b73e",
            "6229b9803d204efb88824856f65d7748",
            "9609e7e63cc640b6bf632f3181ac71b5",
            "0e657b4805134af2b7f57e3c23a2d145",
            "510019c1a9bd40eab8659eb55414a3c8",
            "b524c3869e7f482d9e75297441c7e795",
            "d9d8e050ba5e4f96b8684a36dcd79bab",
            "b4ea619ce233473ea5910e9c7b293d95",
            "e052301053244e8ea4ecd3ade4e74aa7",
            "5234ec6387c142c5a087e4bb521ef5c4",
            "d4789ef1144c4b4ebed2de2a4743679c",
            "7a4e4356b84c4a2f9fa51e277ab06b9f",
            "d36ede0c347f4b3782cf1e8ad88963e3",
            "a4fe86acbb3947ff860460a2c0704c9c",
            "2a9745f167d54d9ab6d3b7fc3829f94e",
            "87ad577ae7c14c3ebd0a2c64352dcac5",
            "7c8e49afc9e14d3087c6ea230a140f92",
            "c3c045e5b01a4baf870af0b9f00a5a97",
            "32e0acaee6a0427ab6510a52c1b31bda",
            "66f87ba9d9af4c37b7f164f281ef0e0f",
            "ae6096f2d9bb4b0090ce756f248bd75f",
            "1285cf69b3ad42b8b83596d403d2fbfb",
            "a34177c810714dd7ac0341a159055736",
            "ec0fee7e41f3463f924867b93de3f928",
            "288107d5b3d64d599a86475aaba9852c",
            "9c7afe9314fb4cdcbea0d9f0dc27a84d"
          ]
        },
        "id": "HIdVm0Bxs8T8",
        "outputId": "c54840b3-a3bc-4fa3-8502-f7d29e24d577"
      },
      "outputs": [
        {
          "output_type": "display_data",
          "data": {
            "text/plain": [
              "Map:   0%|          | 0/57696 [00:00<?, ? examples/s]"
            ],
            "application/vnd.jupyter.widget-view+json": {
              "version_major": 2,
              "version_minor": 0,
              "model_id": "2523b39dd3e5428fbbfaf98bfb148f47"
            }
          },
          "metadata": {}
        },
        {
          "output_type": "display_data",
          "data": {
            "text/plain": [
              "model.safetensors:   0%|          | 0.00/499M [00:00<?, ?B/s]"
            ],
            "application/vnd.jupyter.widget-view+json": {
              "version_major": 2,
              "version_minor": 0,
              "model_id": "510019c1a9bd40eab8659eb55414a3c8"
            }
          },
          "metadata": {}
        },
        {
          "output_type": "display_data",
          "data": {
            "text/plain": [
              "Map:   0%|          | 0/6411 [00:00<?, ? examples/s]"
            ],
            "application/vnd.jupyter.widget-view+json": {
              "version_major": 2,
              "version_minor": 0,
              "model_id": "87ad577ae7c14c3ebd0a2c64352dcac5"
            }
          },
          "metadata": {}
        }
      ],
      "source": [
        "def preprocess_function(examples):\n",
        "    return tokenizer(examples[\"text\"], truncation=True)\n",
        "\n",
        "tokenized_dataset = ds.map(preprocess_function, batched=True)\n",
        "# Tokenizing the dataset"
      ]
    },
    {
      "cell_type": "code",
      "execution_count": null,
      "metadata": {
        "colab": {
          "base_uri": "https://localhost:8080/",
          "height": 509
        },
        "id": "kE5hnHA7tmSd",
        "outputId": "3e4d0980-1f04-40b4-cca3-a2a622193784"
      },
      "outputs": [
        {
          "output_type": "stream",
          "name": "stderr",
          "text": [
            "/usr/local/lib/python3.11/dist-packages/transformers/training_args.py:1575: FutureWarning: `evaluation_strategy` is deprecated and will be removed in version 4.46 of 🤗 Transformers. Use `eval_strategy` instead\n",
            "  warnings.warn(\n",
            "<ipython-input-21-443b5bc150ca>:37: FutureWarning: `tokenizer` is deprecated and will be removed in version 5.0.0 for `Trainer.__init__`. Use `processing_class` instead.\n",
            "  trainer = Trainer(\n",
            "\u001b[34m\u001b[1mwandb\u001b[0m: \u001b[33mWARNING\u001b[0m The `run_name` is currently set to the same value as `TrainingArguments.output_dir`. If this was not intended, please specify a different run name by setting the `TrainingArguments.run_name` parameter.\n",
            "\u001b[34m\u001b[1mwandb\u001b[0m: Using wandb-core as the SDK backend.  Please refer to https://wandb.me/wandb-core for more information.\n"
          ]
        },
        {
          "output_type": "display_data",
          "data": {
            "text/plain": [
              "<IPython.core.display.Javascript object>"
            ],
            "application/javascript": [
              "\n",
              "        window._wandbApiKey = new Promise((resolve, reject) => {\n",
              "            function loadScript(url) {\n",
              "            return new Promise(function(resolve, reject) {\n",
              "                let newScript = document.createElement(\"script\");\n",
              "                newScript.onerror = reject;\n",
              "                newScript.onload = resolve;\n",
              "                document.body.appendChild(newScript);\n",
              "                newScript.src = url;\n",
              "            });\n",
              "            }\n",
              "            loadScript(\"https://cdn.jsdelivr.net/npm/postmate/build/postmate.min.js\").then(() => {\n",
              "            const iframe = document.createElement('iframe')\n",
              "            iframe.style.cssText = \"width:0;height:0;border:none\"\n",
              "            document.body.appendChild(iframe)\n",
              "            const handshake = new Postmate({\n",
              "                container: iframe,\n",
              "                url: 'https://wandb.ai/authorize'\n",
              "            });\n",
              "            const timeout = setTimeout(() => reject(\"Couldn't auto authenticate\"), 5000)\n",
              "            handshake.then(function(child) {\n",
              "                child.on('authorize', data => {\n",
              "                    clearTimeout(timeout)\n",
              "                    resolve(data)\n",
              "                });\n",
              "            });\n",
              "            })\n",
              "        });\n",
              "    "
            ]
          },
          "metadata": {}
        },
        {
          "output_type": "stream",
          "name": "stderr",
          "text": [
            "\u001b[34m\u001b[1mwandb\u001b[0m: Logging into wandb.ai. (Learn how to deploy a W&B server locally: https://wandb.me/wandb-server)\n",
            "\u001b[34m\u001b[1mwandb\u001b[0m: You can find your API key in your browser here: https://wandb.ai/authorize\n",
            "wandb: Paste an API key from your profile and hit enter:"
          ]
        },
        {
          "name": "stdout",
          "output_type": "stream",
          "text": [
            " ··········\n"
          ]
        },
        {
          "output_type": "stream",
          "name": "stderr",
          "text": [
            "\u001b[34m\u001b[1mwandb\u001b[0m: \u001b[33mWARNING\u001b[0m If you're specifying your api key in code, ensure this code is not shared publicly.\n",
            "\u001b[34m\u001b[1mwandb\u001b[0m: \u001b[33mWARNING\u001b[0m Consider setting the WANDB_API_KEY environment variable, or running `wandb login` from the command line.\n",
            "\u001b[34m\u001b[1mwandb\u001b[0m: No netrc file found, creating one.\n",
            "\u001b[34m\u001b[1mwandb\u001b[0m: Appending key for api.wandb.ai to your netrc file: /root/.netrc\n",
            "\u001b[34m\u001b[1mwandb\u001b[0m: Currently logged in as: \u001b[33malenabd24\u001b[0m (\u001b[33malenabd24-queen-mary-university-of-london\u001b[0m) to \u001b[32mhttps://api.wandb.ai\u001b[0m. Use \u001b[1m`wandb login --relogin`\u001b[0m to force relogin\n"
          ]
        },
        {
          "output_type": "display_data",
          "data": {
            "text/plain": [
              "<IPython.core.display.HTML object>"
            ],
            "text/html": [
              "Tracking run with wandb version 0.19.8"
            ]
          },
          "metadata": {}
        },
        {
          "output_type": "display_data",
          "data": {
            "text/plain": [
              "<IPython.core.display.HTML object>"
            ],
            "text/html": [
              "Run data is saved locally in <code>/content/wandb/run-20250318_141024-3kmg7ju1</code>"
            ]
          },
          "metadata": {}
        },
        {
          "output_type": "display_data",
          "data": {
            "text/plain": [
              "<IPython.core.display.HTML object>"
            ],
            "text/html": [
              "Syncing run <strong><a href='https://wandb.ai/alenabd24-queen-mary-university-of-london/huggingface/runs/3kmg7ju1' target=\"_blank\">/content/drive/MyDrive/Colab Notebooks/THESIS_PROJECT/MODEL_WEIGHTS/NEW_MODEL_WEIGHTS/graphcodebert_bo</a></strong> to <a href='https://wandb.ai/alenabd24-queen-mary-university-of-london/huggingface' target=\"_blank\">Weights & Biases</a> (<a href='https://wandb.me/developer-guide' target=\"_blank\">docs</a>)<br>"
            ]
          },
          "metadata": {}
        },
        {
          "output_type": "display_data",
          "data": {
            "text/plain": [
              "<IPython.core.display.HTML object>"
            ],
            "text/html": [
              " View project at <a href='https://wandb.ai/alenabd24-queen-mary-university-of-london/huggingface' target=\"_blank\">https://wandb.ai/alenabd24-queen-mary-university-of-london/huggingface</a>"
            ]
          },
          "metadata": {}
        },
        {
          "output_type": "display_data",
          "data": {
            "text/plain": [
              "<IPython.core.display.HTML object>"
            ],
            "text/html": [
              " View run at <a href='https://wandb.ai/alenabd24-queen-mary-university-of-london/huggingface/runs/3kmg7ju1' target=\"_blank\">https://wandb.ai/alenabd24-queen-mary-university-of-london/huggingface/runs/3kmg7ju1</a>"
            ]
          },
          "metadata": {}
        },
        {
          "output_type": "display_data",
          "data": {
            "text/plain": [
              "<IPython.core.display.HTML object>"
            ],
            "text/html": [
              "\n",
              "    <div>\n",
              "      \n",
              "      <progress value='1803' max='1803' style='width:300px; height:20px; vertical-align: middle;'></progress>\n",
              "      [1803/1803 23:43, Epoch 1/1]\n",
              "    </div>\n",
              "    <table border=\"1\" class=\"dataframe\">\n",
              "  <thead>\n",
              " <tr style=\"text-align: left;\">\n",
              "      <th>Epoch</th>\n",
              "      <th>Training Loss</th>\n",
              "      <th>Validation Loss</th>\n",
              "      <th>Accuracy</th>\n",
              "    </tr>\n",
              "  </thead>\n",
              "  <tbody>\n",
              "    <tr>\n",
              "      <td>1</td>\n",
              "      <td>0.349600</td>\n",
              "      <td>0.268433</td>\n",
              "      <td>0.907347</td>\n",
              "    </tr>\n",
              "  </tbody>\n",
              "</table><p>"
            ]
          },
          "metadata": {}
        },
        {
          "output_type": "execute_result",
          "data": {
            "text/plain": [
              "TrainOutput(global_step=1803, training_loss=0.5001421487800822, metrics={'train_runtime': 1608.2652, 'train_samples_per_second': 35.875, 'train_steps_per_second': 1.121, 'total_flos': 1.51811369459712e+16, 'train_loss': 0.5001421487800822, 'epoch': 1.0})"
            ]
          },
          "metadata": {},
          "execution_count": 21
        }
      ],
      "source": [
        "from transformers import Trainer, TrainingArguments\n",
        "\n",
        "'''\n",
        "training_args = TrainingArguments(\n",
        "    output_dir=\"./results\",\n",
        "    evaluation_strategy=\"epoch\",\n",
        "    learning_rate=2e-5,\n",
        "    per_device_train_batch_size=16,\n",
        "    per_device_eval_batch_size=16,\n",
        "    num_train_epochs=3,\n",
        "    weight_decay=0.01,\n",
        ")\n",
        "\n",
        "trainer = Trainer(\n",
        "    model=model,\n",
        "    args=training_args,\n",
        "    train_dataset=tokenized_datasets[\"train\"],\n",
        "    eval_dataset=tokenized_datasets[\"test\"],\n",
        ")\n",
        "\n",
        "'''\n",
        "training_args = TrainingArguments(\n",
        "    output_dir=\"/content/drive/MyDrive/Colab Notebooks/THESIS_PROJECT/MODEL_WEIGHTS/NEW_MODEL_WEIGHTS/graphcodebert_bo\",\n",
        "    learning_rate=4e-5,\n",
        "    per_device_train_batch_size=32,\n",
        "    per_device_eval_batch_size=32,\n",
        "    num_train_epochs=1,\n",
        "    weight_decay=0.01,\n",
        "    evaluation_strategy=\"epoch\",\n",
        "    save_strategy=\"epoch\",\n",
        "    load_best_model_at_end=True,\n",
        "    report_to=\"wandb\",\n",
        "    fp16 = True,\n",
        "    warmup_steps = 0\n",
        ")\n",
        "\n",
        "trainer = Trainer(\n",
        "    model=model,\n",
        "    args=training_args,\n",
        "    train_dataset=tokenized_dataset[\"train\"],\n",
        "    eval_dataset=tokenized_dataset[\"test\"],\n",
        "    tokenizer=tokenizer,\n",
        "    data_collator=data_collator,\n",
        "    compute_metrics=compute_metrics,\n",
        ")\n",
        "\n",
        "trainer.train()\n"
      ]
    },
    {
      "cell_type": "markdown",
      "source": [
        "**Saving the baseline model weights (to re-load later if necessary)"
      ],
      "metadata": {
        "id": "Bva5J0ZBsbTn"
      }
    },
    {
      "cell_type": "code",
      "source": [
        "trainer.save_model(\"/path/to/save/baseline_model\")\n"
      ],
      "metadata": {
        "id": "RocjuBPwsask"
      },
      "execution_count": null,
      "outputs": []
    },
    {
      "cell_type": "markdown",
      "metadata": {
        "id": "MhbpiLxcuEte"
      },
      "source": [
        "* The idea is to fine-tune the model first, so that it selects appropriate weights for the classification task.\n",
        "* After training, the model's accuracy should be evaluated without bit flips\n",
        "* Following that, I'll inject bit flips and compare accuracy to before vs after fault injection"
      ]
    },
    {
      "cell_type": "code",
      "execution_count": null,
      "metadata": {
        "colab": {
          "base_uri": "https://localhost:8080/",
          "height": 141
        },
        "id": "syiAPXjslyqo",
        "outputId": "eac4d03f-ee1f-406e-b5f7-f04c287a65a2"
      },
      "outputs": [
        {
          "output_type": "display_data",
          "data": {
            "text/plain": [
              "<IPython.core.display.HTML object>"
            ],
            "text/html": [
              "\n",
              "    <div>\n",
              "      \n",
              "      <progress value='201' max='201' style='width:300px; height:20px; vertical-align: middle;'></progress>\n",
              "      [201/201 00:43]\n",
              "    </div>\n",
              "    "
            ]
          },
          "metadata": {}
        },
        {
          "output_type": "execute_result",
          "data": {
            "text/plain": [
              "{'eval_loss': 0.26843348145484924,\n",
              " 'eval_accuracy': 0.9073467477772579,\n",
              " 'eval_runtime': 43.649,\n",
              " 'eval_samples_per_second': 146.876,\n",
              " 'eval_steps_per_second': 4.605,\n",
              " 'epoch': 1.0}"
            ]
          },
          "metadata": {},
          "execution_count": 23
        }
      ],
      "source": [
        "trainer.evaluate()"
      ]
    },
    {
      "cell_type": "code",
      "execution_count": null,
      "metadata": {
        "id": "vf_36RDVmbGS"
      },
      "outputs": [],
      "source": [
        "device = 'cuda' if torch.cuda.is_available() else 'cpu'\n",
        "\n",
        "preds = []\n",
        "for i in df_test['code'].values:\n",
        "    with torch.no_grad():\n",
        "        inputs = tokenizer(i, return_tensors=\"pt\",  truncation=True).to(device)\n",
        "        logits = model(**inputs).logits\n",
        "        predicted_class_id = logits.argmax().item()\n",
        "        preds.append(predicted_class_id)"
      ]
    },
    {
      "cell_type": "code",
      "execution_count": null,
      "metadata": {
        "id": "yYkj_0xRmddj"
      },
      "outputs": [],
      "source": [
        "y_true = [id2label[i] for i in df_test['label'].values]\n",
        "y_pred = [id2label[i] for i in preds]"
      ]
    },
    {
      "cell_type": "code",
      "execution_count": null,
      "metadata": {
        "id": "0bkNARNfme3b",
        "colab": {
          "base_uri": "https://localhost:8080/"
        },
        "outputId": "4a17aa35-5796-4d5c-e8a2-defce1076d01"
      },
      "outputs": [
        {
          "output_type": "stream",
          "name": "stdout",
          "text": [
            "              precision    recall  f1-score   support\n",
            "\n",
            "        CWE0       0.92      0.96      0.94      9785\n",
            "      CWE120       0.91      0.82      0.86      1093\n",
            "      CWE122       0.87      0.90      0.89       286\n",
            "      CWE190       0.87      0.82      0.85      2228\n",
            "      CWE369       0.82      0.74      0.78       705\n",
            "      CWE400       0.89      0.82      0.85      1906\n",
            "      CWE502       1.00      0.62      0.77        24\n",
            "\n",
            "    accuracy                           0.90     16027\n",
            "   macro avg       0.90      0.81      0.85     16027\n",
            "weighted avg       0.90      0.90      0.90     16027\n",
            "\n"
          ]
        }
      ],
      "source": [
        "from sklearn.metrics import classification_report\n",
        "print(classification_report(y_true, y_pred))"
      ]
    },
    {
      "cell_type": "markdown",
      "source": [
        "# **Progressive Bit Search 1st Attempt**\n",
        "\n",
        "1. Select a small batch of data (e.g., 128 samples) from your test set (or a held-out set).\n",
        "2. Enable gradient tracking on the final layer’s weights (e.g., out_proj_layer.weight.requires_grad_(True)).\n",
        "3. Forward pass to compute the classification loss (cross-entropy).\n",
        "4. Backward pass to get gradients with respect to the final layer’s weights.\n",
        "5. Convert those weight gradients to “bit gradients” (similar to the paper’s approach, you’d interpret which bits flipping would yield the largest increase in loss).\n",
        "6. Flip the top N (or top 1) “most critical” bits.\n",
        "7. Update the final layer’s weights with those flipped bits.\n",
        "8. Evaluate on your full test set (or at least a representative portion) to measure the new performance.\n",
        "9. Repeat until you’ve done enough flips or the model’s performance collapses.\n",
        "\n",
        "PBS assumes that bits whose weights have the highest magnitude gradients will yield the biggest loss increase if flipped. Flipping these bits is therefore the most “damaging” to the network.\n",
        "\n",
        "* Forward Pass: Tells you how the model transforms inputs into predictions.\n",
        "* Backward Pass: Tells you how each parameter influenced the final loss, which is crucial for:\n",
        "1. Training (optimizing weights).\n",
        "2. Fault Injection to find which bits in the weights, if flipped, will increase the loss the most.\n",
        "\n",
        "The gradient dLoss/dWeight can show how strongly a weight influences the loss. A large absolute gradient would be considered more important to the inference, compared to a smaller gradient."
      ],
      "metadata": {
        "id": "5hmAdS36oeu6"
      }
    },
    {
      "cell_type": "markdown",
      "source": [
        "## Step 1: Pick a Small Batch of Data\n",
        "\n",
        "Sample random 128 code snippets from our `df_test`, tokenize them, and move them to the appropriate device (CPU or GPU). This small batch will be used for the forward-backward pass to compute gradients in the next step.\n"
      ],
      "metadata": {
        "id": "4NzZTaMdqnOQ"
      }
    },
    {
      "cell_type": "code",
      "source": [
        "import random\n",
        "\n",
        "batch_size = 64\n",
        "# If df_test['code'] is your column with code snippets:\n",
        "random_indices = random.sample(range(len(df_test)), batch_size)\n",
        "subset = df_test.iloc[random_indices]\n",
        "subset.head()"
      ],
      "metadata": {
        "colab": {
          "base_uri": "https://localhost:8080/",
          "height": 206
        },
        "id": "0xe4iHo9qoVK",
        "outputId": "a8676e7e-93c0-45b1-ceee-7cafecf97bd3"
      },
      "execution_count": null,
      "outputs": [
        {
          "output_type": "execute_result",
          "data": {
            "text/plain": [
              "                                                     code CWE-Type  label\n",
              "330857  void elst_del(GF_Box *s)\\n{\\n\\tGF_EditListBox ...   CWE400      1\n",
              "242052  static char *malloc_option_value_string(uint8_...     CWE0      0\n",
              "218868  ConnectionHandlerImpl::ActiveListenerImplBase:...   CWE400      1\n",
              "67379   static inline u32 vm_entry_controls_get(struct...     CWE0      0\n",
              "183837  HttpDownstreamConnection::get_downstream_addr_...     CWE0      0"
            ],
            "text/html": [
              "\n",
              "  <div id=\"df-580f1a12-45af-4e28-ace9-ac9881edda83\" class=\"colab-df-container\">\n",
              "    <div>\n",
              "<style scoped>\n",
              "    .dataframe tbody tr th:only-of-type {\n",
              "        vertical-align: middle;\n",
              "    }\n",
              "\n",
              "    .dataframe tbody tr th {\n",
              "        vertical-align: top;\n",
              "    }\n",
              "\n",
              "    .dataframe thead th {\n",
              "        text-align: right;\n",
              "    }\n",
              "</style>\n",
              "<table border=\"1\" class=\"dataframe\">\n",
              "  <thead>\n",
              "    <tr style=\"text-align: right;\">\n",
              "      <th></th>\n",
              "      <th>code</th>\n",
              "      <th>CWE-Type</th>\n",
              "      <th>label</th>\n",
              "    </tr>\n",
              "  </thead>\n",
              "  <tbody>\n",
              "    <tr>\n",
              "      <th>330857</th>\n",
              "      <td>void elst_del(GF_Box *s)\\n{\\n\\tGF_EditListBox ...</td>\n",
              "      <td>CWE400</td>\n",
              "      <td>1</td>\n",
              "    </tr>\n",
              "    <tr>\n",
              "      <th>242052</th>\n",
              "      <td>static char *malloc_option_value_string(uint8_...</td>\n",
              "      <td>CWE0</td>\n",
              "      <td>0</td>\n",
              "    </tr>\n",
              "    <tr>\n",
              "      <th>218868</th>\n",
              "      <td>ConnectionHandlerImpl::ActiveListenerImplBase:...</td>\n",
              "      <td>CWE400</td>\n",
              "      <td>1</td>\n",
              "    </tr>\n",
              "    <tr>\n",
              "      <th>67379</th>\n",
              "      <td>static inline u32 vm_entry_controls_get(struct...</td>\n",
              "      <td>CWE0</td>\n",
              "      <td>0</td>\n",
              "    </tr>\n",
              "    <tr>\n",
              "      <th>183837</th>\n",
              "      <td>HttpDownstreamConnection::get_downstream_addr_...</td>\n",
              "      <td>CWE0</td>\n",
              "      <td>0</td>\n",
              "    </tr>\n",
              "  </tbody>\n",
              "</table>\n",
              "</div>\n",
              "    <div class=\"colab-df-buttons\">\n",
              "\n",
              "  <div class=\"colab-df-container\">\n",
              "    <button class=\"colab-df-convert\" onclick=\"convertToInteractive('df-580f1a12-45af-4e28-ace9-ac9881edda83')\"\n",
              "            title=\"Convert this dataframe to an interactive table.\"\n",
              "            style=\"display:none;\">\n",
              "\n",
              "  <svg xmlns=\"http://www.w3.org/2000/svg\" height=\"24px\" viewBox=\"0 -960 960 960\">\n",
              "    <path d=\"M120-120v-720h720v720H120Zm60-500h600v-160H180v160Zm220 220h160v-160H400v160Zm0 220h160v-160H400v160ZM180-400h160v-160H180v160Zm440 0h160v-160H620v160ZM180-180h160v-160H180v160Zm440 0h160v-160H620v160Z\"/>\n",
              "  </svg>\n",
              "    </button>\n",
              "\n",
              "  <style>\n",
              "    .colab-df-container {\n",
              "      display:flex;\n",
              "      gap: 12px;\n",
              "    }\n",
              "\n",
              "    .colab-df-convert {\n",
              "      background-color: #E8F0FE;\n",
              "      border: none;\n",
              "      border-radius: 50%;\n",
              "      cursor: pointer;\n",
              "      display: none;\n",
              "      fill: #1967D2;\n",
              "      height: 32px;\n",
              "      padding: 0 0 0 0;\n",
              "      width: 32px;\n",
              "    }\n",
              "\n",
              "    .colab-df-convert:hover {\n",
              "      background-color: #E2EBFA;\n",
              "      box-shadow: 0px 1px 2px rgba(60, 64, 67, 0.3), 0px 1px 3px 1px rgba(60, 64, 67, 0.15);\n",
              "      fill: #174EA6;\n",
              "    }\n",
              "\n",
              "    .colab-df-buttons div {\n",
              "      margin-bottom: 4px;\n",
              "    }\n",
              "\n",
              "    [theme=dark] .colab-df-convert {\n",
              "      background-color: #3B4455;\n",
              "      fill: #D2E3FC;\n",
              "    }\n",
              "\n",
              "    [theme=dark] .colab-df-convert:hover {\n",
              "      background-color: #434B5C;\n",
              "      box-shadow: 0px 1px 3px 1px rgba(0, 0, 0, 0.15);\n",
              "      filter: drop-shadow(0px 1px 2px rgba(0, 0, 0, 0.3));\n",
              "      fill: #FFFFFF;\n",
              "    }\n",
              "  </style>\n",
              "\n",
              "    <script>\n",
              "      const buttonEl =\n",
              "        document.querySelector('#df-580f1a12-45af-4e28-ace9-ac9881edda83 button.colab-df-convert');\n",
              "      buttonEl.style.display =\n",
              "        google.colab.kernel.accessAllowed ? 'block' : 'none';\n",
              "\n",
              "      async function convertToInteractive(key) {\n",
              "        const element = document.querySelector('#df-580f1a12-45af-4e28-ace9-ac9881edda83');\n",
              "        const dataTable =\n",
              "          await google.colab.kernel.invokeFunction('convertToInteractive',\n",
              "                                                    [key], {});\n",
              "        if (!dataTable) return;\n",
              "\n",
              "        const docLinkHtml = 'Like what you see? Visit the ' +\n",
              "          '<a target=\"_blank\" href=https://colab.research.google.com/notebooks/data_table.ipynb>data table notebook</a>'\n",
              "          + ' to learn more about interactive tables.';\n",
              "        element.innerHTML = '';\n",
              "        dataTable['output_type'] = 'display_data';\n",
              "        await google.colab.output.renderOutput(dataTable, element);\n",
              "        const docLink = document.createElement('div');\n",
              "        docLink.innerHTML = docLinkHtml;\n",
              "        element.appendChild(docLink);\n",
              "      }\n",
              "    </script>\n",
              "  </div>\n",
              "\n",
              "\n",
              "<div id=\"df-76cd2c75-40dd-4459-b93d-7b56b079aec0\">\n",
              "  <button class=\"colab-df-quickchart\" onclick=\"quickchart('df-76cd2c75-40dd-4459-b93d-7b56b079aec0')\"\n",
              "            title=\"Suggest charts\"\n",
              "            style=\"display:none;\">\n",
              "\n",
              "<svg xmlns=\"http://www.w3.org/2000/svg\" height=\"24px\"viewBox=\"0 0 24 24\"\n",
              "     width=\"24px\">\n",
              "    <g>\n",
              "        <path d=\"M19 3H5c-1.1 0-2 .9-2 2v14c0 1.1.9 2 2 2h14c1.1 0 2-.9 2-2V5c0-1.1-.9-2-2-2zM9 17H7v-7h2v7zm4 0h-2V7h2v10zm4 0h-2v-4h2v4z\"/>\n",
              "    </g>\n",
              "</svg>\n",
              "  </button>\n",
              "\n",
              "<style>\n",
              "  .colab-df-quickchart {\n",
              "      --bg-color: #E8F0FE;\n",
              "      --fill-color: #1967D2;\n",
              "      --hover-bg-color: #E2EBFA;\n",
              "      --hover-fill-color: #174EA6;\n",
              "      --disabled-fill-color: #AAA;\n",
              "      --disabled-bg-color: #DDD;\n",
              "  }\n",
              "\n",
              "  [theme=dark] .colab-df-quickchart {\n",
              "      --bg-color: #3B4455;\n",
              "      --fill-color: #D2E3FC;\n",
              "      --hover-bg-color: #434B5C;\n",
              "      --hover-fill-color: #FFFFFF;\n",
              "      --disabled-bg-color: #3B4455;\n",
              "      --disabled-fill-color: #666;\n",
              "  }\n",
              "\n",
              "  .colab-df-quickchart {\n",
              "    background-color: var(--bg-color);\n",
              "    border: none;\n",
              "    border-radius: 50%;\n",
              "    cursor: pointer;\n",
              "    display: none;\n",
              "    fill: var(--fill-color);\n",
              "    height: 32px;\n",
              "    padding: 0;\n",
              "    width: 32px;\n",
              "  }\n",
              "\n",
              "  .colab-df-quickchart:hover {\n",
              "    background-color: var(--hover-bg-color);\n",
              "    box-shadow: 0 1px 2px rgba(60, 64, 67, 0.3), 0 1px 3px 1px rgba(60, 64, 67, 0.15);\n",
              "    fill: var(--button-hover-fill-color);\n",
              "  }\n",
              "\n",
              "  .colab-df-quickchart-complete:disabled,\n",
              "  .colab-df-quickchart-complete:disabled:hover {\n",
              "    background-color: var(--disabled-bg-color);\n",
              "    fill: var(--disabled-fill-color);\n",
              "    box-shadow: none;\n",
              "  }\n",
              "\n",
              "  .colab-df-spinner {\n",
              "    border: 2px solid var(--fill-color);\n",
              "    border-color: transparent;\n",
              "    border-bottom-color: var(--fill-color);\n",
              "    animation:\n",
              "      spin 1s steps(1) infinite;\n",
              "  }\n",
              "\n",
              "  @keyframes spin {\n",
              "    0% {\n",
              "      border-color: transparent;\n",
              "      border-bottom-color: var(--fill-color);\n",
              "      border-left-color: var(--fill-color);\n",
              "    }\n",
              "    20% {\n",
              "      border-color: transparent;\n",
              "      border-left-color: var(--fill-color);\n",
              "      border-top-color: var(--fill-color);\n",
              "    }\n",
              "    30% {\n",
              "      border-color: transparent;\n",
              "      border-left-color: var(--fill-color);\n",
              "      border-top-color: var(--fill-color);\n",
              "      border-right-color: var(--fill-color);\n",
              "    }\n",
              "    40% {\n",
              "      border-color: transparent;\n",
              "      border-right-color: var(--fill-color);\n",
              "      border-top-color: var(--fill-color);\n",
              "    }\n",
              "    60% {\n",
              "      border-color: transparent;\n",
              "      border-right-color: var(--fill-color);\n",
              "    }\n",
              "    80% {\n",
              "      border-color: transparent;\n",
              "      border-right-color: var(--fill-color);\n",
              "      border-bottom-color: var(--fill-color);\n",
              "    }\n",
              "    90% {\n",
              "      border-color: transparent;\n",
              "      border-bottom-color: var(--fill-color);\n",
              "    }\n",
              "  }\n",
              "</style>\n",
              "\n",
              "  <script>\n",
              "    async function quickchart(key) {\n",
              "      const quickchartButtonEl =\n",
              "        document.querySelector('#' + key + ' button');\n",
              "      quickchartButtonEl.disabled = true;  // To prevent multiple clicks.\n",
              "      quickchartButtonEl.classList.add('colab-df-spinner');\n",
              "      try {\n",
              "        const charts = await google.colab.kernel.invokeFunction(\n",
              "            'suggestCharts', [key], {});\n",
              "      } catch (error) {\n",
              "        console.error('Error during call to suggestCharts:', error);\n",
              "      }\n",
              "      quickchartButtonEl.classList.remove('colab-df-spinner');\n",
              "      quickchartButtonEl.classList.add('colab-df-quickchart-complete');\n",
              "    }\n",
              "    (() => {\n",
              "      let quickchartButtonEl =\n",
              "        document.querySelector('#df-76cd2c75-40dd-4459-b93d-7b56b079aec0 button');\n",
              "      quickchartButtonEl.style.display =\n",
              "        google.colab.kernel.accessAllowed ? 'block' : 'none';\n",
              "    })();\n",
              "  </script>\n",
              "</div>\n",
              "\n",
              "    </div>\n",
              "  </div>\n"
            ],
            "application/vnd.google.colaboratory.intrinsic+json": {
              "type": "dataframe",
              "variable_name": "subset",
              "summary": "{\n  \"name\": \"subset\",\n  \"rows\": 64,\n  \"fields\": [\n    {\n      \"column\": \"code\",\n      \"properties\": {\n        \"dtype\": \"string\",\n        \"num_unique_values\": 64,\n        \"samples\": [\n          \"bool Item_field::collect_item_field_processor(uchar *arg)\\n{\\n  DBUG_ENTER(\\\"Item_field::collect_item_field_processor\\\");\\n  DBUG_PRINT(\\\"info\\\", (\\\"%s\\\", field->field_name ? field->field_name : \\\"noname\\\"));\\n  List<Item_field> *item_list= (List<Item_field>*) arg;\\n  List_iterator<Item_field> item_list_it(*item_list);\\n  Item_field *curr_item;\\n  while ((curr_item= item_list_it++))\\n  {\\n    if (curr_item->eq(this, 1))\\n      DBUG_RETURN(FALSE); /* Already in the set. */\\n  }\\n  item_list->push_back(this);\\n  DBUG_RETURN(FALSE);\\n}\",\n          \"ciEnv::ciEnv(CompileTask* task)\\n  : _ciEnv_arena(mtCompiler) {\\n  VM_ENTRY_MARK;\\n\\n  // Set up ciEnv::current immediately, for the sake of ciObjectFactory, etc.\\n  thread->set_env(this);\\n  assert(ciEnv::current() == this, \\\"sanity\\\");\\n\\n  _oop_recorder = NULL;\\n  _debug_info = NULL;\\n  _dependencies = NULL;\\n  _failure_reason = NULL;\\n  _inc_decompile_count_on_failure = true;\\n  _compilable = MethodCompilable;\\n  _break_at_compile = false;\\n  _compiler_data = NULL;\\n#ifndef PRODUCT\\n  assert(!firstEnv, \\\"not initialized properly\\\");\\n#endif /* !PRODUCT */\\n\\n  _num_inlined_bytecodes = 0;\\n  assert(task == NULL || thread->task() == task, \\\"sanity\\\");\\n  if (task != NULL) {\\n    task->mark_started(os::elapsed_counter());\\n  }\\n  _task = task;\\n  _log = NULL;\\n\\n  // Temporary buffer for creating symbols and such.\\n  _name_buffer = NULL;\\n  _name_buffer_len = 0;\\n\\n  _arena   = &_ciEnv_arena;\\n  _factory = new (_arena) ciObjectFactory(_arena, 128);\\n\\n  // Preload commonly referenced system ciObjects.\\n\\n  // During VM initialization, these instances have not yet been created.\\n  // Assertions ensure that these instances are not accessed before\\n  // their initialization.\\n\\n  assert(Universe::is_fully_initialized(), \\\"should be complete\\\");\\n\\n  oop o = Universe::null_ptr_exception_instance();\\n  assert(o != NULL, \\\"should have been initialized\\\");\\n  _NullPointerException_instance = get_object(o)->as_instance();\\n  o = Universe::arithmetic_exception_instance();\\n  assert(o != NULL, \\\"should have been initialized\\\");\\n  _ArithmeticException_instance = get_object(o)->as_instance();\\n\\n  _ArrayIndexOutOfBoundsException_instance = NULL;\\n  _ArrayStoreException_instance = NULL;\\n  _ClassCastException_instance = NULL;\\n  _the_null_string = NULL;\\n  _the_min_jint_string = NULL;\\n\\n  _jvmti_redefinition_count = 0;\\n  _jvmti_can_hotswap_or_post_breakpoint = false;\\n  _jvmti_can_access_local_variables = false;\\n  _jvmti_can_post_on_exceptions = false;\\n  _jvmti_can_pop_frame = false;\\n}\",\n          \"void elst_del(GF_Box *s)\\n{\\n\\tGF_EditListBox *ptr;\\n\\tGF_EdtsEntry *p;\\n\\tu32 nb_entries;\\n\\tu32 i;\\n\\n\\tptr = (GF_EditListBox *)s;\\n\\tif (ptr == NULL) return;\\n\\tnb_entries = gf_list_count(ptr->entryList);\\n\\tfor (i = 0; i < nb_entries; i++) {\\n\\t\\tp = (GF_EdtsEntry*)gf_list_get(ptr->entryList, i);\\n\\t\\tif (p) gf_free(p);\\n\\t}\\n\\tgf_list_del(ptr->entryList);\\n\\tgf_free(ptr);\\n}\"\n        ],\n        \"semantic_type\": \"\",\n        \"description\": \"\"\n      }\n    },\n    {\n      \"column\": \"CWE-Type\",\n      \"properties\": {\n        \"dtype\": \"category\",\n        \"num_unique_values\": 5,\n        \"samples\": [\n          \"CWE0\",\n          \"CWE369\",\n          \"CWE190\"\n        ],\n        \"semantic_type\": \"\",\n        \"description\": \"\"\n      }\n    },\n    {\n      \"column\": \"label\",\n      \"properties\": {\n        \"dtype\": \"number\",\n        \"std\": 1,\n        \"min\": 0,\n        \"max\": 4,\n        \"num_unique_values\": 5,\n        \"samples\": [\n          0,\n          4,\n          3\n        ],\n        \"semantic_type\": \"\",\n        \"description\": \"\"\n      }\n    }\n  ]\n}"
            }
          },
          "metadata": {},
          "execution_count": 27
        }
      ]
    },
    {
      "cell_type": "markdown",
      "source": [
        "tokenize the subset as earlier:"
      ],
      "metadata": {
        "id": "Luot8j4Dt8nS"
      }
    },
    {
      "cell_type": "code",
      "source": [
        "inputs = tokenizer(\n",
        "    list(subset['code']),      # Convert the column to a list\n",
        "    truncation=True,\n",
        "    padding=True,\n",
        "    return_tensors='pt'\n",
        ").to(device)                   # Move tensors to the same device as the model\n"
      ],
      "metadata": {
        "id": "03GKIkrHt_Lk"
      },
      "execution_count": null,
      "outputs": []
    },
    {
      "cell_type": "code",
      "source": [
        "with torch.no_grad():\n",
        "    outputs = model(**inputs)\n",
        "    logits = outputs.logits\n",
        "print(\"Logits shape:\", logits.shape)\n"
      ],
      "metadata": {
        "colab": {
          "base_uri": "https://localhost:8080/"
        },
        "id": "nQK-ugvNuC2U",
        "outputId": "48367b8a-d2b7-4022-8bb0-f91eb5e52182"
      },
      "execution_count": null,
      "outputs": [
        {
          "output_type": "stream",
          "name": "stdout",
          "text": [
            "Logits shape: torch.Size([64, 7])\n"
          ]
        }
      ]
    },
    {
      "cell_type": "code",
      "source": [
        "import torch\n",
        "import numpy as np\n",
        "\n",
        "model.to(\"cpu\")\n",
        "model.train()\n",
        "model.zero_grad()\n",
        "\n",
        "# Suppose you have 'df_test_subset' with 128 rows and columns ['code', 'label']\n",
        "codes = subset[\"code\"].tolist()\n",
        "labels = subset[\"label\"].tolist()\n",
        "\n",
        "inputs_cpu = tokenizer(\n",
        "    codes,\n",
        "    truncation=True,\n",
        "    padding=True,\n",
        "    return_tensors=\"pt\"\n",
        ")\n",
        "\n",
        "# Convert labels to a torch tensor\n",
        "labels_tensor = torch.tensor(labels, dtype=torch.long)\n",
        "inputs_cpu[\"labels\"] = labels_tensor\n",
        "\n",
        "# Move everything to CPU\n",
        "for k, v in inputs_cpu.items():\n",
        "    inputs_cpu[k] = v.to(\"cpu\")\n",
        "\n",
        "# Forward pass with labels\n",
        "outputs = model(**inputs_cpu)\n",
        "loss = outputs.loss  # Now this exists!\n",
        "print(\"Loss before bit flipping (CPU):\", loss.item())\n",
        "\n",
        "# Backward pass\n",
        "loss.backward()\n",
        "...\n"
      ],
      "metadata": {
        "id": "a3ztcYm7uvaP"
      },
      "execution_count": null,
      "outputs": []
    },
    {
      "cell_type": "code",
      "source": [
        "out_proj_grad = model.classifier.out_proj.weight.grad\n",
        "print(\"Gradient shape:\", out_proj_grad.shape)\n"
      ],
      "metadata": {
        "id": "47dUJ2JU4w2H"
      },
      "execution_count": null,
      "outputs": []
    },
    {
      "cell_type": "code",
      "source": [
        "import numpy as np\n",
        "import torch\n",
        "\n",
        "###############################################\n",
        "# 1) Retrieve the gradient of the final layer\n",
        "###############################################\n",
        "out_proj_grad = model.classifier.out_proj.weight.grad\n",
        "print(\"Gradient shape:\", out_proj_grad.shape)\n",
        "\n",
        "###############################################\n",
        "# 2) Convert the layer's weights & gradient to NumPy\n",
        "###############################################\n",
        "grad_np = out_proj_grad.detach().numpy()        # float32 array, shape: [num_classes, hidden_size]\n",
        "out_proj_weights = model.classifier.out_proj.weight.data.detach().numpy()  # same shape, float32\n",
        "\n",
        "###############################################\n",
        "# 3) Rank entire weights by abs(gradient)\n",
        "###############################################\n",
        "grad_flat = grad_np.flatten()\n",
        "weights_flat = out_proj_weights.flatten()\n",
        "\n",
        "K = 70  # Number of weights to flip\n",
        "sorted_indices = np.argsort(-np.abs(grad_flat))  # descending sort by absolute gradient\n",
        "top_k_indices = sorted_indices[:K]\n",
        "print(f\"Flipping bits in the top {K} weights by abs(gradient).\")\n",
        "\n",
        "###############################################\n",
        "# 4) Flip the sign bit (bit 31) in those K weights\n",
        "###############################################\n",
        "# (a) Interpret float32 array as uint32\n",
        "weights_uint = out_proj_weights.view(np.uint32)   # same shape, but as uint32\n",
        "weights_uint_flat = weights_uint.flatten()\n",
        "\n",
        "# (b) XOR the sign bit\n",
        "sign_bit_position = 31\n",
        "mask = 1 << sign_bit_position\n",
        "for idx in top_k_indices:\n",
        "    weights_uint_flat[idx] ^= mask\n",
        "\n",
        "###############################################\n",
        "# 5) Update the model with modified weights\n",
        "###############################################\n",
        "modified_weights_uint = weights_uint_flat.reshape(weights_uint.shape)\n",
        "modified_weights_fp32 = modified_weights_uint.view(np.float32)\n",
        "\n",
        "# Copy back into the model\n",
        "model.classifier.out_proj.weight.data.copy_(\n",
        "    torch.tensor(modified_weights_fp32, dtype=torch.float32)\n",
        ")\n",
        "print(\"Bit flipping complete. The final projection layer has been updated.\")\n"
      ],
      "metadata": {
        "id": "dmvZy7eJ5Pqc"
      },
      "execution_count": null,
      "outputs": []
    },
    {
      "cell_type": "markdown",
      "source": [
        "evaluate the flipped model, same as the baseline evaluation was done:"
      ],
      "metadata": {
        "id": "f6g1TJg36GtS"
      }
    },
    {
      "cell_type": "code",
      "source": [
        "device = \"cuda\"\n",
        "model.to(device)\n",
        "preds = []\n",
        "for code_snippet in df_test['code'].values:\n",
        "    with torch.no_grad():\n",
        "        inputs = tokenizer(code_snippet, return_tensors=\"pt\", truncation=True).to(device)\n",
        "        logits = model(**inputs).logits\n",
        "        predicted_class_id = logits.argmax().item()\n",
        "        preds.append(predicted_class_id)\n",
        "\n",
        "y_true = [id2label[i] for i in df_test['label'].values]\n",
        "y_pred = [id2label[i] for i in preds]\n",
        "\n",
        "from sklearn.metrics import classification_report\n",
        "print(classification_report(y_true, y_pred))\n"
      ],
      "metadata": {
        "id": "UiFyzyr76Cjt"
      },
      "execution_count": null,
      "outputs": []
    },
    {
      "cell_type": "markdown",
      "source": [
        "above, we ensured the batch size is correct size and every label is represented in it."
      ],
      "metadata": {
        "id": "vLQddWYfuAb2"
      }
    },
    {
      "cell_type": "markdown",
      "source": [],
      "metadata": {
        "id": "BLISDOKRuGaO"
      }
    },
    {
      "cell_type": "markdown",
      "source": [],
      "metadata": {
        "id": "8QTUTGAZuAdd"
      }
    },
    {
      "cell_type": "markdown",
      "source": [],
      "metadata": {
        "id": "GGljyIufuAgE"
      }
    },
    {
      "cell_type": "markdown",
      "source": [],
      "metadata": {
        "id": "QwuAt2rluAi2"
      }
    },
    {
      "cell_type": "markdown",
      "source": [],
      "metadata": {
        "id": "0JpCpuLduAl1"
      }
    },
    {
      "cell_type": "markdown",
      "source": [],
      "metadata": {
        "id": "kSoZONl_uAny"
      }
    },
    {
      "cell_type": "markdown",
      "source": [],
      "metadata": {
        "id": "IlCAJxB0uAqI"
      }
    },
    {
      "cell_type": "markdown",
      "source": [],
      "metadata": {
        "id": "6JDDub2EuAsB"
      }
    },
    {
      "cell_type": "markdown",
      "source": [],
      "metadata": {
        "id": "lZJAlmKBuAvg"
      }
    },
    {
      "cell_type": "markdown",
      "metadata": {
        "id": "foYA6XNH_sNW"
      },
      "source": [
        "### inspect model structure"
      ]
    },
    {
      "cell_type": "code",
      "execution_count": null,
      "metadata": {
        "id": "rlp9EVuI_yYV"
      },
      "outputs": [],
      "source": [
        "for name, param in model.named_parameters():\n",
        "    print(name)\n"
      ]
    },
    {
      "cell_type": "markdown",
      "metadata": {
        "id": "mIq395KT_119"
      },
      "source": [
        "### Accessing the final classification layer - out_proj_weights\n",
        "\n",
        "\n",
        "\n"
      ]
    },
    {
      "cell_type": "code",
      "execution_count": null,
      "metadata": {
        "id": "FezwlmV-_5WF"
      },
      "outputs": [],
      "source": [
        "# Access the first linear layer in the classifier (dense layer)\n",
        "#dense_layer = model.classifier.dense\n",
        "#dense_weights = dense_layer.weight.data\n",
        "\n",
        "# Access the final projection layer (out_proj)\n",
        "#out_proj_layer = model.classifier.out_proj\n",
        "#out_proj_weights = out_proj_layer.weight.data\n"
      ]
    },
    {
      "cell_type": "code",
      "execution_count": null,
      "metadata": {
        "id": "4wri_FhHJ6gL"
      },
      "outputs": [],
      "source": [
        "target_layer = \"classifier.out_proj.weight\""
      ]
    },
    {
      "cell_type": "code",
      "execution_count": null,
      "metadata": {
        "id": "_56-B3DPKlx8",
        "colab": {
          "base_uri": "https://localhost:8080/"
        },
        "outputId": "f7864bd2-d7c6-4607-f910-53cb12f29f42"
      },
      "outputs": [
        {
          "output_type": "stream",
          "name": "stdout",
          "text": [
            "Weights shape: (7, 768)\n",
            "First 5 binary representations:\n",
            "['00111001110111110001010001001100' '00111100111110000010111110011110'\n",
            " '10111101001110000110011011010001' '10111011010010110111001100110110'\n",
            " '00111011101000101110110110001110']\n"
          ]
        }
      ],
      "source": [
        "import numpy as np\n",
        "import torch\n",
        "\n",
        "# access out_proj layer weights\n",
        "out_proj_layer = model.classifier.out_proj\n",
        "out_proj_weights = out_proj_layer.weight.data  #  torch.Tensor\n",
        "\n",
        "weights_fp32 = out_proj_weights.float() #coonversion to float32\n",
        "\n",
        "weights_np = weights_fp32.cpu().detach().numpy() #convert to numpy\n",
        "\n",
        "weights_uint = weights_np.view(np.uint32) # bit-level representation for each flaot 32 value\n",
        "\n",
        "binary_repr = np.vectorize(lambda x: format(x, '032b'))(weights_uint)\n",
        "\n",
        "print(\"Weights shape:\", weights_np.shape)\n",
        "print(\"First 5 binary representations:\")\n",
        "print(binary_repr.flatten()[:5])\n"
      ]
    },
    {
      "cell_type": "markdown",
      "source": [
        "### The key idea is to iteratively flip an increasing number of bits in the final classification layer to see the effect on classification performance.\n",
        "\n",
        "* First iteration will flip 20 bits at random positions, using XOR operation"
      ],
      "metadata": {
        "id": "e2cPRSm8AkHA"
      }
    },
    {
      "cell_type": "code",
      "execution_count": null,
      "metadata": {
        "id": "c6MaPlcBM0l4",
        "colab": {
          "base_uri": "https://localhost:8080/"
        },
        "outputId": "611f091e-18c6-478b-f91c-6627b798be38"
      },
      "outputs": [
        {
          "output_type": "stream",
          "name": "stdout",
          "text": [
            "Flipping bit 17 at position (row=0, col=759)\n",
            "Flipping bit 8 at position (row=1, col=228)\n",
            "Flipping bit 5 at position (row=5, col=104)\n",
            "Flipping bit 2 at position (row=4, col=432)\n",
            "Flipping bit 13 at position (row=0, col=95)\n",
            "Flipping bit 1 at position (row=1, col=517)\n",
            "Flipping bit 26 at position (row=4, col=203)\n",
            "Flipping bit 17 at position (row=1, col=459)\n",
            "Flipping bit 10 at position (row=6, col=6)\n",
            "Flipping bit 21 at position (row=5, col=432)\n",
            "Flipping bit 13 at position (row=2, col=159)\n",
            "Flipping bit 6 at position (row=6, col=344)\n",
            "Flipping bit 6 at position (row=0, col=389)\n",
            "Flipping bit 16 at position (row=2, col=352)\n",
            "Flipping bit 29 at position (row=6, col=44)\n",
            "Flipping bit 24 at position (row=4, col=127)\n",
            "Flipping bit 18 at position (row=0, col=565)\n",
            "Flipping bit 23 at position (row=6, col=643)\n",
            "Flipping bit 4 at position (row=4, col=196)\n",
            "Flipping bit 14 at position (row=0, col=677)\n",
            "20 bit flips performed and model weights updated.\n"
          ]
        }
      ],
      "source": [
        "import random\n",
        "\n",
        "num_flips = 20\n",
        "num_rows, num_cols = weights_uint.shape\n",
        "\n",
        "for i in range(num_flips):\n",
        "    row = random.randint(0, num_rows - 1)\n",
        "    col = random.randint(0, num_cols - 1)\n",
        "    bit_position = random.randint(0, 31)\n",
        "    print(f\"Flipping bit {bit_position} at position (row={row}, col={col})\")\n",
        "\n",
        "    # Create a mask for the chosen bit and flip it using XOR\n",
        "    mask = 1 << bit_position\n",
        "    weights_uint[row, col] ^= mask\n",
        "\n",
        "# Convert the modified binary representation back to float32\n",
        "modified_weights_np = weights_uint.view(np.float32)\n",
        "\n",
        "# Update the model's out_proj layer weights with the modified weights\n",
        "out_proj_layer.weight.data.copy_(torch.tensor(modified_weights_np, dtype=weights_fp32.dtype))\n",
        "\n",
        "print(\"20 bit flips performed and model weights updated.\")\n"
      ]
    },
    {
      "cell_type": "code",
      "execution_count": null,
      "metadata": {
        "id": "T5mFaVkKNoLP"
      },
      "outputs": [],
      "source": [
        "device = 'cuda' if torch.cuda.is_available() else 'cpu'\n",
        "\n",
        "preds = []\n",
        "for i in df_test['code'].values:\n",
        "    with torch.no_grad():\n",
        "        inputs = tokenizer(i, return_tensors=\"pt\",  truncation=True).to(device)\n",
        "        logits = model(**inputs).logits\n",
        "        predicted_class_id = logits.argmax().item()\n",
        "        preds.append(predicted_class_id)"
      ]
    },
    {
      "cell_type": "code",
      "execution_count": null,
      "metadata": {
        "id": "Y7KrzA8tNqYf"
      },
      "outputs": [],
      "source": [
        "y_true = [id2label[i] for i in df_test['label'].values]\n",
        "y_pred = [id2label[i] for i in preds]"
      ]
    },
    {
      "cell_type": "code",
      "execution_count": null,
      "metadata": {
        "id": "KOBAnYS5NrLP",
        "colab": {
          "base_uri": "https://localhost:8080/"
        },
        "outputId": "ecfb02fb-2b4b-4531-d152-6bdba21ed9a1"
      },
      "outputs": [
        {
          "output_type": "stream",
          "name": "stdout",
          "text": [
            "              precision    recall  f1-score   support\n",
            "\n",
            "        CWE0       0.95      0.96      0.96      9785\n",
            "      CWE120       0.91      0.89      0.90      1093\n",
            "      CWE122       0.88      0.90      0.89       286\n",
            "      CWE190       0.91      0.84      0.87      2228\n",
            "      CWE369       0.77      0.89      0.83       705\n",
            "      CWE400       0.90      0.90      0.90      1906\n",
            "      CWE502       1.00      0.75      0.86        24\n",
            "\n",
            "    accuracy                           0.93     16027\n",
            "   macro avg       0.90      0.88      0.89     16027\n",
            "weighted avg       0.93      0.93      0.93     16027\n",
            "\n"
          ]
        }
      ],
      "source": [
        "from sklearn.metrics import classification_report\n",
        "#print('CLassification Report - 20 bit flips (classification layer))\n",
        "print(classification_report(y_true, y_pred))"
      ]
    },
    {
      "cell_type": "markdown",
      "source": [
        "### Iteration 2.0: Flipping additional 10 bits (30 total)"
      ],
      "metadata": {
        "id": "hhvShY9DBbXx"
      }
    },
    {
      "cell_type": "code",
      "source": [
        "import random\n",
        "\n",
        "num_flips = 10\n",
        "num_rows, num_cols = weights_uint.shape\n",
        "\n",
        "for i in range(num_flips):\n",
        "    row = random.randint(0, num_rows - 1)\n",
        "    col = random.randint(0, num_cols - 1)\n",
        "    bit_position = random.randint(0, 31)\n",
        "    print(f\"Flipping bit {bit_position} at position (row={row}, col={col})\")\n",
        "\n",
        "    # Create a mask for the chosen bit and flip it using XOR\n",
        "    mask = 1 << bit_position\n",
        "    weights_uint[row, col] ^= mask\n",
        "\n",
        "# Convert the modified binary representation back to float32\n",
        "modified_weights_np = weights_uint.view(np.float32)\n",
        "\n",
        "# Update the model's out_proj layer weights with the modified weights\n",
        "out_proj_layer.weight.data.copy_(torch.tensor(modified_weights_np, dtype=weights_fp32.dtype))\n",
        "\n",
        "print(\"10 more bit flips performed and model weights updated.\")\n",
        "print(\"Total of 30 bits have been flipped\")\n"
      ],
      "metadata": {
        "id": "7NB86v20BfBb",
        "colab": {
          "base_uri": "https://localhost:8080/"
        },
        "outputId": "2aaa029d-55c1-4167-b205-89ea7f1b9eb4"
      },
      "execution_count": null,
      "outputs": [
        {
          "output_type": "stream",
          "name": "stdout",
          "text": [
            "Flipping bit 5 at position (row=6, col=296)\n",
            "Flipping bit 6 at position (row=6, col=238)\n",
            "Flipping bit 29 at position (row=3, col=284)\n",
            "Flipping bit 10 at position (row=5, col=373)\n",
            "Flipping bit 13 at position (row=2, col=363)\n",
            "Flipping bit 4 at position (row=5, col=273)\n",
            "Flipping bit 10 at position (row=4, col=650)\n",
            "Flipping bit 15 at position (row=4, col=746)\n",
            "Flipping bit 24 at position (row=1, col=473)\n",
            "Flipping bit 14 at position (row=2, col=655)\n",
            "10 more bit flips performed and model weights updated.\n",
            "Total of 30 bits have been flipped\n"
          ]
        }
      ]
    },
    {
      "cell_type": "code",
      "source": [
        "device = 'cuda' if torch.cuda.is_available() else 'cpu'\n",
        "\n",
        "preds = []\n",
        "for i in df_test['code'].values:\n",
        "    with torch.no_grad():\n",
        "        inputs = tokenizer(i, return_tensors=\"pt\",  truncation=True).to(device)\n",
        "        logits = model(**inputs).logits\n",
        "        predicted_class_id = logits.argmax().item()\n",
        "        preds.append(predicted_class_id)\n",
        "\n",
        "\n",
        "y_true = [id2label[i] for i in df_test['label'].values]\n",
        "y_pred = [id2label[i] for i in preds]\n",
        "\n",
        "from sklearn.metrics import classification_report\n",
        "print(classification_report(y_true, y_pred))\n",
        "print(\"Total of 30 bits have been flipped\")\n"
      ],
      "metadata": {
        "id": "pzzzlBXPBl4O",
        "colab": {
          "base_uri": "https://localhost:8080/"
        },
        "outputId": "a88710ec-3b6f-41d5-bdcf-32c4da88f59f"
      },
      "execution_count": null,
      "outputs": [
        {
          "output_type": "stream",
          "name": "stdout",
          "text": [
            "              precision    recall  f1-score   support\n",
            "\n",
            "        CWE0       0.95      0.96      0.96      9785\n",
            "      CWE120       0.91      0.89      0.90      1093\n",
            "      CWE122       0.88      0.90      0.89       286\n",
            "      CWE190       0.91      0.84      0.87      2228\n",
            "      CWE369       0.77      0.89      0.83       705\n",
            "      CWE400       0.90      0.90      0.90      1906\n",
            "      CWE502       1.00      0.75      0.86        24\n",
            "\n",
            "    accuracy                           0.93     16027\n",
            "   macro avg       0.90      0.88      0.89     16027\n",
            "weighted avg       0.93      0.93      0.93     16027\n",
            "\n",
            "Total of 30 bits have been flipped\n"
          ]
        }
      ]
    },
    {
      "cell_type": "markdown",
      "source": [
        "### Iteration 3.0: Flipping 10 more bits (40 total)"
      ],
      "metadata": {
        "id": "VLu3ktk9Btte"
      }
    },
    {
      "cell_type": "code",
      "source": [
        "import random\n",
        "\n",
        "num_flips = 10\n",
        "num_rows, num_cols = weights_uint.shape\n",
        "\n",
        "for i in range(num_flips):\n",
        "    row = random.randint(0, num_rows - 1)\n",
        "    col = random.randint(0, num_cols - 1)\n",
        "    bit_position = random.randint(0, 31)\n",
        "    print(f\"Flipping bit {bit_position} at position (row={row}, col={col})\")\n",
        "\n",
        "    # Create a mask for the chosen bit and flip it using XOR\n",
        "    mask = 1 << bit_position\n",
        "    weights_uint[row, col] ^= mask\n",
        "\n",
        "# Convert the modified binary representation back to float32\n",
        "modified_weights_np = weights_uint.view(np.float32)\n",
        "\n",
        "# Update the model's out_proj layer weights with the modified weights\n",
        "out_proj_layer.weight.data.copy_(torch.tensor(modified_weights_np, dtype=weights_fp32.dtype))\n",
        "\n",
        "print(\"10 more bit flips performed and model weights updated.\")\n",
        "print(\"Total of 40 bits have been flipped\")\n",
        "\n"
      ],
      "metadata": {
        "id": "5nSTNXK2By-v",
        "colab": {
          "base_uri": "https://localhost:8080/"
        },
        "outputId": "e3a60426-82b2-4119-924d-7f62d80831b9"
      },
      "execution_count": null,
      "outputs": [
        {
          "output_type": "stream",
          "name": "stdout",
          "text": [
            "Flipping bit 3 at position (row=5, col=332)\n",
            "Flipping bit 20 at position (row=1, col=32)\n",
            "Flipping bit 4 at position (row=3, col=274)\n",
            "Flipping bit 20 at position (row=1, col=580)\n",
            "Flipping bit 31 at position (row=1, col=671)\n",
            "Flipping bit 29 at position (row=3, col=658)\n",
            "Flipping bit 8 at position (row=1, col=271)\n",
            "Flipping bit 16 at position (row=1, col=762)\n",
            "Flipping bit 27 at position (row=5, col=598)\n",
            "Flipping bit 23 at position (row=4, col=408)\n",
            "10 more bit flips performed and model weights updated.\n",
            "Total of 40 bits have been flipped\n"
          ]
        }
      ]
    },
    {
      "cell_type": "code",
      "source": [
        "device = 'cuda' if torch.cuda.is_available() else 'cpu'\n",
        "\n",
        "preds = []\n",
        "for i in df_test['code'].values:\n",
        "    with torch.no_grad():\n",
        "        inputs = tokenizer(i, return_tensors=\"pt\",  truncation=True).to(device)\n",
        "        logits = model(**inputs).logits\n",
        "        predicted_class_id = logits.argmax().item()\n",
        "        preds.append(predicted_class_id)\n",
        "\n",
        "\n",
        "y_true = [id2label[i] for i in df_test['label'].values]\n",
        "y_pred = [id2label[i] for i in preds]\n",
        "\n",
        "from sklearn.metrics import classification_report\n",
        "print(classification_report(y_true, y_pred))\n",
        "print(\"Total of 40 bits have been flipped\")\n"
      ],
      "metadata": {
        "id": "a5wTxIxUB3Rq",
        "colab": {
          "base_uri": "https://localhost:8080/"
        },
        "outputId": "8f3aef56-e0a9-4309-9b5d-a9b3bb152777"
      },
      "execution_count": null,
      "outputs": [
        {
          "output_type": "stream",
          "name": "stdout",
          "text": [
            "              precision    recall  f1-score   support\n",
            "\n",
            "        CWE0       0.95      0.96      0.96      9785\n",
            "      CWE120       0.91      0.89      0.90      1093\n",
            "      CWE122       0.88      0.90      0.89       286\n",
            "      CWE190       0.91      0.84      0.88      2228\n",
            "      CWE369       0.77      0.89      0.83       705\n",
            "      CWE400       0.90      0.90      0.90      1906\n",
            "      CWE502       1.00      0.75      0.86        24\n",
            "\n",
            "    accuracy                           0.93     16027\n",
            "   macro avg       0.90      0.88      0.89     16027\n",
            "weighted avg       0.93      0.93      0.93     16027\n",
            "\n",
            "Total of 40 bits have been flipped\n"
          ]
        }
      ]
    },
    {
      "cell_type": "markdown",
      "source": [
        "### Iteration 4.0: Flipping 10 more random bits (50 total)"
      ],
      "metadata": {
        "id": "QPLQuuUGB6MN"
      }
    },
    {
      "cell_type": "code",
      "source": [
        "import random\n",
        "\n",
        "num_flips = 10\n",
        "num_rows, num_cols = weights_uint.shape\n",
        "\n",
        "for i in range(num_flips):\n",
        "    row = random.randint(0, num_rows - 1)\n",
        "    col = random.randint(0, num_cols - 1)\n",
        "    bit_position = random.randint(0, 31)\n",
        "    print(f\"Flipping bit {bit_position} at position (row={row}, col={col})\")\n",
        "\n",
        "    # Create a mask for the chosen bit and flip it using XOR\n",
        "    mask = 1 << bit_position\n",
        "    weights_uint[row, col] ^= mask\n",
        "\n",
        "# Convert the modified binary representation back to float32\n",
        "modified_weights_np = weights_uint.view(np.float32)\n",
        "\n",
        "# Update the model's out_proj layer weights with the modified weights\n",
        "out_proj_layer.weight.data.copy_(torch.tensor(modified_weights_np, dtype=weights_fp32.dtype))\n",
        "\n",
        "print(\"50 bit flips performed and model weights updated.\")\n",
        "print(\"Total of 50 bits have been flipped\")\n"
      ],
      "metadata": {
        "id": "KQLe50k-CBGP",
        "colab": {
          "base_uri": "https://localhost:8080/"
        },
        "outputId": "4628395d-1f56-445f-ec4e-bc19292e345d"
      },
      "execution_count": null,
      "outputs": [
        {
          "output_type": "stream",
          "name": "stdout",
          "text": [
            "Flipping bit 31 at position (row=1, col=141)\n",
            "Flipping bit 7 at position (row=0, col=48)\n",
            "Flipping bit 10 at position (row=1, col=642)\n",
            "Flipping bit 27 at position (row=6, col=696)\n",
            "Flipping bit 24 at position (row=4, col=65)\n",
            "Flipping bit 29 at position (row=3, col=610)\n",
            "Flipping bit 0 at position (row=4, col=257)\n",
            "Flipping bit 7 at position (row=5, col=738)\n",
            "Flipping bit 17 at position (row=5, col=549)\n",
            "Flipping bit 21 at position (row=6, col=656)\n",
            "50 bit flips performed and model weights updated.\n",
            "Total of 50 bits have been flipped\n"
          ]
        }
      ]
    },
    {
      "cell_type": "code",
      "source": [
        "device = 'cuda' if torch.cuda.is_available() else 'cpu'\n",
        "\n",
        "preds = []\n",
        "for i in df_test['code'].values:\n",
        "    with torch.no_grad():\n",
        "        inputs = tokenizer(i, return_tensors=\"pt\",  truncation=True).to(device)\n",
        "        logits = model(**inputs).logits\n",
        "        predicted_class_id = logits.argmax().item()\n",
        "        preds.append(predicted_class_id)\n",
        "\n",
        "\n",
        "y_true = [id2label[i] for i in df_test['label'].values]\n",
        "y_pred = [id2label[i] for i in preds]\n",
        "\n",
        "from sklearn.metrics import classification_report\n",
        "print(classification_report(y_true, y_pred))\n",
        "print(\"Total of 50 bits have been flipped\")\n"
      ],
      "metadata": {
        "id": "FsxqVckuCDry",
        "colab": {
          "base_uri": "https://localhost:8080/"
        },
        "outputId": "f307172d-2660-41e5-afda-bc3800d6e342"
      },
      "execution_count": null,
      "outputs": [
        {
          "output_type": "stream",
          "name": "stdout",
          "text": [
            "              precision    recall  f1-score   support\n",
            "\n",
            "        CWE0       0.95      0.96      0.95      9785\n",
            "      CWE120       0.91      0.89      0.90      1093\n",
            "      CWE122       0.88      0.90      0.89       286\n",
            "      CWE190       0.91      0.84      0.87      2228\n",
            "      CWE369       0.76      0.90      0.82       705\n",
            "      CWE400       0.90      0.90      0.90      1906\n",
            "      CWE502       1.00      0.75      0.86        24\n",
            "\n",
            "    accuracy                           0.93     16027\n",
            "   macro avg       0.90      0.88      0.89     16027\n",
            "weighted avg       0.93      0.93      0.93     16027\n",
            "\n",
            "Total of 50 bits have been flipped\n"
          ]
        }
      ]
    },
    {
      "cell_type": "markdown",
      "source": [
        "### Iteration 5.0: Flipping 10 more bits (60 total)"
      ],
      "metadata": {
        "id": "_5xR5qZzCF3o"
      }
    },
    {
      "cell_type": "code",
      "source": [
        "import random\n",
        "\n",
        "num_flips = 10\n",
        "num_rows, num_cols = weights_uint.shape\n",
        "\n",
        "for i in range(num_flips):\n",
        "    row = random.randint(0, num_rows - 1)\n",
        "    col = random.randint(0, num_cols - 1)\n",
        "    bit_position = random.randint(0, 31)\n",
        "    print(f\"Flipping bit {bit_position} at position (row={row}, col={col})\")\n",
        "\n",
        "    # Create a mask for the chosen bit and flip it using XOR\n",
        "    mask = 1 << bit_position\n",
        "    weights_uint[row, col] ^= mask\n",
        "\n",
        "# Convert the modified binary representation back to float32\n",
        "modified_weights_np = weights_uint.view(np.float32)\n",
        "\n",
        "# Update the model's out_proj layer weights with the modified weights\n",
        "out_proj_layer.weight.data.copy_(torch.tensor(modified_weights_np, dtype=weights_fp32.dtype))\n",
        "\n",
        "print(\"60 bit flips performed and model weights updated.\")\n",
        "print(\"Total of 60 bits have been flipped\")\n"
      ],
      "metadata": {
        "id": "9WwcCYETCLO4",
        "colab": {
          "base_uri": "https://localhost:8080/"
        },
        "outputId": "69141320-f01f-49d0-a7fb-3009afddf27b"
      },
      "execution_count": null,
      "outputs": [
        {
          "output_type": "stream",
          "name": "stdout",
          "text": [
            "Flipping bit 27 at position (row=0, col=300)\n",
            "Flipping bit 0 at position (row=1, col=464)\n",
            "Flipping bit 16 at position (row=5, col=736)\n",
            "Flipping bit 6 at position (row=4, col=182)\n",
            "Flipping bit 19 at position (row=6, col=640)\n",
            "Flipping bit 12 at position (row=6, col=654)\n",
            "Flipping bit 10 at position (row=1, col=382)\n",
            "Flipping bit 0 at position (row=4, col=543)\n",
            "Flipping bit 31 at position (row=4, col=331)\n",
            "Flipping bit 23 at position (row=0, col=114)\n",
            "60 bit flips performed and model weights updated.\n",
            "Total of 60 bits have been flipped\n"
          ]
        }
      ]
    },
    {
      "cell_type": "code",
      "source": [
        "device = 'cuda' if torch.cuda.is_available() else 'cpu'\n",
        "\n",
        "preds = []\n",
        "for i in df_test['code'].values:\n",
        "    with torch.no_grad():\n",
        "        inputs = tokenizer(i, return_tensors=\"pt\",  truncation=True).to(device)\n",
        "        logits = model(**inputs).logits\n",
        "        predicted_class_id = logits.argmax().item()\n",
        "        preds.append(predicted_class_id)\n",
        "\n",
        "\n",
        "y_true = [id2label[i] for i in df_test['label'].values]\n",
        "y_pred = [id2label[i] for i in preds]\n",
        "\n",
        "from sklearn.metrics import classification_report\n",
        "print(classification_report(y_true, y_pred))\n",
        "print(\"Total of 60 bits have been flipped\")\n",
        "\n",
        "\n"
      ],
      "metadata": {
        "id": "3CCX3MNgCMhP",
        "colab": {
          "base_uri": "https://localhost:8080/"
        },
        "outputId": "840652cd-111c-427a-a777-2d6a32ffe1c2"
      },
      "execution_count": null,
      "outputs": [
        {
          "output_type": "stream",
          "name": "stdout",
          "text": [
            "              precision    recall  f1-score   support\n",
            "\n",
            "        CWE0       0.95      0.96      0.95      9785\n",
            "      CWE120       0.91      0.89      0.90      1093\n",
            "      CWE122       0.89      0.90      0.89       286\n",
            "      CWE190       0.91      0.84      0.87      2228\n",
            "      CWE369       0.76      0.90      0.82       705\n",
            "      CWE400       0.89      0.90      0.90      1906\n",
            "      CWE502       1.00      0.75      0.86        24\n",
            "\n",
            "    accuracy                           0.93     16027\n",
            "   macro avg       0.90      0.88      0.89     16027\n",
            "weighted avg       0.93      0.93      0.93     16027\n",
            "\n",
            "Total of 60 bits have been flipped\n"
          ]
        }
      ]
    },
    {
      "cell_type": "markdown",
      "source": [
        "### Iteration 6: flipping 10 more (70 total)"
      ],
      "metadata": {
        "id": "5qeDamE7Lk77"
      }
    },
    {
      "cell_type": "code",
      "source": [
        "import random\n",
        "\n",
        "num_flips = 10\n",
        "num_rows, num_cols = weights_uint.shape\n",
        "\n",
        "for i in range(num_flips):\n",
        "    row = random.randint(0, num_rows - 1)\n",
        "    col = random.randint(0, num_cols - 1)\n",
        "    bit_position = random.randint(0, 31)\n",
        "    print(f\"Flipping bit {bit_position} at position (row={row}, col={col})\")\n",
        "\n",
        "    # Create a mask for the chosen bit and flip it using XOR\n",
        "    mask = 1 << bit_position\n",
        "    weights_uint[row, col] ^= mask\n",
        "\n",
        "# Convert the modified binary representation back to float32\n",
        "modified_weights_np = weights_uint.view(np.float32)\n",
        "\n",
        "# Update the model's out_proj layer weights with the modified weights\n",
        "out_proj_layer.weight.data.copy_(torch.tensor(modified_weights_np, dtype=weights_fp32.dtype))\n",
        "\n",
        "print(\"70 bit flips performed and model weights updated.\")\n",
        "print(\"Total of 70 bits have been flipped\")\n"
      ],
      "metadata": {
        "id": "ayFP0uHoLpHu",
        "colab": {
          "base_uri": "https://localhost:8080/"
        },
        "outputId": "b50cc757-b96f-4526-e6de-987602e9ee14"
      },
      "execution_count": null,
      "outputs": [
        {
          "output_type": "stream",
          "name": "stdout",
          "text": [
            "Flipping bit 15 at position (row=6, col=314)\n",
            "Flipping bit 5 at position (row=0, col=246)\n",
            "Flipping bit 31 at position (row=0, col=749)\n",
            "Flipping bit 8 at position (row=6, col=70)\n",
            "Flipping bit 30 at position (row=1, col=675)\n",
            "Flipping bit 16 at position (row=4, col=169)\n",
            "Flipping bit 27 at position (row=4, col=621)\n",
            "Flipping bit 12 at position (row=1, col=552)\n",
            "Flipping bit 25 at position (row=5, col=319)\n",
            "Flipping bit 23 at position (row=5, col=665)\n",
            "70 bit flips performed and model weights updated.\n",
            "Total of 70 bits have been flipped\n"
          ]
        }
      ]
    },
    {
      "cell_type": "code",
      "source": [
        "device = 'cuda' if torch.cuda.is_available() else 'cpu'\n",
        "\n",
        "preds = []\n",
        "for i in df_test['code'].values:\n",
        "    with torch.no_grad():\n",
        "        inputs = tokenizer(i, return_tensors=\"pt\",  truncation=True).to(device)\n",
        "        logits = model(**inputs).logits\n",
        "        predicted_class_id = logits.argmax().item()\n",
        "        preds.append(predicted_class_id)\n",
        "\n",
        "\n",
        "y_true = [id2label[i] for i in df_test['label'].values]\n",
        "y_pred = [id2label[i] for i in preds]\n",
        "\n",
        "from sklearn.metrics import classification_report\n",
        "print(classification_report(y_true, y_pred))\n",
        "print(\"Total of 70 bits have been flipped\")\n",
        "\n",
        "\n"
      ],
      "metadata": {
        "id": "7DTfv9nDLtC-",
        "colab": {
          "base_uri": "https://localhost:8080/"
        },
        "outputId": "d3821e07-8f9d-4e70-e5a6-bdc4138d8035"
      },
      "execution_count": null,
      "outputs": [
        {
          "output_type": "stream",
          "name": "stdout",
          "text": [
            "              precision    recall  f1-score   support\n",
            "\n",
            "        CWE0       0.73      0.00      0.00      9785\n",
            "      CWE120       0.94      0.24      0.39      1093\n",
            "      CWE122       0.94      0.81      0.87       286\n",
            "      CWE190       0.98      0.48      0.65      2228\n",
            "      CWE369       1.00      0.00      0.00       705\n",
            "      CWE400       0.13      1.00      0.23      1906\n",
            "      CWE502       1.00      0.75      0.86        24\n",
            "\n",
            "    accuracy                           0.22     16027\n",
            "   macro avg       0.82      0.47      0.43     16027\n",
            "weighted avg       0.73      0.22      0.16     16027\n",
            "\n",
            "Total of 70 bits have been flipped\n"
          ]
        }
      ]
    },
    {
      "cell_type": "markdown",
      "source": [
        "### Iteration 7: Flipping a total of 80 weights:"
      ],
      "metadata": {
        "id": "buDM0eZML3rF"
      }
    },
    {
      "cell_type": "code",
      "source": [
        "import random\n",
        "\n",
        "num_flips = 10\n",
        "num_rows, num_cols = weights_uint.shape\n",
        "\n",
        "for i in range(num_flips):\n",
        "    row = random.randint(0, num_rows - 1)\n",
        "    col = random.randint(0, num_cols - 1)\n",
        "    bit_position = random.randint(0, 31)\n",
        "    print(f\"Flipping bit {bit_position} at position (row={row}, col={col})\")\n",
        "\n",
        "    # Create a mask for the chosen bit and flip it using XOR\n",
        "    mask = 1 << bit_position\n",
        "    weights_uint[row, col] ^= mask\n",
        "\n",
        "# Convert the modified binary representation back to float32\n",
        "modified_weights_np = weights_uint.view(np.float32)\n",
        "\n",
        "# Update the model's out_proj layer weights with the modified weights\n",
        "out_proj_layer.weight.data.copy_(torch.tensor(modified_weights_np, dtype=weights_fp32.dtype))\n",
        "\n",
        "print(\"80 bit flips performed and model weights updated.\")\n",
        "print(\"Total of 80 bits have been flipped\")\n"
      ],
      "metadata": {
        "id": "8TuXrlVnL8l7",
        "colab": {
          "base_uri": "https://localhost:8080/"
        },
        "outputId": "bf9fed83-d7d8-4c74-c88f-ea9c50bed775"
      },
      "execution_count": null,
      "outputs": [
        {
          "output_type": "stream",
          "name": "stdout",
          "text": [
            "Flipping bit 28 at position (row=3, col=529)\n",
            "Flipping bit 14 at position (row=0, col=253)\n",
            "Flipping bit 1 at position (row=0, col=346)\n",
            "Flipping bit 14 at position (row=4, col=567)\n",
            "Flipping bit 0 at position (row=4, col=225)\n",
            "Flipping bit 3 at position (row=0, col=724)\n",
            "Flipping bit 2 at position (row=1, col=69)\n",
            "Flipping bit 4 at position (row=6, col=338)\n",
            "Flipping bit 17 at position (row=4, col=243)\n",
            "Flipping bit 13 at position (row=5, col=497)\n",
            "80 bit flips performed and model weights updated.\n",
            "Total of 80 bits have been flipped\n"
          ]
        }
      ]
    },
    {
      "cell_type": "code",
      "source": [
        "device = 'cuda' if torch.cuda.is_available() else 'cpu'\n",
        "\n",
        "preds = []\n",
        "for i in df_test['code'].values:\n",
        "    with torch.no_grad():\n",
        "        inputs = tokenizer(i, return_tensors=\"pt\",  truncation=True).to(device)\n",
        "        logits = model(**inputs).logits\n",
        "        predicted_class_id = logits.argmax().item()\n",
        "        preds.append(predicted_class_id)\n",
        "\n",
        "\n",
        "y_true = [id2label[i] for i in df_test['label'].values]\n",
        "y_pred = [id2label[i] for i in preds]\n",
        "\n",
        "from sklearn.metrics import classification_report\n",
        "print(classification_report(y_true, y_pred))\n",
        "print(\"Total of 80 bits have been flipped\")\n",
        "\n",
        "\n"
      ],
      "metadata": {
        "id": "iTALugyWL_IW",
        "colab": {
          "base_uri": "https://localhost:8080/"
        },
        "outputId": "c35e848e-2e91-4a5c-b469-acede9264980"
      },
      "execution_count": null,
      "outputs": [
        {
          "output_type": "stream",
          "name": "stdout",
          "text": [
            "              precision    recall  f1-score   support\n",
            "\n",
            "        CWE0       0.73      0.00      0.00      9785\n",
            "      CWE120       0.94      0.24      0.39      1093\n",
            "      CWE122       0.93      0.81      0.87       286\n",
            "      CWE190       0.98      0.48      0.65      2228\n",
            "      CWE369       1.00      0.00      0.00       705\n",
            "      CWE400       0.13      1.00      0.23      1906\n",
            "      CWE502       1.00      0.75      0.86        24\n",
            "\n",
            "    accuracy                           0.22     16027\n",
            "   macro avg       0.82      0.47      0.43     16027\n",
            "weighted avg       0.73      0.22      0.16     16027\n",
            "\n",
            "Total of 80 bits have been flipped\n"
          ]
        }
      ]
    },
    {
      "cell_type": "markdown",
      "source": [
        "### Iteration 8: Flipping a total of 90 weights:"
      ],
      "metadata": {
        "id": "f_F312XKMFFI"
      }
    },
    {
      "cell_type": "code",
      "source": [
        "import random\n",
        "\n",
        "num_flips = 10\n",
        "num_rows, num_cols = weights_uint.shape\n",
        "\n",
        "for i in range(num_flips):\n",
        "    row = random.randint(0, num_rows - 1)\n",
        "    col = random.randint(0, num_cols - 1)\n",
        "    bit_position = random.randint(0, 31)\n",
        "    print(f\"Flipping bit {bit_position} at position (row={row}, col={col})\")\n",
        "\n",
        "    # Create a mask for the chosen bit and flip it using XOR\n",
        "    mask = 1 << bit_position\n",
        "    weights_uint[row, col] ^= mask\n",
        "\n",
        "# Convert the modified binary representation back to float32\n",
        "modified_weights_np = weights_uint.view(np.float32)\n",
        "\n",
        "# Update the model's out_proj layer weights with the modified weights\n",
        "out_proj_layer.weight.data.copy_(torch.tensor(modified_weights_np, dtype=weights_fp32.dtype))\n",
        "\n",
        "print(\"90 bit flips performed and model weights updated.\")\n",
        "print(\"Total of 90 bits have been flipped\")\n"
      ],
      "metadata": {
        "id": "BfpAng2LMKTQ",
        "colab": {
          "base_uri": "https://localhost:8080/"
        },
        "outputId": "84536b8f-f10c-439f-f654-10814bb644fe"
      },
      "execution_count": null,
      "outputs": [
        {
          "output_type": "stream",
          "name": "stdout",
          "text": [
            "Flipping bit 30 at position (row=4, col=135)\n",
            "Flipping bit 26 at position (row=1, col=484)\n",
            "Flipping bit 6 at position (row=1, col=96)\n",
            "Flipping bit 22 at position (row=5, col=441)\n",
            "Flipping bit 29 at position (row=3, col=420)\n",
            "Flipping bit 3 at position (row=6, col=746)\n",
            "Flipping bit 6 at position (row=5, col=669)\n",
            "Flipping bit 21 at position (row=0, col=412)\n",
            "Flipping bit 15 at position (row=6, col=111)\n",
            "Flipping bit 28 at position (row=1, col=194)\n",
            "90 bit flips performed and model weights updated.\n",
            "Total of 90 bits have been flipped\n"
          ]
        }
      ]
    },
    {
      "cell_type": "code",
      "source": [
        "device = 'cuda' if torch.cuda.is_available() else 'cpu'\n",
        "\n",
        "preds = []\n",
        "for i in df_test['code'].values:\n",
        "    with torch.no_grad():\n",
        "        inputs = tokenizer(i, return_tensors=\"pt\",  truncation=True).to(device)\n",
        "        logits = model(**inputs).logits\n",
        "        predicted_class_id = logits.argmax().item()\n",
        "        preds.append(predicted_class_id)\n",
        "\n",
        "\n",
        "y_true = [id2label[i] for i in df_test['label'].values]\n",
        "y_pred = [id2label[i] for i in preds]\n",
        "\n",
        "from sklearn.metrics import classification_report\n",
        "print(classification_report(y_true, y_pred))\n",
        "print(\"Total of 90 bits have been flipped\")\n",
        "\n",
        "\n"
      ],
      "metadata": {
        "id": "gRIrClDoMMmj",
        "colab": {
          "base_uri": "https://localhost:8080/"
        },
        "outputId": "3d5bc0a3-ad02-4ad5-9308-a2bc37b9b510"
      },
      "execution_count": null,
      "outputs": [
        {
          "output_type": "stream",
          "name": "stdout",
          "text": [
            "              precision    recall  f1-score   support\n",
            "\n",
            "        CWE0       0.73      0.00      0.00      9785\n",
            "      CWE120       0.94      0.19      0.32      1093\n",
            "      CWE122       0.84      0.06      0.10       286\n",
            "      CWE190       0.99      0.47      0.64      2228\n",
            "      CWE369       0.00      0.00      0.00       705\n",
            "      CWE400       0.13      1.00      0.23      1906\n",
            "      CWE502       1.00      0.54      0.70        24\n",
            "\n",
            "    accuracy                           0.20     16027\n",
            "   macro avg       0.66      0.32      0.29     16027\n",
            "weighted avg       0.68      0.20      0.14     16027\n",
            "\n",
            "Total of 90 bits have been flipped\n"
          ]
        }
      ]
    },
    {
      "cell_type": "markdown",
      "source": [
        "### Iteration 9: 100 Flipped Weights"
      ],
      "metadata": {
        "id": "6IkqXEKfMP3Y"
      }
    },
    {
      "cell_type": "code",
      "source": [
        "import random\n",
        "\n",
        "num_flips = 10\n",
        "num_rows, num_cols = weights_uint.shape\n",
        "\n",
        "for i in range(num_flips):\n",
        "    row = random.randint(0, num_rows - 1)\n",
        "    col = random.randint(0, num_cols - 1)\n",
        "    bit_position = random.randint(0, 31)\n",
        "    print(f\"Flipping bit {bit_position} at position (row={row}, col={col})\")\n",
        "\n",
        "    # Create a mask for the chosen bit and flip it using XOR\n",
        "    mask = 1 << bit_position\n",
        "    weights_uint[row, col] ^= mask\n",
        "\n",
        "# Convert the modified binary representation back to float32\n",
        "modified_weights_np = weights_uint.view(np.float32)\n",
        "\n",
        "# Update the model's out_proj layer weights with the modified weights\n",
        "out_proj_layer.weight.data.copy_(torch.tensor(modified_weights_np, dtype=weights_fp32.dtype))\n",
        "\n",
        "print(\"100 bit flips performed and model weights updated.\")\n",
        "print(\"Total of 100 bits have been flipped\")\n"
      ],
      "metadata": {
        "id": "_C0NiBZ9MVau",
        "colab": {
          "base_uri": "https://localhost:8080/"
        },
        "outputId": "0db53812-cc6f-4974-90c2-49ee3387266f"
      },
      "execution_count": null,
      "outputs": [
        {
          "output_type": "stream",
          "name": "stdout",
          "text": [
            "Flipping bit 11 at position (row=1, col=432)\n",
            "Flipping bit 15 at position (row=2, col=473)\n",
            "Flipping bit 28 at position (row=6, col=77)\n",
            "Flipping bit 6 at position (row=6, col=563)\n",
            "Flipping bit 0 at position (row=0, col=667)\n",
            "Flipping bit 10 at position (row=0, col=242)\n",
            "Flipping bit 30 at position (row=3, col=497)\n",
            "Flipping bit 3 at position (row=1, col=410)\n",
            "Flipping bit 0 at position (row=1, col=388)\n",
            "Flipping bit 29 at position (row=3, col=271)\n",
            "100 bit flips performed and model weights updated.\n",
            "Total of 100 bits have been flipped\n"
          ]
        }
      ]
    },
    {
      "cell_type": "code",
      "source": [
        "device = 'cuda' if torch.cuda.is_available() else 'cpu'\n",
        "\n",
        "preds = []\n",
        "for i in df_test['code'].values:\n",
        "    with torch.no_grad():\n",
        "        inputs = tokenizer(i, return_tensors=\"pt\",  truncation=True).to(device)\n",
        "        logits = model(**inputs).logits\n",
        "        predicted_class_id = logits.argmax().item()\n",
        "        preds.append(predicted_class_id)\n",
        "\n",
        "\n",
        "y_true = [id2label[i] for i in df_test['label'].values]\n",
        "y_pred = [id2label[i] for i in preds]\n",
        "\n",
        "from sklearn.metrics import classification_report\n",
        "print(classification_report(y_true, y_pred))\n",
        "print(\"Total of 100 bits have been flipped\")"
      ],
      "metadata": {
        "id": "lhWsdUYBMYht",
        "colab": {
          "base_uri": "https://localhost:8080/"
        },
        "outputId": "a8f41411-3a6e-477b-e3bd-9cf07dc27e4c"
      },
      "execution_count": null,
      "outputs": [
        {
          "output_type": "stream",
          "name": "stdout",
          "text": [
            "              precision    recall  f1-score   support\n",
            "\n",
            "        CWE0       0.12      0.00      0.00      9785\n",
            "      CWE120       0.67      0.04      0.07      1093\n",
            "      CWE122       0.22      0.05      0.08       286\n",
            "      CWE190       0.77      0.42      0.54      2228\n",
            "      CWE369       0.00      0.00      0.00       705\n",
            "      CWE400       0.13      1.00      0.23      1906\n",
            "      CWE502       1.00      0.54      0.70        24\n",
            "\n",
            "    accuracy                           0.18     16027\n",
            "   macro avg       0.42      0.29      0.23     16027\n",
            "weighted avg       0.25      0.18      0.11     16027\n",
            "\n",
            "Total of 100 bits have been flipped\n"
          ]
        }
      ]
    },
    {
      "cell_type": "markdown",
      "metadata": {
        "id": "ZfNy9-8i_7ij"
      },
      "source": [
        "---\n",
        "---\n",
        "---\n",
        "---\n",
        "\n",
        "### Next step would be to inject bit flips into other model weights"
      ]
    },
    {
      "cell_type": "markdown",
      "metadata": {
        "id": "kvQ9fyjFuV0N"
      },
      "source": [
        "# GraphCodeBERT Model Configuration Analysis\n",
        "\n",
        "\n",
        "---\n",
        "\n",
        "## 1️ Model Architecture\n",
        "| **Attribute** | **Value** | **Interpretation** |\n",
        "|--------------|----------|-------------------|\n",
        "| `\"architectures\"` | `[\"RobertaForSequenceClassification\"]` | The model is **RoBERTa-based**, adapted for **classification**. |\n",
        "| `\"model_type\"` | `\"roberta\"` | Confirms that the underlying transformer is **RoBERTa** (not BERT). |\n",
        "| `\"problem_type\"` | `\"single_label_classification\"` | Used for **single-label CWE classification** (one label per sample). |\n",
        "\n",
        "---\n",
        "\n",
        "## 2️ Model Size & Layers\n",
        "| **Attribute** | **Value** | **Interpretation** |\n",
        "|--------------|----------|-------------------|\n",
        "| `\"hidden_size\"` | `768` | Each token is encoded into a **768-dimensional vector**. |\n",
        "| `\"num_hidden_layers\"` | `12` | The model has **12 transformer layers** (standard for RoBERTa). |\n",
        "| `\"num_attention_heads\"` | `12` | Each layer has **12 attention heads** for multi-head attention. |\n",
        "| `\"intermediate_size\"` | `3072` | The **feed-forward network (FFN) size** inside each layer. |\n",
        "\n",
        "---\n",
        "\n",
        "## 3️ Tokenization & Embeddings\n",
        "| **Attribute** | **Value** | **Interpretation** |\n",
        "|--------------|----------|-------------------|\n",
        "| `\"vocab_size\"` | `50265` | Model has a vocabulary of **50K tokens** (subwords & special tokens). |\n",
        "| `\"max_position_embeddings\"` | `514` | Supports input sequences up to **514 tokens** (default RoBERTa). |\n",
        "| `\"bos_token_id\"` | `0` | Special token marking the **beginning of a sequence**. |\n",
        "| `\"eos_token_id\"` | `2` | Special token marking the **end of a sequence**. |\n",
        "| `\"pad_token_id\"` | `1` | Padding token used for **batch processing**. |\n",
        "\n",
        "---\n",
        "\n",
        "## 4️ Training & Regularization Parameters\n",
        "| **Attribute** | **Value** | **Interpretation** |\n",
        "|--------------|----------|-------------------|\n",
        "| `\"hidden_act\"` | `\"gelu\"` | Uses **GELU activation** (common in transformer models). |\n",
        "| `\"initializer_range\"` | `0.02` | Standard weight initialization range. |\n",
        "| `\"attention_probs_dropout_prob\"` | `0.1` | **10% dropout** for attention layers (reduces overfitting). |\n",
        "| `\"hidden_dropout_prob\"` | `0.1` | **10% dropout** for hidden layers (improves generalization). |\n",
        "| `\"classifier_dropout\"` | `null` | No extra dropout in classifier head. |\n",
        "\n",
        "---\n",
        "\n",
        "## 5️ Label Mappings (CWE Class Assignments)\n",
        "| **CWE Type** | **Index (label2id)** |\n",
        "|-------------|-----------------|\n",
        "| `\"CWE0\"` | `0` |\n",
        "| `\"CWE119\"` | `2` |\n",
        "| `\"CWE120\"` | `3` |\n",
        "| `\"CWE121\"` | `8` |\n",
        "| `\"CWE122\"` | `9` |\n",
        "| `\"CWE125\"` | `5` |\n",
        "| `\"CWE131\"` | `7` |\n",
        "| `\"CWE369\"` | `6` |\n",
        "| `\"CWE415\"` | `4` |\n",
        "| `\"CWE680\"` | `10` |\n",
        "| `\"CWE787\"` | `1` |\n",
        "| `\"CWE805\"` | `11` |\n",
        "\n",
        "\n",
        "---\n",
        "\n",
        "## Next Steps\n",
        "Now that we evaluated the baseline, unflipped model, let's identify and access model weights\n"
      ]
    },
    {
      "cell_type": "markdown",
      "metadata": {
        "id": "ghybbr3BxOpn"
      },
      "source": [
        "* Exploring modifying the first layer, to see how error propagates.\n",
        "* This tensor represents the query matrix in the first self-attention mechanism.\n",
        "\n",
        "The weights are stored as 32-bit floating point numbers.\n",
        "\n",
        "## **Process Workflow:**\n",
        "1. Convert the float weights to binary representation (bit-level view).\n",
        "2. Perform the bit-flip operation.\n",
        "3. Convert the modified binary back to float representation.\n",
        "4. Update the model weights"
      ]
    },
    {
      "cell_type": "markdown",
      "metadata": {
        "id": "TPy-uTYS1Nse"
      },
      "source": [
        "Above is the total number of weight values in our model"
      ]
    },
    {
      "cell_type": "markdown",
      "metadata": {
        "id": "WfLh0_t8091e"
      },
      "source": [
        "# Bit-Flip Implementation Plan\n",
        "1. Select Random Weights to Modify (e.g., 0.1% of total weights).\n",
        "2. Select a Random Bit in Each Chosen Weight (32-bit representation).\n",
        "3. Flip the Bit Using XOR Operation (^= (1 << bit_position)).\n",
        "4. Convert the Modified Integer Weights Back to Floats.\n",
        "5. Replace the Modified Weights in the Model."
      ]
    },
    {
      "cell_type": "markdown",
      "metadata": {
        "id": "YRozud3O9bik"
      },
      "source": [
        "## As you can see, flipping weights in the first layer causes irrecoverable errors propagating through the rest of the layers in the model.\n",
        "* This leads to the NaN error\n",
        "\n",
        "# Let's attempt flipping the final classification layer:"
      ]
    },
    {
      "cell_type": "markdown",
      "metadata": {
        "id": "GdOi7OUh-rmN"
      },
      "source": [
        "Still seeing the NaN error. Checking if modified weights have NaNs:"
      ]
    },
    {
      "cell_type": "code",
      "execution_count": null,
      "metadata": {
        "id": "51dLdrJU-vih"
      },
      "outputs": [],
      "source": []
    }
  ],
  "metadata": {
    "accelerator": "GPU",
    "colab": {
      "gpuType": "T4",
      "machine_shape": "hm",
      "provenance": [],
      "collapsed_sections": [
        "mIq395KT_119",
        "hhvShY9DBbXx",
        "VLu3ktk9Btte",
        "QPLQuuUGB6MN",
        "_5xR5qZzCF3o",
        "5qeDamE7Lk77",
        "buDM0eZML3rF",
        "f_F312XKMFFI",
        "6IkqXEKfMP3Y"
      ],
      "authorship_tag": "ABX9TyOuCvv+jsQB4wnsJYqTMyAL",
      "include_colab_link": true
    },
    "kernelspec": {
      "display_name": "Python 3",
      "name": "python3"
    },
    "language_info": {
      "name": "python"
    },
    "widgets": {
      "application/vnd.jupyter.widget-state+json": {
        "e3502302b50c45d4bdcdc3219cad3e82": {
          "model_module": "@jupyter-widgets/controls",
          "model_name": "HBoxModel",
          "model_module_version": "1.5.0",
          "state": {
            "_dom_classes": [],
            "_model_module": "@jupyter-widgets/controls",
            "_model_module_version": "1.5.0",
            "_model_name": "HBoxModel",
            "_view_count": null,
            "_view_module": "@jupyter-widgets/controls",
            "_view_module_version": "1.5.0",
            "_view_name": "HBoxView",
            "box_style": "",
            "children": [
              "IPY_MODEL_6ad80dd5eb504019865fc27ee2023e26",
              "IPY_MODEL_dba869e2bc2b427ea8ebed10100df101",
              "IPY_MODEL_ad9512a517fe4a26bc647f9be91581a1"
            ],
            "layout": "IPY_MODEL_c1c01a1a289f4457aa1bd4795a97175d"
          }
        },
        "6ad80dd5eb504019865fc27ee2023e26": {
          "model_module": "@jupyter-widgets/controls",
          "model_name": "HTMLModel",
          "model_module_version": "1.5.0",
          "state": {
            "_dom_classes": [],
            "_model_module": "@jupyter-widgets/controls",
            "_model_module_version": "1.5.0",
            "_model_name": "HTMLModel",
            "_view_count": null,
            "_view_module": "@jupyter-widgets/controls",
            "_view_module_version": "1.5.0",
            "_view_name": "HTMLView",
            "description": "",
            "description_tooltip": null,
            "layout": "IPY_MODEL_25eedd4384e14b038ece5bf74da8fe37",
            "placeholder": "​",
            "style": "IPY_MODEL_5b603a2bedb9435d93e630fd487e46b0",
            "value": "tokenizer_config.json: 100%"
          }
        },
        "dba869e2bc2b427ea8ebed10100df101": {
          "model_module": "@jupyter-widgets/controls",
          "model_name": "FloatProgressModel",
          "model_module_version": "1.5.0",
          "state": {
            "_dom_classes": [],
            "_model_module": "@jupyter-widgets/controls",
            "_model_module_version": "1.5.0",
            "_model_name": "FloatProgressModel",
            "_view_count": null,
            "_view_module": "@jupyter-widgets/controls",
            "_view_module_version": "1.5.0",
            "_view_name": "ProgressView",
            "bar_style": "success",
            "description": "",
            "description_tooltip": null,
            "layout": "IPY_MODEL_9cd9a40081854475863628b8230cf8bd",
            "max": 25,
            "min": 0,
            "orientation": "horizontal",
            "style": "IPY_MODEL_cca72098932544048c43ba7d17da7572",
            "value": 25
          }
        },
        "ad9512a517fe4a26bc647f9be91581a1": {
          "model_module": "@jupyter-widgets/controls",
          "model_name": "HTMLModel",
          "model_module_version": "1.5.0",
          "state": {
            "_dom_classes": [],
            "_model_module": "@jupyter-widgets/controls",
            "_model_module_version": "1.5.0",
            "_model_name": "HTMLModel",
            "_view_count": null,
            "_view_module": "@jupyter-widgets/controls",
            "_view_module_version": "1.5.0",
            "_view_name": "HTMLView",
            "description": "",
            "description_tooltip": null,
            "layout": "IPY_MODEL_2c939ec6f249426d827bbcca47eff191",
            "placeholder": "​",
            "style": "IPY_MODEL_7df3da75da32496abfee3dc17af6c3ed",
            "value": " 25.0/25.0 [00:00&lt;00:00, 2.21kB/s]"
          }
        },
        "c1c01a1a289f4457aa1bd4795a97175d": {
          "model_module": "@jupyter-widgets/base",
          "model_name": "LayoutModel",
          "model_module_version": "1.2.0",
          "state": {
            "_model_module": "@jupyter-widgets/base",
            "_model_module_version": "1.2.0",
            "_model_name": "LayoutModel",
            "_view_count": null,
            "_view_module": "@jupyter-widgets/base",
            "_view_module_version": "1.2.0",
            "_view_name": "LayoutView",
            "align_content": null,
            "align_items": null,
            "align_self": null,
            "border": null,
            "bottom": null,
            "display": null,
            "flex": null,
            "flex_flow": null,
            "grid_area": null,
            "grid_auto_columns": null,
            "grid_auto_flow": null,
            "grid_auto_rows": null,
            "grid_column": null,
            "grid_gap": null,
            "grid_row": null,
            "grid_template_areas": null,
            "grid_template_columns": null,
            "grid_template_rows": null,
            "height": null,
            "justify_content": null,
            "justify_items": null,
            "left": null,
            "margin": null,
            "max_height": null,
            "max_width": null,
            "min_height": null,
            "min_width": null,
            "object_fit": null,
            "object_position": null,
            "order": null,
            "overflow": null,
            "overflow_x": null,
            "overflow_y": null,
            "padding": null,
            "right": null,
            "top": null,
            "visibility": null,
            "width": null
          }
        },
        "25eedd4384e14b038ece5bf74da8fe37": {
          "model_module": "@jupyter-widgets/base",
          "model_name": "LayoutModel",
          "model_module_version": "1.2.0",
          "state": {
            "_model_module": "@jupyter-widgets/base",
            "_model_module_version": "1.2.0",
            "_model_name": "LayoutModel",
            "_view_count": null,
            "_view_module": "@jupyter-widgets/base",
            "_view_module_version": "1.2.0",
            "_view_name": "LayoutView",
            "align_content": null,
            "align_items": null,
            "align_self": null,
            "border": null,
            "bottom": null,
            "display": null,
            "flex": null,
            "flex_flow": null,
            "grid_area": null,
            "grid_auto_columns": null,
            "grid_auto_flow": null,
            "grid_auto_rows": null,
            "grid_column": null,
            "grid_gap": null,
            "grid_row": null,
            "grid_template_areas": null,
            "grid_template_columns": null,
            "grid_template_rows": null,
            "height": null,
            "justify_content": null,
            "justify_items": null,
            "left": null,
            "margin": null,
            "max_height": null,
            "max_width": null,
            "min_height": null,
            "min_width": null,
            "object_fit": null,
            "object_position": null,
            "order": null,
            "overflow": null,
            "overflow_x": null,
            "overflow_y": null,
            "padding": null,
            "right": null,
            "top": null,
            "visibility": null,
            "width": null
          }
        },
        "5b603a2bedb9435d93e630fd487e46b0": {
          "model_module": "@jupyter-widgets/controls",
          "model_name": "DescriptionStyleModel",
          "model_module_version": "1.5.0",
          "state": {
            "_model_module": "@jupyter-widgets/controls",
            "_model_module_version": "1.5.0",
            "_model_name": "DescriptionStyleModel",
            "_view_count": null,
            "_view_module": "@jupyter-widgets/base",
            "_view_module_version": "1.2.0",
            "_view_name": "StyleView",
            "description_width": ""
          }
        },
        "9cd9a40081854475863628b8230cf8bd": {
          "model_module": "@jupyter-widgets/base",
          "model_name": "LayoutModel",
          "model_module_version": "1.2.0",
          "state": {
            "_model_module": "@jupyter-widgets/base",
            "_model_module_version": "1.2.0",
            "_model_name": "LayoutModel",
            "_view_count": null,
            "_view_module": "@jupyter-widgets/base",
            "_view_module_version": "1.2.0",
            "_view_name": "LayoutView",
            "align_content": null,
            "align_items": null,
            "align_self": null,
            "border": null,
            "bottom": null,
            "display": null,
            "flex": null,
            "flex_flow": null,
            "grid_area": null,
            "grid_auto_columns": null,
            "grid_auto_flow": null,
            "grid_auto_rows": null,
            "grid_column": null,
            "grid_gap": null,
            "grid_row": null,
            "grid_template_areas": null,
            "grid_template_columns": null,
            "grid_template_rows": null,
            "height": null,
            "justify_content": null,
            "justify_items": null,
            "left": null,
            "margin": null,
            "max_height": null,
            "max_width": null,
            "min_height": null,
            "min_width": null,
            "object_fit": null,
            "object_position": null,
            "order": null,
            "overflow": null,
            "overflow_x": null,
            "overflow_y": null,
            "padding": null,
            "right": null,
            "top": null,
            "visibility": null,
            "width": null
          }
        },
        "cca72098932544048c43ba7d17da7572": {
          "model_module": "@jupyter-widgets/controls",
          "model_name": "ProgressStyleModel",
          "model_module_version": "1.5.0",
          "state": {
            "_model_module": "@jupyter-widgets/controls",
            "_model_module_version": "1.5.0",
            "_model_name": "ProgressStyleModel",
            "_view_count": null,
            "_view_module": "@jupyter-widgets/base",
            "_view_module_version": "1.2.0",
            "_view_name": "StyleView",
            "bar_color": null,
            "description_width": ""
          }
        },
        "2c939ec6f249426d827bbcca47eff191": {
          "model_module": "@jupyter-widgets/base",
          "model_name": "LayoutModel",
          "model_module_version": "1.2.0",
          "state": {
            "_model_module": "@jupyter-widgets/base",
            "_model_module_version": "1.2.0",
            "_model_name": "LayoutModel",
            "_view_count": null,
            "_view_module": "@jupyter-widgets/base",
            "_view_module_version": "1.2.0",
            "_view_name": "LayoutView",
            "align_content": null,
            "align_items": null,
            "align_self": null,
            "border": null,
            "bottom": null,
            "display": null,
            "flex": null,
            "flex_flow": null,
            "grid_area": null,
            "grid_auto_columns": null,
            "grid_auto_flow": null,
            "grid_auto_rows": null,
            "grid_column": null,
            "grid_gap": null,
            "grid_row": null,
            "grid_template_areas": null,
            "grid_template_columns": null,
            "grid_template_rows": null,
            "height": null,
            "justify_content": null,
            "justify_items": null,
            "left": null,
            "margin": null,
            "max_height": null,
            "max_width": null,
            "min_height": null,
            "min_width": null,
            "object_fit": null,
            "object_position": null,
            "order": null,
            "overflow": null,
            "overflow_x": null,
            "overflow_y": null,
            "padding": null,
            "right": null,
            "top": null,
            "visibility": null,
            "width": null
          }
        },
        "7df3da75da32496abfee3dc17af6c3ed": {
          "model_module": "@jupyter-widgets/controls",
          "model_name": "DescriptionStyleModel",
          "model_module_version": "1.5.0",
          "state": {
            "_model_module": "@jupyter-widgets/controls",
            "_model_module_version": "1.5.0",
            "_model_name": "DescriptionStyleModel",
            "_view_count": null,
            "_view_module": "@jupyter-widgets/base",
            "_view_module_version": "1.2.0",
            "_view_name": "StyleView",
            "description_width": ""
          }
        },
        "d802a32eb0884e919a8596ec6d8a418c": {
          "model_module": "@jupyter-widgets/controls",
          "model_name": "HBoxModel",
          "model_module_version": "1.5.0",
          "state": {
            "_dom_classes": [],
            "_model_module": "@jupyter-widgets/controls",
            "_model_module_version": "1.5.0",
            "_model_name": "HBoxModel",
            "_view_count": null,
            "_view_module": "@jupyter-widgets/controls",
            "_view_module_version": "1.5.0",
            "_view_name": "HBoxView",
            "box_style": "",
            "children": [
              "IPY_MODEL_8cf096ca41fe497186415d55eebca2ed",
              "IPY_MODEL_572172d1d55048b98ac945e488c1ebf8",
              "IPY_MODEL_ebda29ffe4984884ad4ba5fd281200c3"
            ],
            "layout": "IPY_MODEL_27f82d35e5414a6b8fc52652aba9d3ab"
          }
        },
        "8cf096ca41fe497186415d55eebca2ed": {
          "model_module": "@jupyter-widgets/controls",
          "model_name": "HTMLModel",
          "model_module_version": "1.5.0",
          "state": {
            "_dom_classes": [],
            "_model_module": "@jupyter-widgets/controls",
            "_model_module_version": "1.5.0",
            "_model_name": "HTMLModel",
            "_view_count": null,
            "_view_module": "@jupyter-widgets/controls",
            "_view_module_version": "1.5.0",
            "_view_name": "HTMLView",
            "description": "",
            "description_tooltip": null,
            "layout": "IPY_MODEL_b233c21c195646f193dd7a0c16355db1",
            "placeholder": "​",
            "style": "IPY_MODEL_89dc35660f56488fa3f7b0d3787b2ad2",
            "value": "config.json: 100%"
          }
        },
        "572172d1d55048b98ac945e488c1ebf8": {
          "model_module": "@jupyter-widgets/controls",
          "model_name": "FloatProgressModel",
          "model_module_version": "1.5.0",
          "state": {
            "_dom_classes": [],
            "_model_module": "@jupyter-widgets/controls",
            "_model_module_version": "1.5.0",
            "_model_name": "FloatProgressModel",
            "_view_count": null,
            "_view_module": "@jupyter-widgets/controls",
            "_view_module_version": "1.5.0",
            "_view_name": "ProgressView",
            "bar_style": "success",
            "description": "",
            "description_tooltip": null,
            "layout": "IPY_MODEL_4c45a36635124c17aaf849a457b43986",
            "max": 539,
            "min": 0,
            "orientation": "horizontal",
            "style": "IPY_MODEL_dc6bdfb5126f4786aa832cc6493d0bd0",
            "value": 539
          }
        },
        "ebda29ffe4984884ad4ba5fd281200c3": {
          "model_module": "@jupyter-widgets/controls",
          "model_name": "HTMLModel",
          "model_module_version": "1.5.0",
          "state": {
            "_dom_classes": [],
            "_model_module": "@jupyter-widgets/controls",
            "_model_module_version": "1.5.0",
            "_model_name": "HTMLModel",
            "_view_count": null,
            "_view_module": "@jupyter-widgets/controls",
            "_view_module_version": "1.5.0",
            "_view_name": "HTMLView",
            "description": "",
            "description_tooltip": null,
            "layout": "IPY_MODEL_9b905387245140568d9ec709c3a83790",
            "placeholder": "​",
            "style": "IPY_MODEL_5e4de67bcb4e4aa6af810cc696d2d44e",
            "value": " 539/539 [00:00&lt;00:00, 68.3kB/s]"
          }
        },
        "27f82d35e5414a6b8fc52652aba9d3ab": {
          "model_module": "@jupyter-widgets/base",
          "model_name": "LayoutModel",
          "model_module_version": "1.2.0",
          "state": {
            "_model_module": "@jupyter-widgets/base",
            "_model_module_version": "1.2.0",
            "_model_name": "LayoutModel",
            "_view_count": null,
            "_view_module": "@jupyter-widgets/base",
            "_view_module_version": "1.2.0",
            "_view_name": "LayoutView",
            "align_content": null,
            "align_items": null,
            "align_self": null,
            "border": null,
            "bottom": null,
            "display": null,
            "flex": null,
            "flex_flow": null,
            "grid_area": null,
            "grid_auto_columns": null,
            "grid_auto_flow": null,
            "grid_auto_rows": null,
            "grid_column": null,
            "grid_gap": null,
            "grid_row": null,
            "grid_template_areas": null,
            "grid_template_columns": null,
            "grid_template_rows": null,
            "height": null,
            "justify_content": null,
            "justify_items": null,
            "left": null,
            "margin": null,
            "max_height": null,
            "max_width": null,
            "min_height": null,
            "min_width": null,
            "object_fit": null,
            "object_position": null,
            "order": null,
            "overflow": null,
            "overflow_x": null,
            "overflow_y": null,
            "padding": null,
            "right": null,
            "top": null,
            "visibility": null,
            "width": null
          }
        },
        "b233c21c195646f193dd7a0c16355db1": {
          "model_module": "@jupyter-widgets/base",
          "model_name": "LayoutModel",
          "model_module_version": "1.2.0",
          "state": {
            "_model_module": "@jupyter-widgets/base",
            "_model_module_version": "1.2.0",
            "_model_name": "LayoutModel",
            "_view_count": null,
            "_view_module": "@jupyter-widgets/base",
            "_view_module_version": "1.2.0",
            "_view_name": "LayoutView",
            "align_content": null,
            "align_items": null,
            "align_self": null,
            "border": null,
            "bottom": null,
            "display": null,
            "flex": null,
            "flex_flow": null,
            "grid_area": null,
            "grid_auto_columns": null,
            "grid_auto_flow": null,
            "grid_auto_rows": null,
            "grid_column": null,
            "grid_gap": null,
            "grid_row": null,
            "grid_template_areas": null,
            "grid_template_columns": null,
            "grid_template_rows": null,
            "height": null,
            "justify_content": null,
            "justify_items": null,
            "left": null,
            "margin": null,
            "max_height": null,
            "max_width": null,
            "min_height": null,
            "min_width": null,
            "object_fit": null,
            "object_position": null,
            "order": null,
            "overflow": null,
            "overflow_x": null,
            "overflow_y": null,
            "padding": null,
            "right": null,
            "top": null,
            "visibility": null,
            "width": null
          }
        },
        "89dc35660f56488fa3f7b0d3787b2ad2": {
          "model_module": "@jupyter-widgets/controls",
          "model_name": "DescriptionStyleModel",
          "model_module_version": "1.5.0",
          "state": {
            "_model_module": "@jupyter-widgets/controls",
            "_model_module_version": "1.5.0",
            "_model_name": "DescriptionStyleModel",
            "_view_count": null,
            "_view_module": "@jupyter-widgets/base",
            "_view_module_version": "1.2.0",
            "_view_name": "StyleView",
            "description_width": ""
          }
        },
        "4c45a36635124c17aaf849a457b43986": {
          "model_module": "@jupyter-widgets/base",
          "model_name": "LayoutModel",
          "model_module_version": "1.2.0",
          "state": {
            "_model_module": "@jupyter-widgets/base",
            "_model_module_version": "1.2.0",
            "_model_name": "LayoutModel",
            "_view_count": null,
            "_view_module": "@jupyter-widgets/base",
            "_view_module_version": "1.2.0",
            "_view_name": "LayoutView",
            "align_content": null,
            "align_items": null,
            "align_self": null,
            "border": null,
            "bottom": null,
            "display": null,
            "flex": null,
            "flex_flow": null,
            "grid_area": null,
            "grid_auto_columns": null,
            "grid_auto_flow": null,
            "grid_auto_rows": null,
            "grid_column": null,
            "grid_gap": null,
            "grid_row": null,
            "grid_template_areas": null,
            "grid_template_columns": null,
            "grid_template_rows": null,
            "height": null,
            "justify_content": null,
            "justify_items": null,
            "left": null,
            "margin": null,
            "max_height": null,
            "max_width": null,
            "min_height": null,
            "min_width": null,
            "object_fit": null,
            "object_position": null,
            "order": null,
            "overflow": null,
            "overflow_x": null,
            "overflow_y": null,
            "padding": null,
            "right": null,
            "top": null,
            "visibility": null,
            "width": null
          }
        },
        "dc6bdfb5126f4786aa832cc6493d0bd0": {
          "model_module": "@jupyter-widgets/controls",
          "model_name": "ProgressStyleModel",
          "model_module_version": "1.5.0",
          "state": {
            "_model_module": "@jupyter-widgets/controls",
            "_model_module_version": "1.5.0",
            "_model_name": "ProgressStyleModel",
            "_view_count": null,
            "_view_module": "@jupyter-widgets/base",
            "_view_module_version": "1.2.0",
            "_view_name": "StyleView",
            "bar_color": null,
            "description_width": ""
          }
        },
        "9b905387245140568d9ec709c3a83790": {
          "model_module": "@jupyter-widgets/base",
          "model_name": "LayoutModel",
          "model_module_version": "1.2.0",
          "state": {
            "_model_module": "@jupyter-widgets/base",
            "_model_module_version": "1.2.0",
            "_model_name": "LayoutModel",
            "_view_count": null,
            "_view_module": "@jupyter-widgets/base",
            "_view_module_version": "1.2.0",
            "_view_name": "LayoutView",
            "align_content": null,
            "align_items": null,
            "align_self": null,
            "border": null,
            "bottom": null,
            "display": null,
            "flex": null,
            "flex_flow": null,
            "grid_area": null,
            "grid_auto_columns": null,
            "grid_auto_flow": null,
            "grid_auto_rows": null,
            "grid_column": null,
            "grid_gap": null,
            "grid_row": null,
            "grid_template_areas": null,
            "grid_template_columns": null,
            "grid_template_rows": null,
            "height": null,
            "justify_content": null,
            "justify_items": null,
            "left": null,
            "margin": null,
            "max_height": null,
            "max_width": null,
            "min_height": null,
            "min_width": null,
            "object_fit": null,
            "object_position": null,
            "order": null,
            "overflow": null,
            "overflow_x": null,
            "overflow_y": null,
            "padding": null,
            "right": null,
            "top": null,
            "visibility": null,
            "width": null
          }
        },
        "5e4de67bcb4e4aa6af810cc696d2d44e": {
          "model_module": "@jupyter-widgets/controls",
          "model_name": "DescriptionStyleModel",
          "model_module_version": "1.5.0",
          "state": {
            "_model_module": "@jupyter-widgets/controls",
            "_model_module_version": "1.5.0",
            "_model_name": "DescriptionStyleModel",
            "_view_count": null,
            "_view_module": "@jupyter-widgets/base",
            "_view_module_version": "1.2.0",
            "_view_name": "StyleView",
            "description_width": ""
          }
        },
        "66b11f28697942f880d546917189c9b6": {
          "model_module": "@jupyter-widgets/controls",
          "model_name": "HBoxModel",
          "model_module_version": "1.5.0",
          "state": {
            "_dom_classes": [],
            "_model_module": "@jupyter-widgets/controls",
            "_model_module_version": "1.5.0",
            "_model_name": "HBoxModel",
            "_view_count": null,
            "_view_module": "@jupyter-widgets/controls",
            "_view_module_version": "1.5.0",
            "_view_name": "HBoxView",
            "box_style": "",
            "children": [
              "IPY_MODEL_1e0f5752e2b04e79a2486f427aad8622",
              "IPY_MODEL_7caef9846ee94d3a9f255292383d7cad",
              "IPY_MODEL_275ee19e11fe480c8fce2164b4936bfd"
            ],
            "layout": "IPY_MODEL_274fce7b554644b29967299786fb93e1"
          }
        },
        "1e0f5752e2b04e79a2486f427aad8622": {
          "model_module": "@jupyter-widgets/controls",
          "model_name": "HTMLModel",
          "model_module_version": "1.5.0",
          "state": {
            "_dom_classes": [],
            "_model_module": "@jupyter-widgets/controls",
            "_model_module_version": "1.5.0",
            "_model_name": "HTMLModel",
            "_view_count": null,
            "_view_module": "@jupyter-widgets/controls",
            "_view_module_version": "1.5.0",
            "_view_name": "HTMLView",
            "description": "",
            "description_tooltip": null,
            "layout": "IPY_MODEL_8b8024f0a9b44e459b6991e8c8b8c20a",
            "placeholder": "​",
            "style": "IPY_MODEL_35d9bd30bf024b88b6c3bc7887770c61",
            "value": "vocab.json: 100%"
          }
        },
        "7caef9846ee94d3a9f255292383d7cad": {
          "model_module": "@jupyter-widgets/controls",
          "model_name": "FloatProgressModel",
          "model_module_version": "1.5.0",
          "state": {
            "_dom_classes": [],
            "_model_module": "@jupyter-widgets/controls",
            "_model_module_version": "1.5.0",
            "_model_name": "FloatProgressModel",
            "_view_count": null,
            "_view_module": "@jupyter-widgets/controls",
            "_view_module_version": "1.5.0",
            "_view_name": "ProgressView",
            "bar_style": "success",
            "description": "",
            "description_tooltip": null,
            "layout": "IPY_MODEL_429270592a42489db9e3cca2df0c7bc4",
            "max": 898822,
            "min": 0,
            "orientation": "horizontal",
            "style": "IPY_MODEL_6835d8fe4bf64bf2af15c3f76def448c",
            "value": 898822
          }
        },
        "275ee19e11fe480c8fce2164b4936bfd": {
          "model_module": "@jupyter-widgets/controls",
          "model_name": "HTMLModel",
          "model_module_version": "1.5.0",
          "state": {
            "_dom_classes": [],
            "_model_module": "@jupyter-widgets/controls",
            "_model_module_version": "1.5.0",
            "_model_name": "HTMLModel",
            "_view_count": null,
            "_view_module": "@jupyter-widgets/controls",
            "_view_module_version": "1.5.0",
            "_view_name": "HTMLView",
            "description": "",
            "description_tooltip": null,
            "layout": "IPY_MODEL_960495ca105a46f5ae3e53de6d068cad",
            "placeholder": "​",
            "style": "IPY_MODEL_2976bda63cc1436f855dd82d99c706c1",
            "value": " 899k/899k [00:00&lt;00:00, 10.9MB/s]"
          }
        },
        "274fce7b554644b29967299786fb93e1": {
          "model_module": "@jupyter-widgets/base",
          "model_name": "LayoutModel",
          "model_module_version": "1.2.0",
          "state": {
            "_model_module": "@jupyter-widgets/base",
            "_model_module_version": "1.2.0",
            "_model_name": "LayoutModel",
            "_view_count": null,
            "_view_module": "@jupyter-widgets/base",
            "_view_module_version": "1.2.0",
            "_view_name": "LayoutView",
            "align_content": null,
            "align_items": null,
            "align_self": null,
            "border": null,
            "bottom": null,
            "display": null,
            "flex": null,
            "flex_flow": null,
            "grid_area": null,
            "grid_auto_columns": null,
            "grid_auto_flow": null,
            "grid_auto_rows": null,
            "grid_column": null,
            "grid_gap": null,
            "grid_row": null,
            "grid_template_areas": null,
            "grid_template_columns": null,
            "grid_template_rows": null,
            "height": null,
            "justify_content": null,
            "justify_items": null,
            "left": null,
            "margin": null,
            "max_height": null,
            "max_width": null,
            "min_height": null,
            "min_width": null,
            "object_fit": null,
            "object_position": null,
            "order": null,
            "overflow": null,
            "overflow_x": null,
            "overflow_y": null,
            "padding": null,
            "right": null,
            "top": null,
            "visibility": null,
            "width": null
          }
        },
        "8b8024f0a9b44e459b6991e8c8b8c20a": {
          "model_module": "@jupyter-widgets/base",
          "model_name": "LayoutModel",
          "model_module_version": "1.2.0",
          "state": {
            "_model_module": "@jupyter-widgets/base",
            "_model_module_version": "1.2.0",
            "_model_name": "LayoutModel",
            "_view_count": null,
            "_view_module": "@jupyter-widgets/base",
            "_view_module_version": "1.2.0",
            "_view_name": "LayoutView",
            "align_content": null,
            "align_items": null,
            "align_self": null,
            "border": null,
            "bottom": null,
            "display": null,
            "flex": null,
            "flex_flow": null,
            "grid_area": null,
            "grid_auto_columns": null,
            "grid_auto_flow": null,
            "grid_auto_rows": null,
            "grid_column": null,
            "grid_gap": null,
            "grid_row": null,
            "grid_template_areas": null,
            "grid_template_columns": null,
            "grid_template_rows": null,
            "height": null,
            "justify_content": null,
            "justify_items": null,
            "left": null,
            "margin": null,
            "max_height": null,
            "max_width": null,
            "min_height": null,
            "min_width": null,
            "object_fit": null,
            "object_position": null,
            "order": null,
            "overflow": null,
            "overflow_x": null,
            "overflow_y": null,
            "padding": null,
            "right": null,
            "top": null,
            "visibility": null,
            "width": null
          }
        },
        "35d9bd30bf024b88b6c3bc7887770c61": {
          "model_module": "@jupyter-widgets/controls",
          "model_name": "DescriptionStyleModel",
          "model_module_version": "1.5.0",
          "state": {
            "_model_module": "@jupyter-widgets/controls",
            "_model_module_version": "1.5.0",
            "_model_name": "DescriptionStyleModel",
            "_view_count": null,
            "_view_module": "@jupyter-widgets/base",
            "_view_module_version": "1.2.0",
            "_view_name": "StyleView",
            "description_width": ""
          }
        },
        "429270592a42489db9e3cca2df0c7bc4": {
          "model_module": "@jupyter-widgets/base",
          "model_name": "LayoutModel",
          "model_module_version": "1.2.0",
          "state": {
            "_model_module": "@jupyter-widgets/base",
            "_model_module_version": "1.2.0",
            "_model_name": "LayoutModel",
            "_view_count": null,
            "_view_module": "@jupyter-widgets/base",
            "_view_module_version": "1.2.0",
            "_view_name": "LayoutView",
            "align_content": null,
            "align_items": null,
            "align_self": null,
            "border": null,
            "bottom": null,
            "display": null,
            "flex": null,
            "flex_flow": null,
            "grid_area": null,
            "grid_auto_columns": null,
            "grid_auto_flow": null,
            "grid_auto_rows": null,
            "grid_column": null,
            "grid_gap": null,
            "grid_row": null,
            "grid_template_areas": null,
            "grid_template_columns": null,
            "grid_template_rows": null,
            "height": null,
            "justify_content": null,
            "justify_items": null,
            "left": null,
            "margin": null,
            "max_height": null,
            "max_width": null,
            "min_height": null,
            "min_width": null,
            "object_fit": null,
            "object_position": null,
            "order": null,
            "overflow": null,
            "overflow_x": null,
            "overflow_y": null,
            "padding": null,
            "right": null,
            "top": null,
            "visibility": null,
            "width": null
          }
        },
        "6835d8fe4bf64bf2af15c3f76def448c": {
          "model_module": "@jupyter-widgets/controls",
          "model_name": "ProgressStyleModel",
          "model_module_version": "1.5.0",
          "state": {
            "_model_module": "@jupyter-widgets/controls",
            "_model_module_version": "1.5.0",
            "_model_name": "ProgressStyleModel",
            "_view_count": null,
            "_view_module": "@jupyter-widgets/base",
            "_view_module_version": "1.2.0",
            "_view_name": "StyleView",
            "bar_color": null,
            "description_width": ""
          }
        },
        "960495ca105a46f5ae3e53de6d068cad": {
          "model_module": "@jupyter-widgets/base",
          "model_name": "LayoutModel",
          "model_module_version": "1.2.0",
          "state": {
            "_model_module": "@jupyter-widgets/base",
            "_model_module_version": "1.2.0",
            "_model_name": "LayoutModel",
            "_view_count": null,
            "_view_module": "@jupyter-widgets/base",
            "_view_module_version": "1.2.0",
            "_view_name": "LayoutView",
            "align_content": null,
            "align_items": null,
            "align_self": null,
            "border": null,
            "bottom": null,
            "display": null,
            "flex": null,
            "flex_flow": null,
            "grid_area": null,
            "grid_auto_columns": null,
            "grid_auto_flow": null,
            "grid_auto_rows": null,
            "grid_column": null,
            "grid_gap": null,
            "grid_row": null,
            "grid_template_areas": null,
            "grid_template_columns": null,
            "grid_template_rows": null,
            "height": null,
            "justify_content": null,
            "justify_items": null,
            "left": null,
            "margin": null,
            "max_height": null,
            "max_width": null,
            "min_height": null,
            "min_width": null,
            "object_fit": null,
            "object_position": null,
            "order": null,
            "overflow": null,
            "overflow_x": null,
            "overflow_y": null,
            "padding": null,
            "right": null,
            "top": null,
            "visibility": null,
            "width": null
          }
        },
        "2976bda63cc1436f855dd82d99c706c1": {
          "model_module": "@jupyter-widgets/controls",
          "model_name": "DescriptionStyleModel",
          "model_module_version": "1.5.0",
          "state": {
            "_model_module": "@jupyter-widgets/controls",
            "_model_module_version": "1.5.0",
            "_model_name": "DescriptionStyleModel",
            "_view_count": null,
            "_view_module": "@jupyter-widgets/base",
            "_view_module_version": "1.2.0",
            "_view_name": "StyleView",
            "description_width": ""
          }
        },
        "ad10a07e2fae4a31a07fe2c342e19078": {
          "model_module": "@jupyter-widgets/controls",
          "model_name": "HBoxModel",
          "model_module_version": "1.5.0",
          "state": {
            "_dom_classes": [],
            "_model_module": "@jupyter-widgets/controls",
            "_model_module_version": "1.5.0",
            "_model_name": "HBoxModel",
            "_view_count": null,
            "_view_module": "@jupyter-widgets/controls",
            "_view_module_version": "1.5.0",
            "_view_name": "HBoxView",
            "box_style": "",
            "children": [
              "IPY_MODEL_2b663596045c464a9b1f98655d92b940",
              "IPY_MODEL_5744a5318f2b4e42a687313db3c1b18e",
              "IPY_MODEL_f423aa2592e3447b92488747d2d5cbc6"
            ],
            "layout": "IPY_MODEL_2fb8e83d592e4bf491502a18c452daa1"
          }
        },
        "2b663596045c464a9b1f98655d92b940": {
          "model_module": "@jupyter-widgets/controls",
          "model_name": "HTMLModel",
          "model_module_version": "1.5.0",
          "state": {
            "_dom_classes": [],
            "_model_module": "@jupyter-widgets/controls",
            "_model_module_version": "1.5.0",
            "_model_name": "HTMLModel",
            "_view_count": null,
            "_view_module": "@jupyter-widgets/controls",
            "_view_module_version": "1.5.0",
            "_view_name": "HTMLView",
            "description": "",
            "description_tooltip": null,
            "layout": "IPY_MODEL_3d558876233d43ca810efbb1c0ed6e2d",
            "placeholder": "​",
            "style": "IPY_MODEL_bc986926022b479791a4bf1157c34c5f",
            "value": "merges.txt: 100%"
          }
        },
        "5744a5318f2b4e42a687313db3c1b18e": {
          "model_module": "@jupyter-widgets/controls",
          "model_name": "FloatProgressModel",
          "model_module_version": "1.5.0",
          "state": {
            "_dom_classes": [],
            "_model_module": "@jupyter-widgets/controls",
            "_model_module_version": "1.5.0",
            "_model_name": "FloatProgressModel",
            "_view_count": null,
            "_view_module": "@jupyter-widgets/controls",
            "_view_module_version": "1.5.0",
            "_view_name": "ProgressView",
            "bar_style": "success",
            "description": "",
            "description_tooltip": null,
            "layout": "IPY_MODEL_a099e19119684e33a8dc87bda14d8e47",
            "max": 456318,
            "min": 0,
            "orientation": "horizontal",
            "style": "IPY_MODEL_6ff5e6c1793e4d92885f72b033b5dab1",
            "value": 456318
          }
        },
        "f423aa2592e3447b92488747d2d5cbc6": {
          "model_module": "@jupyter-widgets/controls",
          "model_name": "HTMLModel",
          "model_module_version": "1.5.0",
          "state": {
            "_dom_classes": [],
            "_model_module": "@jupyter-widgets/controls",
            "_model_module_version": "1.5.0",
            "_model_name": "HTMLModel",
            "_view_count": null,
            "_view_module": "@jupyter-widgets/controls",
            "_view_module_version": "1.5.0",
            "_view_name": "HTMLView",
            "description": "",
            "description_tooltip": null,
            "layout": "IPY_MODEL_eb373b51a3c8420b9203d67ac2d7a1b7",
            "placeholder": "​",
            "style": "IPY_MODEL_0713d937316e40e2a36a8a3d61de2d97",
            "value": " 456k/456k [00:00&lt;00:00, 8.39MB/s]"
          }
        },
        "2fb8e83d592e4bf491502a18c452daa1": {
          "model_module": "@jupyter-widgets/base",
          "model_name": "LayoutModel",
          "model_module_version": "1.2.0",
          "state": {
            "_model_module": "@jupyter-widgets/base",
            "_model_module_version": "1.2.0",
            "_model_name": "LayoutModel",
            "_view_count": null,
            "_view_module": "@jupyter-widgets/base",
            "_view_module_version": "1.2.0",
            "_view_name": "LayoutView",
            "align_content": null,
            "align_items": null,
            "align_self": null,
            "border": null,
            "bottom": null,
            "display": null,
            "flex": null,
            "flex_flow": null,
            "grid_area": null,
            "grid_auto_columns": null,
            "grid_auto_flow": null,
            "grid_auto_rows": null,
            "grid_column": null,
            "grid_gap": null,
            "grid_row": null,
            "grid_template_areas": null,
            "grid_template_columns": null,
            "grid_template_rows": null,
            "height": null,
            "justify_content": null,
            "justify_items": null,
            "left": null,
            "margin": null,
            "max_height": null,
            "max_width": null,
            "min_height": null,
            "min_width": null,
            "object_fit": null,
            "object_position": null,
            "order": null,
            "overflow": null,
            "overflow_x": null,
            "overflow_y": null,
            "padding": null,
            "right": null,
            "top": null,
            "visibility": null,
            "width": null
          }
        },
        "3d558876233d43ca810efbb1c0ed6e2d": {
          "model_module": "@jupyter-widgets/base",
          "model_name": "LayoutModel",
          "model_module_version": "1.2.0",
          "state": {
            "_model_module": "@jupyter-widgets/base",
            "_model_module_version": "1.2.0",
            "_model_name": "LayoutModel",
            "_view_count": null,
            "_view_module": "@jupyter-widgets/base",
            "_view_module_version": "1.2.0",
            "_view_name": "LayoutView",
            "align_content": null,
            "align_items": null,
            "align_self": null,
            "border": null,
            "bottom": null,
            "display": null,
            "flex": null,
            "flex_flow": null,
            "grid_area": null,
            "grid_auto_columns": null,
            "grid_auto_flow": null,
            "grid_auto_rows": null,
            "grid_column": null,
            "grid_gap": null,
            "grid_row": null,
            "grid_template_areas": null,
            "grid_template_columns": null,
            "grid_template_rows": null,
            "height": null,
            "justify_content": null,
            "justify_items": null,
            "left": null,
            "margin": null,
            "max_height": null,
            "max_width": null,
            "min_height": null,
            "min_width": null,
            "object_fit": null,
            "object_position": null,
            "order": null,
            "overflow": null,
            "overflow_x": null,
            "overflow_y": null,
            "padding": null,
            "right": null,
            "top": null,
            "visibility": null,
            "width": null
          }
        },
        "bc986926022b479791a4bf1157c34c5f": {
          "model_module": "@jupyter-widgets/controls",
          "model_name": "DescriptionStyleModel",
          "model_module_version": "1.5.0",
          "state": {
            "_model_module": "@jupyter-widgets/controls",
            "_model_module_version": "1.5.0",
            "_model_name": "DescriptionStyleModel",
            "_view_count": null,
            "_view_module": "@jupyter-widgets/base",
            "_view_module_version": "1.2.0",
            "_view_name": "StyleView",
            "description_width": ""
          }
        },
        "a099e19119684e33a8dc87bda14d8e47": {
          "model_module": "@jupyter-widgets/base",
          "model_name": "LayoutModel",
          "model_module_version": "1.2.0",
          "state": {
            "_model_module": "@jupyter-widgets/base",
            "_model_module_version": "1.2.0",
            "_model_name": "LayoutModel",
            "_view_count": null,
            "_view_module": "@jupyter-widgets/base",
            "_view_module_version": "1.2.0",
            "_view_name": "LayoutView",
            "align_content": null,
            "align_items": null,
            "align_self": null,
            "border": null,
            "bottom": null,
            "display": null,
            "flex": null,
            "flex_flow": null,
            "grid_area": null,
            "grid_auto_columns": null,
            "grid_auto_flow": null,
            "grid_auto_rows": null,
            "grid_column": null,
            "grid_gap": null,
            "grid_row": null,
            "grid_template_areas": null,
            "grid_template_columns": null,
            "grid_template_rows": null,
            "height": null,
            "justify_content": null,
            "justify_items": null,
            "left": null,
            "margin": null,
            "max_height": null,
            "max_width": null,
            "min_height": null,
            "min_width": null,
            "object_fit": null,
            "object_position": null,
            "order": null,
            "overflow": null,
            "overflow_x": null,
            "overflow_y": null,
            "padding": null,
            "right": null,
            "top": null,
            "visibility": null,
            "width": null
          }
        },
        "6ff5e6c1793e4d92885f72b033b5dab1": {
          "model_module": "@jupyter-widgets/controls",
          "model_name": "ProgressStyleModel",
          "model_module_version": "1.5.0",
          "state": {
            "_model_module": "@jupyter-widgets/controls",
            "_model_module_version": "1.5.0",
            "_model_name": "ProgressStyleModel",
            "_view_count": null,
            "_view_module": "@jupyter-widgets/base",
            "_view_module_version": "1.2.0",
            "_view_name": "StyleView",
            "bar_color": null,
            "description_width": ""
          }
        },
        "eb373b51a3c8420b9203d67ac2d7a1b7": {
          "model_module": "@jupyter-widgets/base",
          "model_name": "LayoutModel",
          "model_module_version": "1.2.0",
          "state": {
            "_model_module": "@jupyter-widgets/base",
            "_model_module_version": "1.2.0",
            "_model_name": "LayoutModel",
            "_view_count": null,
            "_view_module": "@jupyter-widgets/base",
            "_view_module_version": "1.2.0",
            "_view_name": "LayoutView",
            "align_content": null,
            "align_items": null,
            "align_self": null,
            "border": null,
            "bottom": null,
            "display": null,
            "flex": null,
            "flex_flow": null,
            "grid_area": null,
            "grid_auto_columns": null,
            "grid_auto_flow": null,
            "grid_auto_rows": null,
            "grid_column": null,
            "grid_gap": null,
            "grid_row": null,
            "grid_template_areas": null,
            "grid_template_columns": null,
            "grid_template_rows": null,
            "height": null,
            "justify_content": null,
            "justify_items": null,
            "left": null,
            "margin": null,
            "max_height": null,
            "max_width": null,
            "min_height": null,
            "min_width": null,
            "object_fit": null,
            "object_position": null,
            "order": null,
            "overflow": null,
            "overflow_x": null,
            "overflow_y": null,
            "padding": null,
            "right": null,
            "top": null,
            "visibility": null,
            "width": null
          }
        },
        "0713d937316e40e2a36a8a3d61de2d97": {
          "model_module": "@jupyter-widgets/controls",
          "model_name": "DescriptionStyleModel",
          "model_module_version": "1.5.0",
          "state": {
            "_model_module": "@jupyter-widgets/controls",
            "_model_module_version": "1.5.0",
            "_model_name": "DescriptionStyleModel",
            "_view_count": null,
            "_view_module": "@jupyter-widgets/base",
            "_view_module_version": "1.2.0",
            "_view_name": "StyleView",
            "description_width": ""
          }
        },
        "7b354cb31bad487885de381b759e6882": {
          "model_module": "@jupyter-widgets/controls",
          "model_name": "HBoxModel",
          "model_module_version": "1.5.0",
          "state": {
            "_dom_classes": [],
            "_model_module": "@jupyter-widgets/controls",
            "_model_module_version": "1.5.0",
            "_model_name": "HBoxModel",
            "_view_count": null,
            "_view_module": "@jupyter-widgets/controls",
            "_view_module_version": "1.5.0",
            "_view_name": "HBoxView",
            "box_style": "",
            "children": [
              "IPY_MODEL_cdca73032db64cc49759c46cb7e0addb",
              "IPY_MODEL_4622b32eb86348a39a876bb06f89b55c",
              "IPY_MODEL_a394fe8e13a44d3dbcf919cad1c2ab59"
            ],
            "layout": "IPY_MODEL_130b53d762e848f9b5f2822bf3d49175"
          }
        },
        "cdca73032db64cc49759c46cb7e0addb": {
          "model_module": "@jupyter-widgets/controls",
          "model_name": "HTMLModel",
          "model_module_version": "1.5.0",
          "state": {
            "_dom_classes": [],
            "_model_module": "@jupyter-widgets/controls",
            "_model_module_version": "1.5.0",
            "_model_name": "HTMLModel",
            "_view_count": null,
            "_view_module": "@jupyter-widgets/controls",
            "_view_module_version": "1.5.0",
            "_view_name": "HTMLView",
            "description": "",
            "description_tooltip": null,
            "layout": "IPY_MODEL_eef9e8dc5aec44d292362c0036daaf09",
            "placeholder": "​",
            "style": "IPY_MODEL_157de54622cb4862a19321a303120526",
            "value": "special_tokens_map.json: 100%"
          }
        },
        "4622b32eb86348a39a876bb06f89b55c": {
          "model_module": "@jupyter-widgets/controls",
          "model_name": "FloatProgressModel",
          "model_module_version": "1.5.0",
          "state": {
            "_dom_classes": [],
            "_model_module": "@jupyter-widgets/controls",
            "_model_module_version": "1.5.0",
            "_model_name": "FloatProgressModel",
            "_view_count": null,
            "_view_module": "@jupyter-widgets/controls",
            "_view_module_version": "1.5.0",
            "_view_name": "ProgressView",
            "bar_style": "success",
            "description": "",
            "description_tooltip": null,
            "layout": "IPY_MODEL_16386a1419e44619a3bd090730b1165e",
            "max": 772,
            "min": 0,
            "orientation": "horizontal",
            "style": "IPY_MODEL_dd9109bdddef4b8985e36520f075bbf5",
            "value": 772
          }
        },
        "a394fe8e13a44d3dbcf919cad1c2ab59": {
          "model_module": "@jupyter-widgets/controls",
          "model_name": "HTMLModel",
          "model_module_version": "1.5.0",
          "state": {
            "_dom_classes": [],
            "_model_module": "@jupyter-widgets/controls",
            "_model_module_version": "1.5.0",
            "_model_name": "HTMLModel",
            "_view_count": null,
            "_view_module": "@jupyter-widgets/controls",
            "_view_module_version": "1.5.0",
            "_view_name": "HTMLView",
            "description": "",
            "description_tooltip": null,
            "layout": "IPY_MODEL_ed55e8259ea0485e91dd158284bbfa9e",
            "placeholder": "​",
            "style": "IPY_MODEL_ba66ccd76a674d298ab420dd8d1b3408",
            "value": " 772/772 [00:00&lt;00:00, 92.5kB/s]"
          }
        },
        "130b53d762e848f9b5f2822bf3d49175": {
          "model_module": "@jupyter-widgets/base",
          "model_name": "LayoutModel",
          "model_module_version": "1.2.0",
          "state": {
            "_model_module": "@jupyter-widgets/base",
            "_model_module_version": "1.2.0",
            "_model_name": "LayoutModel",
            "_view_count": null,
            "_view_module": "@jupyter-widgets/base",
            "_view_module_version": "1.2.0",
            "_view_name": "LayoutView",
            "align_content": null,
            "align_items": null,
            "align_self": null,
            "border": null,
            "bottom": null,
            "display": null,
            "flex": null,
            "flex_flow": null,
            "grid_area": null,
            "grid_auto_columns": null,
            "grid_auto_flow": null,
            "grid_auto_rows": null,
            "grid_column": null,
            "grid_gap": null,
            "grid_row": null,
            "grid_template_areas": null,
            "grid_template_columns": null,
            "grid_template_rows": null,
            "height": null,
            "justify_content": null,
            "justify_items": null,
            "left": null,
            "margin": null,
            "max_height": null,
            "max_width": null,
            "min_height": null,
            "min_width": null,
            "object_fit": null,
            "object_position": null,
            "order": null,
            "overflow": null,
            "overflow_x": null,
            "overflow_y": null,
            "padding": null,
            "right": null,
            "top": null,
            "visibility": null,
            "width": null
          }
        },
        "eef9e8dc5aec44d292362c0036daaf09": {
          "model_module": "@jupyter-widgets/base",
          "model_name": "LayoutModel",
          "model_module_version": "1.2.0",
          "state": {
            "_model_module": "@jupyter-widgets/base",
            "_model_module_version": "1.2.0",
            "_model_name": "LayoutModel",
            "_view_count": null,
            "_view_module": "@jupyter-widgets/base",
            "_view_module_version": "1.2.0",
            "_view_name": "LayoutView",
            "align_content": null,
            "align_items": null,
            "align_self": null,
            "border": null,
            "bottom": null,
            "display": null,
            "flex": null,
            "flex_flow": null,
            "grid_area": null,
            "grid_auto_columns": null,
            "grid_auto_flow": null,
            "grid_auto_rows": null,
            "grid_column": null,
            "grid_gap": null,
            "grid_row": null,
            "grid_template_areas": null,
            "grid_template_columns": null,
            "grid_template_rows": null,
            "height": null,
            "justify_content": null,
            "justify_items": null,
            "left": null,
            "margin": null,
            "max_height": null,
            "max_width": null,
            "min_height": null,
            "min_width": null,
            "object_fit": null,
            "object_position": null,
            "order": null,
            "overflow": null,
            "overflow_x": null,
            "overflow_y": null,
            "padding": null,
            "right": null,
            "top": null,
            "visibility": null,
            "width": null
          }
        },
        "157de54622cb4862a19321a303120526": {
          "model_module": "@jupyter-widgets/controls",
          "model_name": "DescriptionStyleModel",
          "model_module_version": "1.5.0",
          "state": {
            "_model_module": "@jupyter-widgets/controls",
            "_model_module_version": "1.5.0",
            "_model_name": "DescriptionStyleModel",
            "_view_count": null,
            "_view_module": "@jupyter-widgets/base",
            "_view_module_version": "1.2.0",
            "_view_name": "StyleView",
            "description_width": ""
          }
        },
        "16386a1419e44619a3bd090730b1165e": {
          "model_module": "@jupyter-widgets/base",
          "model_name": "LayoutModel",
          "model_module_version": "1.2.0",
          "state": {
            "_model_module": "@jupyter-widgets/base",
            "_model_module_version": "1.2.0",
            "_model_name": "LayoutModel",
            "_view_count": null,
            "_view_module": "@jupyter-widgets/base",
            "_view_module_version": "1.2.0",
            "_view_name": "LayoutView",
            "align_content": null,
            "align_items": null,
            "align_self": null,
            "border": null,
            "bottom": null,
            "display": null,
            "flex": null,
            "flex_flow": null,
            "grid_area": null,
            "grid_auto_columns": null,
            "grid_auto_flow": null,
            "grid_auto_rows": null,
            "grid_column": null,
            "grid_gap": null,
            "grid_row": null,
            "grid_template_areas": null,
            "grid_template_columns": null,
            "grid_template_rows": null,
            "height": null,
            "justify_content": null,
            "justify_items": null,
            "left": null,
            "margin": null,
            "max_height": null,
            "max_width": null,
            "min_height": null,
            "min_width": null,
            "object_fit": null,
            "object_position": null,
            "order": null,
            "overflow": null,
            "overflow_x": null,
            "overflow_y": null,
            "padding": null,
            "right": null,
            "top": null,
            "visibility": null,
            "width": null
          }
        },
        "dd9109bdddef4b8985e36520f075bbf5": {
          "model_module": "@jupyter-widgets/controls",
          "model_name": "ProgressStyleModel",
          "model_module_version": "1.5.0",
          "state": {
            "_model_module": "@jupyter-widgets/controls",
            "_model_module_version": "1.5.0",
            "_model_name": "ProgressStyleModel",
            "_view_count": null,
            "_view_module": "@jupyter-widgets/base",
            "_view_module_version": "1.2.0",
            "_view_name": "StyleView",
            "bar_color": null,
            "description_width": ""
          }
        },
        "ed55e8259ea0485e91dd158284bbfa9e": {
          "model_module": "@jupyter-widgets/base",
          "model_name": "LayoutModel",
          "model_module_version": "1.2.0",
          "state": {
            "_model_module": "@jupyter-widgets/base",
            "_model_module_version": "1.2.0",
            "_model_name": "LayoutModel",
            "_view_count": null,
            "_view_module": "@jupyter-widgets/base",
            "_view_module_version": "1.2.0",
            "_view_name": "LayoutView",
            "align_content": null,
            "align_items": null,
            "align_self": null,
            "border": null,
            "bottom": null,
            "display": null,
            "flex": null,
            "flex_flow": null,
            "grid_area": null,
            "grid_auto_columns": null,
            "grid_auto_flow": null,
            "grid_auto_rows": null,
            "grid_column": null,
            "grid_gap": null,
            "grid_row": null,
            "grid_template_areas": null,
            "grid_template_columns": null,
            "grid_template_rows": null,
            "height": null,
            "justify_content": null,
            "justify_items": null,
            "left": null,
            "margin": null,
            "max_height": null,
            "max_width": null,
            "min_height": null,
            "min_width": null,
            "object_fit": null,
            "object_position": null,
            "order": null,
            "overflow": null,
            "overflow_x": null,
            "overflow_y": null,
            "padding": null,
            "right": null,
            "top": null,
            "visibility": null,
            "width": null
          }
        },
        "ba66ccd76a674d298ab420dd8d1b3408": {
          "model_module": "@jupyter-widgets/controls",
          "model_name": "DescriptionStyleModel",
          "model_module_version": "1.5.0",
          "state": {
            "_model_module": "@jupyter-widgets/controls",
            "_model_module_version": "1.5.0",
            "_model_name": "DescriptionStyleModel",
            "_view_count": null,
            "_view_module": "@jupyter-widgets/base",
            "_view_module_version": "1.2.0",
            "_view_name": "StyleView",
            "description_width": ""
          }
        },
        "1991304bec3e4933ac7af9bf9185155f": {
          "model_module": "@jupyter-widgets/controls",
          "model_name": "HBoxModel",
          "model_module_version": "1.5.0",
          "state": {
            "_dom_classes": [],
            "_model_module": "@jupyter-widgets/controls",
            "_model_module_version": "1.5.0",
            "_model_name": "HBoxModel",
            "_view_count": null,
            "_view_module": "@jupyter-widgets/controls",
            "_view_module_version": "1.5.0",
            "_view_name": "HBoxView",
            "box_style": "",
            "children": [
              "IPY_MODEL_4a51285d1b244c6da0b26dbf4ba65207",
              "IPY_MODEL_b3d22a123613409eb79763c359047db5",
              "IPY_MODEL_d7c739ee4458472ea588ba053f38d797"
            ],
            "layout": "IPY_MODEL_241309fa03544924bc79b96a19391bb5"
          }
        },
        "4a51285d1b244c6da0b26dbf4ba65207": {
          "model_module": "@jupyter-widgets/controls",
          "model_name": "HTMLModel",
          "model_module_version": "1.5.0",
          "state": {
            "_dom_classes": [],
            "_model_module": "@jupyter-widgets/controls",
            "_model_module_version": "1.5.0",
            "_model_name": "HTMLModel",
            "_view_count": null,
            "_view_module": "@jupyter-widgets/controls",
            "_view_module_version": "1.5.0",
            "_view_name": "HTMLView",
            "description": "",
            "description_tooltip": null,
            "layout": "IPY_MODEL_d5ecd4a3f0794eef8f54d067c326f407",
            "placeholder": "​",
            "style": "IPY_MODEL_129837ca8e4a4335950437bec3d1f356",
            "value": "pytorch_model.bin: 100%"
          }
        },
        "b3d22a123613409eb79763c359047db5": {
          "model_module": "@jupyter-widgets/controls",
          "model_name": "FloatProgressModel",
          "model_module_version": "1.5.0",
          "state": {
            "_dom_classes": [],
            "_model_module": "@jupyter-widgets/controls",
            "_model_module_version": "1.5.0",
            "_model_name": "FloatProgressModel",
            "_view_count": null,
            "_view_module": "@jupyter-widgets/controls",
            "_view_module_version": "1.5.0",
            "_view_name": "ProgressView",
            "bar_style": "success",
            "description": "",
            "description_tooltip": null,
            "layout": "IPY_MODEL_0dbdbba4ec384d508ec65253307984e6",
            "max": 498845934,
            "min": 0,
            "orientation": "horizontal",
            "style": "IPY_MODEL_540fa3911c114875969c6d0122e833bd",
            "value": 498845934
          }
        },
        "d7c739ee4458472ea588ba053f38d797": {
          "model_module": "@jupyter-widgets/controls",
          "model_name": "HTMLModel",
          "model_module_version": "1.5.0",
          "state": {
            "_dom_classes": [],
            "_model_module": "@jupyter-widgets/controls",
            "_model_module_version": "1.5.0",
            "_model_name": "HTMLModel",
            "_view_count": null,
            "_view_module": "@jupyter-widgets/controls",
            "_view_module_version": "1.5.0",
            "_view_name": "HTMLView",
            "description": "",
            "description_tooltip": null,
            "layout": "IPY_MODEL_f6048f1a32f84de08268f4aa465d8834",
            "placeholder": "​",
            "style": "IPY_MODEL_593b834c5fef49e7bbbdb2803495b6d8",
            "value": " 499M/499M [00:02&lt;00:00, 157MB/s]"
          }
        },
        "241309fa03544924bc79b96a19391bb5": {
          "model_module": "@jupyter-widgets/base",
          "model_name": "LayoutModel",
          "model_module_version": "1.2.0",
          "state": {
            "_model_module": "@jupyter-widgets/base",
            "_model_module_version": "1.2.0",
            "_model_name": "LayoutModel",
            "_view_count": null,
            "_view_module": "@jupyter-widgets/base",
            "_view_module_version": "1.2.0",
            "_view_name": "LayoutView",
            "align_content": null,
            "align_items": null,
            "align_self": null,
            "border": null,
            "bottom": null,
            "display": null,
            "flex": null,
            "flex_flow": null,
            "grid_area": null,
            "grid_auto_columns": null,
            "grid_auto_flow": null,
            "grid_auto_rows": null,
            "grid_column": null,
            "grid_gap": null,
            "grid_row": null,
            "grid_template_areas": null,
            "grid_template_columns": null,
            "grid_template_rows": null,
            "height": null,
            "justify_content": null,
            "justify_items": null,
            "left": null,
            "margin": null,
            "max_height": null,
            "max_width": null,
            "min_height": null,
            "min_width": null,
            "object_fit": null,
            "object_position": null,
            "order": null,
            "overflow": null,
            "overflow_x": null,
            "overflow_y": null,
            "padding": null,
            "right": null,
            "top": null,
            "visibility": null,
            "width": null
          }
        },
        "d5ecd4a3f0794eef8f54d067c326f407": {
          "model_module": "@jupyter-widgets/base",
          "model_name": "LayoutModel",
          "model_module_version": "1.2.0",
          "state": {
            "_model_module": "@jupyter-widgets/base",
            "_model_module_version": "1.2.0",
            "_model_name": "LayoutModel",
            "_view_count": null,
            "_view_module": "@jupyter-widgets/base",
            "_view_module_version": "1.2.0",
            "_view_name": "LayoutView",
            "align_content": null,
            "align_items": null,
            "align_self": null,
            "border": null,
            "bottom": null,
            "display": null,
            "flex": null,
            "flex_flow": null,
            "grid_area": null,
            "grid_auto_columns": null,
            "grid_auto_flow": null,
            "grid_auto_rows": null,
            "grid_column": null,
            "grid_gap": null,
            "grid_row": null,
            "grid_template_areas": null,
            "grid_template_columns": null,
            "grid_template_rows": null,
            "height": null,
            "justify_content": null,
            "justify_items": null,
            "left": null,
            "margin": null,
            "max_height": null,
            "max_width": null,
            "min_height": null,
            "min_width": null,
            "object_fit": null,
            "object_position": null,
            "order": null,
            "overflow": null,
            "overflow_x": null,
            "overflow_y": null,
            "padding": null,
            "right": null,
            "top": null,
            "visibility": null,
            "width": null
          }
        },
        "129837ca8e4a4335950437bec3d1f356": {
          "model_module": "@jupyter-widgets/controls",
          "model_name": "DescriptionStyleModel",
          "model_module_version": "1.5.0",
          "state": {
            "_model_module": "@jupyter-widgets/controls",
            "_model_module_version": "1.5.0",
            "_model_name": "DescriptionStyleModel",
            "_view_count": null,
            "_view_module": "@jupyter-widgets/base",
            "_view_module_version": "1.2.0",
            "_view_name": "StyleView",
            "description_width": ""
          }
        },
        "0dbdbba4ec384d508ec65253307984e6": {
          "model_module": "@jupyter-widgets/base",
          "model_name": "LayoutModel",
          "model_module_version": "1.2.0",
          "state": {
            "_model_module": "@jupyter-widgets/base",
            "_model_module_version": "1.2.0",
            "_model_name": "LayoutModel",
            "_view_count": null,
            "_view_module": "@jupyter-widgets/base",
            "_view_module_version": "1.2.0",
            "_view_name": "LayoutView",
            "align_content": null,
            "align_items": null,
            "align_self": null,
            "border": null,
            "bottom": null,
            "display": null,
            "flex": null,
            "flex_flow": null,
            "grid_area": null,
            "grid_auto_columns": null,
            "grid_auto_flow": null,
            "grid_auto_rows": null,
            "grid_column": null,
            "grid_gap": null,
            "grid_row": null,
            "grid_template_areas": null,
            "grid_template_columns": null,
            "grid_template_rows": null,
            "height": null,
            "justify_content": null,
            "justify_items": null,
            "left": null,
            "margin": null,
            "max_height": null,
            "max_width": null,
            "min_height": null,
            "min_width": null,
            "object_fit": null,
            "object_position": null,
            "order": null,
            "overflow": null,
            "overflow_x": null,
            "overflow_y": null,
            "padding": null,
            "right": null,
            "top": null,
            "visibility": null,
            "width": null
          }
        },
        "540fa3911c114875969c6d0122e833bd": {
          "model_module": "@jupyter-widgets/controls",
          "model_name": "ProgressStyleModel",
          "model_module_version": "1.5.0",
          "state": {
            "_model_module": "@jupyter-widgets/controls",
            "_model_module_version": "1.5.0",
            "_model_name": "ProgressStyleModel",
            "_view_count": null,
            "_view_module": "@jupyter-widgets/base",
            "_view_module_version": "1.2.0",
            "_view_name": "StyleView",
            "bar_color": null,
            "description_width": ""
          }
        },
        "f6048f1a32f84de08268f4aa465d8834": {
          "model_module": "@jupyter-widgets/base",
          "model_name": "LayoutModel",
          "model_module_version": "1.2.0",
          "state": {
            "_model_module": "@jupyter-widgets/base",
            "_model_module_version": "1.2.0",
            "_model_name": "LayoutModel",
            "_view_count": null,
            "_view_module": "@jupyter-widgets/base",
            "_view_module_version": "1.2.0",
            "_view_name": "LayoutView",
            "align_content": null,
            "align_items": null,
            "align_self": null,
            "border": null,
            "bottom": null,
            "display": null,
            "flex": null,
            "flex_flow": null,
            "grid_area": null,
            "grid_auto_columns": null,
            "grid_auto_flow": null,
            "grid_auto_rows": null,
            "grid_column": null,
            "grid_gap": null,
            "grid_row": null,
            "grid_template_areas": null,
            "grid_template_columns": null,
            "grid_template_rows": null,
            "height": null,
            "justify_content": null,
            "justify_items": null,
            "left": null,
            "margin": null,
            "max_height": null,
            "max_width": null,
            "min_height": null,
            "min_width": null,
            "object_fit": null,
            "object_position": null,
            "order": null,
            "overflow": null,
            "overflow_x": null,
            "overflow_y": null,
            "padding": null,
            "right": null,
            "top": null,
            "visibility": null,
            "width": null
          }
        },
        "593b834c5fef49e7bbbdb2803495b6d8": {
          "model_module": "@jupyter-widgets/controls",
          "model_name": "DescriptionStyleModel",
          "model_module_version": "1.5.0",
          "state": {
            "_model_module": "@jupyter-widgets/controls",
            "_model_module_version": "1.5.0",
            "_model_name": "DescriptionStyleModel",
            "_view_count": null,
            "_view_module": "@jupyter-widgets/base",
            "_view_module_version": "1.2.0",
            "_view_name": "StyleView",
            "description_width": ""
          }
        },
        "55d79edeeb5f449aba0bd8a90e6a5c47": {
          "model_module": "@jupyter-widgets/controls",
          "model_name": "HBoxModel",
          "model_module_version": "1.5.0",
          "state": {
            "_dom_classes": [],
            "_model_module": "@jupyter-widgets/controls",
            "_model_module_version": "1.5.0",
            "_model_name": "HBoxModel",
            "_view_count": null,
            "_view_module": "@jupyter-widgets/controls",
            "_view_module_version": "1.5.0",
            "_view_name": "HBoxView",
            "box_style": "",
            "children": [
              "IPY_MODEL_d053ac78e26c494594b41ad65e4a442b",
              "IPY_MODEL_8d9bb491d3074a6c83bf364a114bdf9d",
              "IPY_MODEL_a8f5706735a440dd9633dba165a61cf2"
            ],
            "layout": "IPY_MODEL_ee3a2b65d84c46e1bc93d77cefd1d701"
          }
        },
        "d053ac78e26c494594b41ad65e4a442b": {
          "model_module": "@jupyter-widgets/controls",
          "model_name": "HTMLModel",
          "model_module_version": "1.5.0",
          "state": {
            "_dom_classes": [],
            "_model_module": "@jupyter-widgets/controls",
            "_model_module_version": "1.5.0",
            "_model_name": "HTMLModel",
            "_view_count": null,
            "_view_module": "@jupyter-widgets/controls",
            "_view_module_version": "1.5.0",
            "_view_name": "HTMLView",
            "description": "",
            "description_tooltip": null,
            "layout": "IPY_MODEL_bd03e023178a43ae9f76668c4bd08311",
            "placeholder": "​",
            "style": "IPY_MODEL_02eba74c29d84383824aa7cfec1bc647",
            "value": "Downloading builder script: 100%"
          }
        },
        "8d9bb491d3074a6c83bf364a114bdf9d": {
          "model_module": "@jupyter-widgets/controls",
          "model_name": "FloatProgressModel",
          "model_module_version": "1.5.0",
          "state": {
            "_dom_classes": [],
            "_model_module": "@jupyter-widgets/controls",
            "_model_module_version": "1.5.0",
            "_model_name": "FloatProgressModel",
            "_view_count": null,
            "_view_module": "@jupyter-widgets/controls",
            "_view_module_version": "1.5.0",
            "_view_name": "ProgressView",
            "bar_style": "success",
            "description": "",
            "description_tooltip": null,
            "layout": "IPY_MODEL_6642ca5e64b840b499568a364a1758cf",
            "max": 4203,
            "min": 0,
            "orientation": "horizontal",
            "style": "IPY_MODEL_c64736b56e2848e789fb11b849ef7f7c",
            "value": 4203
          }
        },
        "a8f5706735a440dd9633dba165a61cf2": {
          "model_module": "@jupyter-widgets/controls",
          "model_name": "HTMLModel",
          "model_module_version": "1.5.0",
          "state": {
            "_dom_classes": [],
            "_model_module": "@jupyter-widgets/controls",
            "_model_module_version": "1.5.0",
            "_model_name": "HTMLModel",
            "_view_count": null,
            "_view_module": "@jupyter-widgets/controls",
            "_view_module_version": "1.5.0",
            "_view_name": "HTMLView",
            "description": "",
            "description_tooltip": null,
            "layout": "IPY_MODEL_e039f7ed85bf4c73b81fed5bb2d2c715",
            "placeholder": "​",
            "style": "IPY_MODEL_c0cf4df21a6349b48b431f3265a03c34",
            "value": " 4.20k/4.20k [00:00&lt;00:00, 464kB/s]"
          }
        },
        "ee3a2b65d84c46e1bc93d77cefd1d701": {
          "model_module": "@jupyter-widgets/base",
          "model_name": "LayoutModel",
          "model_module_version": "1.2.0",
          "state": {
            "_model_module": "@jupyter-widgets/base",
            "_model_module_version": "1.2.0",
            "_model_name": "LayoutModel",
            "_view_count": null,
            "_view_module": "@jupyter-widgets/base",
            "_view_module_version": "1.2.0",
            "_view_name": "LayoutView",
            "align_content": null,
            "align_items": null,
            "align_self": null,
            "border": null,
            "bottom": null,
            "display": null,
            "flex": null,
            "flex_flow": null,
            "grid_area": null,
            "grid_auto_columns": null,
            "grid_auto_flow": null,
            "grid_auto_rows": null,
            "grid_column": null,
            "grid_gap": null,
            "grid_row": null,
            "grid_template_areas": null,
            "grid_template_columns": null,
            "grid_template_rows": null,
            "height": null,
            "justify_content": null,
            "justify_items": null,
            "left": null,
            "margin": null,
            "max_height": null,
            "max_width": null,
            "min_height": null,
            "min_width": null,
            "object_fit": null,
            "object_position": null,
            "order": null,
            "overflow": null,
            "overflow_x": null,
            "overflow_y": null,
            "padding": null,
            "right": null,
            "top": null,
            "visibility": null,
            "width": null
          }
        },
        "bd03e023178a43ae9f76668c4bd08311": {
          "model_module": "@jupyter-widgets/base",
          "model_name": "LayoutModel",
          "model_module_version": "1.2.0",
          "state": {
            "_model_module": "@jupyter-widgets/base",
            "_model_module_version": "1.2.0",
            "_model_name": "LayoutModel",
            "_view_count": null,
            "_view_module": "@jupyter-widgets/base",
            "_view_module_version": "1.2.0",
            "_view_name": "LayoutView",
            "align_content": null,
            "align_items": null,
            "align_self": null,
            "border": null,
            "bottom": null,
            "display": null,
            "flex": null,
            "flex_flow": null,
            "grid_area": null,
            "grid_auto_columns": null,
            "grid_auto_flow": null,
            "grid_auto_rows": null,
            "grid_column": null,
            "grid_gap": null,
            "grid_row": null,
            "grid_template_areas": null,
            "grid_template_columns": null,
            "grid_template_rows": null,
            "height": null,
            "justify_content": null,
            "justify_items": null,
            "left": null,
            "margin": null,
            "max_height": null,
            "max_width": null,
            "min_height": null,
            "min_width": null,
            "object_fit": null,
            "object_position": null,
            "order": null,
            "overflow": null,
            "overflow_x": null,
            "overflow_y": null,
            "padding": null,
            "right": null,
            "top": null,
            "visibility": null,
            "width": null
          }
        },
        "02eba74c29d84383824aa7cfec1bc647": {
          "model_module": "@jupyter-widgets/controls",
          "model_name": "DescriptionStyleModel",
          "model_module_version": "1.5.0",
          "state": {
            "_model_module": "@jupyter-widgets/controls",
            "_model_module_version": "1.5.0",
            "_model_name": "DescriptionStyleModel",
            "_view_count": null,
            "_view_module": "@jupyter-widgets/base",
            "_view_module_version": "1.2.0",
            "_view_name": "StyleView",
            "description_width": ""
          }
        },
        "6642ca5e64b840b499568a364a1758cf": {
          "model_module": "@jupyter-widgets/base",
          "model_name": "LayoutModel",
          "model_module_version": "1.2.0",
          "state": {
            "_model_module": "@jupyter-widgets/base",
            "_model_module_version": "1.2.0",
            "_model_name": "LayoutModel",
            "_view_count": null,
            "_view_module": "@jupyter-widgets/base",
            "_view_module_version": "1.2.0",
            "_view_name": "LayoutView",
            "align_content": null,
            "align_items": null,
            "align_self": null,
            "border": null,
            "bottom": null,
            "display": null,
            "flex": null,
            "flex_flow": null,
            "grid_area": null,
            "grid_auto_columns": null,
            "grid_auto_flow": null,
            "grid_auto_rows": null,
            "grid_column": null,
            "grid_gap": null,
            "grid_row": null,
            "grid_template_areas": null,
            "grid_template_columns": null,
            "grid_template_rows": null,
            "height": null,
            "justify_content": null,
            "justify_items": null,
            "left": null,
            "margin": null,
            "max_height": null,
            "max_width": null,
            "min_height": null,
            "min_width": null,
            "object_fit": null,
            "object_position": null,
            "order": null,
            "overflow": null,
            "overflow_x": null,
            "overflow_y": null,
            "padding": null,
            "right": null,
            "top": null,
            "visibility": null,
            "width": null
          }
        },
        "c64736b56e2848e789fb11b849ef7f7c": {
          "model_module": "@jupyter-widgets/controls",
          "model_name": "ProgressStyleModel",
          "model_module_version": "1.5.0",
          "state": {
            "_model_module": "@jupyter-widgets/controls",
            "_model_module_version": "1.5.0",
            "_model_name": "ProgressStyleModel",
            "_view_count": null,
            "_view_module": "@jupyter-widgets/base",
            "_view_module_version": "1.2.0",
            "_view_name": "StyleView",
            "bar_color": null,
            "description_width": ""
          }
        },
        "e039f7ed85bf4c73b81fed5bb2d2c715": {
          "model_module": "@jupyter-widgets/base",
          "model_name": "LayoutModel",
          "model_module_version": "1.2.0",
          "state": {
            "_model_module": "@jupyter-widgets/base",
            "_model_module_version": "1.2.0",
            "_model_name": "LayoutModel",
            "_view_count": null,
            "_view_module": "@jupyter-widgets/base",
            "_view_module_version": "1.2.0",
            "_view_name": "LayoutView",
            "align_content": null,
            "align_items": null,
            "align_self": null,
            "border": null,
            "bottom": null,
            "display": null,
            "flex": null,
            "flex_flow": null,
            "grid_area": null,
            "grid_auto_columns": null,
            "grid_auto_flow": null,
            "grid_auto_rows": null,
            "grid_column": null,
            "grid_gap": null,
            "grid_row": null,
            "grid_template_areas": null,
            "grid_template_columns": null,
            "grid_template_rows": null,
            "height": null,
            "justify_content": null,
            "justify_items": null,
            "left": null,
            "margin": null,
            "max_height": null,
            "max_width": null,
            "min_height": null,
            "min_width": null,
            "object_fit": null,
            "object_position": null,
            "order": null,
            "overflow": null,
            "overflow_x": null,
            "overflow_y": null,
            "padding": null,
            "right": null,
            "top": null,
            "visibility": null,
            "width": null
          }
        },
        "c0cf4df21a6349b48b431f3265a03c34": {
          "model_module": "@jupyter-widgets/controls",
          "model_name": "DescriptionStyleModel",
          "model_module_version": "1.5.0",
          "state": {
            "_model_module": "@jupyter-widgets/controls",
            "_model_module_version": "1.5.0",
            "_model_name": "DescriptionStyleModel",
            "_view_count": null,
            "_view_module": "@jupyter-widgets/base",
            "_view_module_version": "1.2.0",
            "_view_name": "StyleView",
            "description_width": ""
          }
        },
        "2523b39dd3e5428fbbfaf98bfb148f47": {
          "model_module": "@jupyter-widgets/controls",
          "model_name": "HBoxModel",
          "model_module_version": "1.5.0",
          "state": {
            "_dom_classes": [],
            "_model_module": "@jupyter-widgets/controls",
            "_model_module_version": "1.5.0",
            "_model_name": "HBoxModel",
            "_view_count": null,
            "_view_module": "@jupyter-widgets/controls",
            "_view_module_version": "1.5.0",
            "_view_name": "HBoxView",
            "box_style": "",
            "children": [
              "IPY_MODEL_8dea2db1f4184db5978780e2237529f4",
              "IPY_MODEL_d985af3f0a95467ca47e61edd57af7a1",
              "IPY_MODEL_a7e9dc88120b41338511951326844e12"
            ],
            "layout": "IPY_MODEL_07e11eeefbe2440588f055f28d2f48e7"
          }
        },
        "8dea2db1f4184db5978780e2237529f4": {
          "model_module": "@jupyter-widgets/controls",
          "model_name": "HTMLModel",
          "model_module_version": "1.5.0",
          "state": {
            "_dom_classes": [],
            "_model_module": "@jupyter-widgets/controls",
            "_model_module_version": "1.5.0",
            "_model_name": "HTMLModel",
            "_view_count": null,
            "_view_module": "@jupyter-widgets/controls",
            "_view_module_version": "1.5.0",
            "_view_name": "HTMLView",
            "description": "",
            "description_tooltip": null,
            "layout": "IPY_MODEL_cc528f87b6eb4bc8b3fb6742262d0ddc",
            "placeholder": "​",
            "style": "IPY_MODEL_34ceced910da4072965f66b37bc56106",
            "value": "Map: 100%"
          }
        },
        "d985af3f0a95467ca47e61edd57af7a1": {
          "model_module": "@jupyter-widgets/controls",
          "model_name": "FloatProgressModel",
          "model_module_version": "1.5.0",
          "state": {
            "_dom_classes": [],
            "_model_module": "@jupyter-widgets/controls",
            "_model_module_version": "1.5.0",
            "_model_name": "FloatProgressModel",
            "_view_count": null,
            "_view_module": "@jupyter-widgets/controls",
            "_view_module_version": "1.5.0",
            "_view_name": "ProgressView",
            "bar_style": "success",
            "description": "",
            "description_tooltip": null,
            "layout": "IPY_MODEL_0cff65c30d6540c2a4b0512b7520b73e",
            "max": 57696,
            "min": 0,
            "orientation": "horizontal",
            "style": "IPY_MODEL_6229b9803d204efb88824856f65d7748",
            "value": 57696
          }
        },
        "a7e9dc88120b41338511951326844e12": {
          "model_module": "@jupyter-widgets/controls",
          "model_name": "HTMLModel",
          "model_module_version": "1.5.0",
          "state": {
            "_dom_classes": [],
            "_model_module": "@jupyter-widgets/controls",
            "_model_module_version": "1.5.0",
            "_model_name": "HTMLModel",
            "_view_count": null,
            "_view_module": "@jupyter-widgets/controls",
            "_view_module_version": "1.5.0",
            "_view_name": "HTMLView",
            "description": "",
            "description_tooltip": null,
            "layout": "IPY_MODEL_9609e7e63cc640b6bf632f3181ac71b5",
            "placeholder": "​",
            "style": "IPY_MODEL_0e657b4805134af2b7f57e3c23a2d145",
            "value": " 57696/57696 [00:23&lt;00:00, 2553.05 examples/s]"
          }
        },
        "07e11eeefbe2440588f055f28d2f48e7": {
          "model_module": "@jupyter-widgets/base",
          "model_name": "LayoutModel",
          "model_module_version": "1.2.0",
          "state": {
            "_model_module": "@jupyter-widgets/base",
            "_model_module_version": "1.2.0",
            "_model_name": "LayoutModel",
            "_view_count": null,
            "_view_module": "@jupyter-widgets/base",
            "_view_module_version": "1.2.0",
            "_view_name": "LayoutView",
            "align_content": null,
            "align_items": null,
            "align_self": null,
            "border": null,
            "bottom": null,
            "display": null,
            "flex": null,
            "flex_flow": null,
            "grid_area": null,
            "grid_auto_columns": null,
            "grid_auto_flow": null,
            "grid_auto_rows": null,
            "grid_column": null,
            "grid_gap": null,
            "grid_row": null,
            "grid_template_areas": null,
            "grid_template_columns": null,
            "grid_template_rows": null,
            "height": null,
            "justify_content": null,
            "justify_items": null,
            "left": null,
            "margin": null,
            "max_height": null,
            "max_width": null,
            "min_height": null,
            "min_width": null,
            "object_fit": null,
            "object_position": null,
            "order": null,
            "overflow": null,
            "overflow_x": null,
            "overflow_y": null,
            "padding": null,
            "right": null,
            "top": null,
            "visibility": null,
            "width": null
          }
        },
        "cc528f87b6eb4bc8b3fb6742262d0ddc": {
          "model_module": "@jupyter-widgets/base",
          "model_name": "LayoutModel",
          "model_module_version": "1.2.0",
          "state": {
            "_model_module": "@jupyter-widgets/base",
            "_model_module_version": "1.2.0",
            "_model_name": "LayoutModel",
            "_view_count": null,
            "_view_module": "@jupyter-widgets/base",
            "_view_module_version": "1.2.0",
            "_view_name": "LayoutView",
            "align_content": null,
            "align_items": null,
            "align_self": null,
            "border": null,
            "bottom": null,
            "display": null,
            "flex": null,
            "flex_flow": null,
            "grid_area": null,
            "grid_auto_columns": null,
            "grid_auto_flow": null,
            "grid_auto_rows": null,
            "grid_column": null,
            "grid_gap": null,
            "grid_row": null,
            "grid_template_areas": null,
            "grid_template_columns": null,
            "grid_template_rows": null,
            "height": null,
            "justify_content": null,
            "justify_items": null,
            "left": null,
            "margin": null,
            "max_height": null,
            "max_width": null,
            "min_height": null,
            "min_width": null,
            "object_fit": null,
            "object_position": null,
            "order": null,
            "overflow": null,
            "overflow_x": null,
            "overflow_y": null,
            "padding": null,
            "right": null,
            "top": null,
            "visibility": null,
            "width": null
          }
        },
        "34ceced910da4072965f66b37bc56106": {
          "model_module": "@jupyter-widgets/controls",
          "model_name": "DescriptionStyleModel",
          "model_module_version": "1.5.0",
          "state": {
            "_model_module": "@jupyter-widgets/controls",
            "_model_module_version": "1.5.0",
            "_model_name": "DescriptionStyleModel",
            "_view_count": null,
            "_view_module": "@jupyter-widgets/base",
            "_view_module_version": "1.2.0",
            "_view_name": "StyleView",
            "description_width": ""
          }
        },
        "0cff65c30d6540c2a4b0512b7520b73e": {
          "model_module": "@jupyter-widgets/base",
          "model_name": "LayoutModel",
          "model_module_version": "1.2.0",
          "state": {
            "_model_module": "@jupyter-widgets/base",
            "_model_module_version": "1.2.0",
            "_model_name": "LayoutModel",
            "_view_count": null,
            "_view_module": "@jupyter-widgets/base",
            "_view_module_version": "1.2.0",
            "_view_name": "LayoutView",
            "align_content": null,
            "align_items": null,
            "align_self": null,
            "border": null,
            "bottom": null,
            "display": null,
            "flex": null,
            "flex_flow": null,
            "grid_area": null,
            "grid_auto_columns": null,
            "grid_auto_flow": null,
            "grid_auto_rows": null,
            "grid_column": null,
            "grid_gap": null,
            "grid_row": null,
            "grid_template_areas": null,
            "grid_template_columns": null,
            "grid_template_rows": null,
            "height": null,
            "justify_content": null,
            "justify_items": null,
            "left": null,
            "margin": null,
            "max_height": null,
            "max_width": null,
            "min_height": null,
            "min_width": null,
            "object_fit": null,
            "object_position": null,
            "order": null,
            "overflow": null,
            "overflow_x": null,
            "overflow_y": null,
            "padding": null,
            "right": null,
            "top": null,
            "visibility": null,
            "width": null
          }
        },
        "6229b9803d204efb88824856f65d7748": {
          "model_module": "@jupyter-widgets/controls",
          "model_name": "ProgressStyleModel",
          "model_module_version": "1.5.0",
          "state": {
            "_model_module": "@jupyter-widgets/controls",
            "_model_module_version": "1.5.0",
            "_model_name": "ProgressStyleModel",
            "_view_count": null,
            "_view_module": "@jupyter-widgets/base",
            "_view_module_version": "1.2.0",
            "_view_name": "StyleView",
            "bar_color": null,
            "description_width": ""
          }
        },
        "9609e7e63cc640b6bf632f3181ac71b5": {
          "model_module": "@jupyter-widgets/base",
          "model_name": "LayoutModel",
          "model_module_version": "1.2.0",
          "state": {
            "_model_module": "@jupyter-widgets/base",
            "_model_module_version": "1.2.0",
            "_model_name": "LayoutModel",
            "_view_count": null,
            "_view_module": "@jupyter-widgets/base",
            "_view_module_version": "1.2.0",
            "_view_name": "LayoutView",
            "align_content": null,
            "align_items": null,
            "align_self": null,
            "border": null,
            "bottom": null,
            "display": null,
            "flex": null,
            "flex_flow": null,
            "grid_area": null,
            "grid_auto_columns": null,
            "grid_auto_flow": null,
            "grid_auto_rows": null,
            "grid_column": null,
            "grid_gap": null,
            "grid_row": null,
            "grid_template_areas": null,
            "grid_template_columns": null,
            "grid_template_rows": null,
            "height": null,
            "justify_content": null,
            "justify_items": null,
            "left": null,
            "margin": null,
            "max_height": null,
            "max_width": null,
            "min_height": null,
            "min_width": null,
            "object_fit": null,
            "object_position": null,
            "order": null,
            "overflow": null,
            "overflow_x": null,
            "overflow_y": null,
            "padding": null,
            "right": null,
            "top": null,
            "visibility": null,
            "width": null
          }
        },
        "0e657b4805134af2b7f57e3c23a2d145": {
          "model_module": "@jupyter-widgets/controls",
          "model_name": "DescriptionStyleModel",
          "model_module_version": "1.5.0",
          "state": {
            "_model_module": "@jupyter-widgets/controls",
            "_model_module_version": "1.5.0",
            "_model_name": "DescriptionStyleModel",
            "_view_count": null,
            "_view_module": "@jupyter-widgets/base",
            "_view_module_version": "1.2.0",
            "_view_name": "StyleView",
            "description_width": ""
          }
        },
        "510019c1a9bd40eab8659eb55414a3c8": {
          "model_module": "@jupyter-widgets/controls",
          "model_name": "HBoxModel",
          "model_module_version": "1.5.0",
          "state": {
            "_dom_classes": [],
            "_model_module": "@jupyter-widgets/controls",
            "_model_module_version": "1.5.0",
            "_model_name": "HBoxModel",
            "_view_count": null,
            "_view_module": "@jupyter-widgets/controls",
            "_view_module_version": "1.5.0",
            "_view_name": "HBoxView",
            "box_style": "",
            "children": [
              "IPY_MODEL_b524c3869e7f482d9e75297441c7e795",
              "IPY_MODEL_d9d8e050ba5e4f96b8684a36dcd79bab",
              "IPY_MODEL_b4ea619ce233473ea5910e9c7b293d95"
            ],
            "layout": "IPY_MODEL_e052301053244e8ea4ecd3ade4e74aa7"
          }
        },
        "b524c3869e7f482d9e75297441c7e795": {
          "model_module": "@jupyter-widgets/controls",
          "model_name": "HTMLModel",
          "model_module_version": "1.5.0",
          "state": {
            "_dom_classes": [],
            "_model_module": "@jupyter-widgets/controls",
            "_model_module_version": "1.5.0",
            "_model_name": "HTMLModel",
            "_view_count": null,
            "_view_module": "@jupyter-widgets/controls",
            "_view_module_version": "1.5.0",
            "_view_name": "HTMLView",
            "description": "",
            "description_tooltip": null,
            "layout": "IPY_MODEL_5234ec6387c142c5a087e4bb521ef5c4",
            "placeholder": "​",
            "style": "IPY_MODEL_d4789ef1144c4b4ebed2de2a4743679c",
            "value": "model.safetensors: 100%"
          }
        },
        "d9d8e050ba5e4f96b8684a36dcd79bab": {
          "model_module": "@jupyter-widgets/controls",
          "model_name": "FloatProgressModel",
          "model_module_version": "1.5.0",
          "state": {
            "_dom_classes": [],
            "_model_module": "@jupyter-widgets/controls",
            "_model_module_version": "1.5.0",
            "_model_name": "FloatProgressModel",
            "_view_count": null,
            "_view_module": "@jupyter-widgets/controls",
            "_view_module_version": "1.5.0",
            "_view_name": "ProgressView",
            "bar_style": "success",
            "description": "",
            "description_tooltip": null,
            "layout": "IPY_MODEL_7a4e4356b84c4a2f9fa51e277ab06b9f",
            "max": 498818152,
            "min": 0,
            "orientation": "horizontal",
            "style": "IPY_MODEL_d36ede0c347f4b3782cf1e8ad88963e3",
            "value": 498818152
          }
        },
        "b4ea619ce233473ea5910e9c7b293d95": {
          "model_module": "@jupyter-widgets/controls",
          "model_name": "HTMLModel",
          "model_module_version": "1.5.0",
          "state": {
            "_dom_classes": [],
            "_model_module": "@jupyter-widgets/controls",
            "_model_module_version": "1.5.0",
            "_model_name": "HTMLModel",
            "_view_count": null,
            "_view_module": "@jupyter-widgets/controls",
            "_view_module_version": "1.5.0",
            "_view_name": "HTMLView",
            "description": "",
            "description_tooltip": null,
            "layout": "IPY_MODEL_a4fe86acbb3947ff860460a2c0704c9c",
            "placeholder": "​",
            "style": "IPY_MODEL_2a9745f167d54d9ab6d3b7fc3829f94e",
            "value": " 499M/499M [00:04&lt;00:00, 143MB/s]"
          }
        },
        "e052301053244e8ea4ecd3ade4e74aa7": {
          "model_module": "@jupyter-widgets/base",
          "model_name": "LayoutModel",
          "model_module_version": "1.2.0",
          "state": {
            "_model_module": "@jupyter-widgets/base",
            "_model_module_version": "1.2.0",
            "_model_name": "LayoutModel",
            "_view_count": null,
            "_view_module": "@jupyter-widgets/base",
            "_view_module_version": "1.2.0",
            "_view_name": "LayoutView",
            "align_content": null,
            "align_items": null,
            "align_self": null,
            "border": null,
            "bottom": null,
            "display": null,
            "flex": null,
            "flex_flow": null,
            "grid_area": null,
            "grid_auto_columns": null,
            "grid_auto_flow": null,
            "grid_auto_rows": null,
            "grid_column": null,
            "grid_gap": null,
            "grid_row": null,
            "grid_template_areas": null,
            "grid_template_columns": null,
            "grid_template_rows": null,
            "height": null,
            "justify_content": null,
            "justify_items": null,
            "left": null,
            "margin": null,
            "max_height": null,
            "max_width": null,
            "min_height": null,
            "min_width": null,
            "object_fit": null,
            "object_position": null,
            "order": null,
            "overflow": null,
            "overflow_x": null,
            "overflow_y": null,
            "padding": null,
            "right": null,
            "top": null,
            "visibility": null,
            "width": null
          }
        },
        "5234ec6387c142c5a087e4bb521ef5c4": {
          "model_module": "@jupyter-widgets/base",
          "model_name": "LayoutModel",
          "model_module_version": "1.2.0",
          "state": {
            "_model_module": "@jupyter-widgets/base",
            "_model_module_version": "1.2.0",
            "_model_name": "LayoutModel",
            "_view_count": null,
            "_view_module": "@jupyter-widgets/base",
            "_view_module_version": "1.2.0",
            "_view_name": "LayoutView",
            "align_content": null,
            "align_items": null,
            "align_self": null,
            "border": null,
            "bottom": null,
            "display": null,
            "flex": null,
            "flex_flow": null,
            "grid_area": null,
            "grid_auto_columns": null,
            "grid_auto_flow": null,
            "grid_auto_rows": null,
            "grid_column": null,
            "grid_gap": null,
            "grid_row": null,
            "grid_template_areas": null,
            "grid_template_columns": null,
            "grid_template_rows": null,
            "height": null,
            "justify_content": null,
            "justify_items": null,
            "left": null,
            "margin": null,
            "max_height": null,
            "max_width": null,
            "min_height": null,
            "min_width": null,
            "object_fit": null,
            "object_position": null,
            "order": null,
            "overflow": null,
            "overflow_x": null,
            "overflow_y": null,
            "padding": null,
            "right": null,
            "top": null,
            "visibility": null,
            "width": null
          }
        },
        "d4789ef1144c4b4ebed2de2a4743679c": {
          "model_module": "@jupyter-widgets/controls",
          "model_name": "DescriptionStyleModel",
          "model_module_version": "1.5.0",
          "state": {
            "_model_module": "@jupyter-widgets/controls",
            "_model_module_version": "1.5.0",
            "_model_name": "DescriptionStyleModel",
            "_view_count": null,
            "_view_module": "@jupyter-widgets/base",
            "_view_module_version": "1.2.0",
            "_view_name": "StyleView",
            "description_width": ""
          }
        },
        "7a4e4356b84c4a2f9fa51e277ab06b9f": {
          "model_module": "@jupyter-widgets/base",
          "model_name": "LayoutModel",
          "model_module_version": "1.2.0",
          "state": {
            "_model_module": "@jupyter-widgets/base",
            "_model_module_version": "1.2.0",
            "_model_name": "LayoutModel",
            "_view_count": null,
            "_view_module": "@jupyter-widgets/base",
            "_view_module_version": "1.2.0",
            "_view_name": "LayoutView",
            "align_content": null,
            "align_items": null,
            "align_self": null,
            "border": null,
            "bottom": null,
            "display": null,
            "flex": null,
            "flex_flow": null,
            "grid_area": null,
            "grid_auto_columns": null,
            "grid_auto_flow": null,
            "grid_auto_rows": null,
            "grid_column": null,
            "grid_gap": null,
            "grid_row": null,
            "grid_template_areas": null,
            "grid_template_columns": null,
            "grid_template_rows": null,
            "height": null,
            "justify_content": null,
            "justify_items": null,
            "left": null,
            "margin": null,
            "max_height": null,
            "max_width": null,
            "min_height": null,
            "min_width": null,
            "object_fit": null,
            "object_position": null,
            "order": null,
            "overflow": null,
            "overflow_x": null,
            "overflow_y": null,
            "padding": null,
            "right": null,
            "top": null,
            "visibility": null,
            "width": null
          }
        },
        "d36ede0c347f4b3782cf1e8ad88963e3": {
          "model_module": "@jupyter-widgets/controls",
          "model_name": "ProgressStyleModel",
          "model_module_version": "1.5.0",
          "state": {
            "_model_module": "@jupyter-widgets/controls",
            "_model_module_version": "1.5.0",
            "_model_name": "ProgressStyleModel",
            "_view_count": null,
            "_view_module": "@jupyter-widgets/base",
            "_view_module_version": "1.2.0",
            "_view_name": "StyleView",
            "bar_color": null,
            "description_width": ""
          }
        },
        "a4fe86acbb3947ff860460a2c0704c9c": {
          "model_module": "@jupyter-widgets/base",
          "model_name": "LayoutModel",
          "model_module_version": "1.2.0",
          "state": {
            "_model_module": "@jupyter-widgets/base",
            "_model_module_version": "1.2.0",
            "_model_name": "LayoutModel",
            "_view_count": null,
            "_view_module": "@jupyter-widgets/base",
            "_view_module_version": "1.2.0",
            "_view_name": "LayoutView",
            "align_content": null,
            "align_items": null,
            "align_self": null,
            "border": null,
            "bottom": null,
            "display": null,
            "flex": null,
            "flex_flow": null,
            "grid_area": null,
            "grid_auto_columns": null,
            "grid_auto_flow": null,
            "grid_auto_rows": null,
            "grid_column": null,
            "grid_gap": null,
            "grid_row": null,
            "grid_template_areas": null,
            "grid_template_columns": null,
            "grid_template_rows": null,
            "height": null,
            "justify_content": null,
            "justify_items": null,
            "left": null,
            "margin": null,
            "max_height": null,
            "max_width": null,
            "min_height": null,
            "min_width": null,
            "object_fit": null,
            "object_position": null,
            "order": null,
            "overflow": null,
            "overflow_x": null,
            "overflow_y": null,
            "padding": null,
            "right": null,
            "top": null,
            "visibility": null,
            "width": null
          }
        },
        "2a9745f167d54d9ab6d3b7fc3829f94e": {
          "model_module": "@jupyter-widgets/controls",
          "model_name": "DescriptionStyleModel",
          "model_module_version": "1.5.0",
          "state": {
            "_model_module": "@jupyter-widgets/controls",
            "_model_module_version": "1.5.0",
            "_model_name": "DescriptionStyleModel",
            "_view_count": null,
            "_view_module": "@jupyter-widgets/base",
            "_view_module_version": "1.2.0",
            "_view_name": "StyleView",
            "description_width": ""
          }
        },
        "87ad577ae7c14c3ebd0a2c64352dcac5": {
          "model_module": "@jupyter-widgets/controls",
          "model_name": "HBoxModel",
          "model_module_version": "1.5.0",
          "state": {
            "_dom_classes": [],
            "_model_module": "@jupyter-widgets/controls",
            "_model_module_version": "1.5.0",
            "_model_name": "HBoxModel",
            "_view_count": null,
            "_view_module": "@jupyter-widgets/controls",
            "_view_module_version": "1.5.0",
            "_view_name": "HBoxView",
            "box_style": "",
            "children": [
              "IPY_MODEL_7c8e49afc9e14d3087c6ea230a140f92",
              "IPY_MODEL_c3c045e5b01a4baf870af0b9f00a5a97",
              "IPY_MODEL_32e0acaee6a0427ab6510a52c1b31bda"
            ],
            "layout": "IPY_MODEL_66f87ba9d9af4c37b7f164f281ef0e0f"
          }
        },
        "7c8e49afc9e14d3087c6ea230a140f92": {
          "model_module": "@jupyter-widgets/controls",
          "model_name": "HTMLModel",
          "model_module_version": "1.5.0",
          "state": {
            "_dom_classes": [],
            "_model_module": "@jupyter-widgets/controls",
            "_model_module_version": "1.5.0",
            "_model_name": "HTMLModel",
            "_view_count": null,
            "_view_module": "@jupyter-widgets/controls",
            "_view_module_version": "1.5.0",
            "_view_name": "HTMLView",
            "description": "",
            "description_tooltip": null,
            "layout": "IPY_MODEL_ae6096f2d9bb4b0090ce756f248bd75f",
            "placeholder": "​",
            "style": "IPY_MODEL_1285cf69b3ad42b8b83596d403d2fbfb",
            "value": "Map: 100%"
          }
        },
        "c3c045e5b01a4baf870af0b9f00a5a97": {
          "model_module": "@jupyter-widgets/controls",
          "model_name": "FloatProgressModel",
          "model_module_version": "1.5.0",
          "state": {
            "_dom_classes": [],
            "_model_module": "@jupyter-widgets/controls",
            "_model_module_version": "1.5.0",
            "_model_name": "FloatProgressModel",
            "_view_count": null,
            "_view_module": "@jupyter-widgets/controls",
            "_view_module_version": "1.5.0",
            "_view_name": "ProgressView",
            "bar_style": "success",
            "description": "",
            "description_tooltip": null,
            "layout": "IPY_MODEL_a34177c810714dd7ac0341a159055736",
            "max": 6411,
            "min": 0,
            "orientation": "horizontal",
            "style": "IPY_MODEL_ec0fee7e41f3463f924867b93de3f928",
            "value": 6411
          }
        },
        "32e0acaee6a0427ab6510a52c1b31bda": {
          "model_module": "@jupyter-widgets/controls",
          "model_name": "HTMLModel",
          "model_module_version": "1.5.0",
          "state": {
            "_dom_classes": [],
            "_model_module": "@jupyter-widgets/controls",
            "_model_module_version": "1.5.0",
            "_model_name": "HTMLModel",
            "_view_count": null,
            "_view_module": "@jupyter-widgets/controls",
            "_view_module_version": "1.5.0",
            "_view_name": "HTMLView",
            "description": "",
            "description_tooltip": null,
            "layout": "IPY_MODEL_288107d5b3d64d599a86475aaba9852c",
            "placeholder": "​",
            "style": "IPY_MODEL_9c7afe9314fb4cdcbea0d9f0dc27a84d",
            "value": " 6411/6411 [00:02&lt;00:00, 2463.12 examples/s]"
          }
        },
        "66f87ba9d9af4c37b7f164f281ef0e0f": {
          "model_module": "@jupyter-widgets/base",
          "model_name": "LayoutModel",
          "model_module_version": "1.2.0",
          "state": {
            "_model_module": "@jupyter-widgets/base",
            "_model_module_version": "1.2.0",
            "_model_name": "LayoutModel",
            "_view_count": null,
            "_view_module": "@jupyter-widgets/base",
            "_view_module_version": "1.2.0",
            "_view_name": "LayoutView",
            "align_content": null,
            "align_items": null,
            "align_self": null,
            "border": null,
            "bottom": null,
            "display": null,
            "flex": null,
            "flex_flow": null,
            "grid_area": null,
            "grid_auto_columns": null,
            "grid_auto_flow": null,
            "grid_auto_rows": null,
            "grid_column": null,
            "grid_gap": null,
            "grid_row": null,
            "grid_template_areas": null,
            "grid_template_columns": null,
            "grid_template_rows": null,
            "height": null,
            "justify_content": null,
            "justify_items": null,
            "left": null,
            "margin": null,
            "max_height": null,
            "max_width": null,
            "min_height": null,
            "min_width": null,
            "object_fit": null,
            "object_position": null,
            "order": null,
            "overflow": null,
            "overflow_x": null,
            "overflow_y": null,
            "padding": null,
            "right": null,
            "top": null,
            "visibility": null,
            "width": null
          }
        },
        "ae6096f2d9bb4b0090ce756f248bd75f": {
          "model_module": "@jupyter-widgets/base",
          "model_name": "LayoutModel",
          "model_module_version": "1.2.0",
          "state": {
            "_model_module": "@jupyter-widgets/base",
            "_model_module_version": "1.2.0",
            "_model_name": "LayoutModel",
            "_view_count": null,
            "_view_module": "@jupyter-widgets/base",
            "_view_module_version": "1.2.0",
            "_view_name": "LayoutView",
            "align_content": null,
            "align_items": null,
            "align_self": null,
            "border": null,
            "bottom": null,
            "display": null,
            "flex": null,
            "flex_flow": null,
            "grid_area": null,
            "grid_auto_columns": null,
            "grid_auto_flow": null,
            "grid_auto_rows": null,
            "grid_column": null,
            "grid_gap": null,
            "grid_row": null,
            "grid_template_areas": null,
            "grid_template_columns": null,
            "grid_template_rows": null,
            "height": null,
            "justify_content": null,
            "justify_items": null,
            "left": null,
            "margin": null,
            "max_height": null,
            "max_width": null,
            "min_height": null,
            "min_width": null,
            "object_fit": null,
            "object_position": null,
            "order": null,
            "overflow": null,
            "overflow_x": null,
            "overflow_y": null,
            "padding": null,
            "right": null,
            "top": null,
            "visibility": null,
            "width": null
          }
        },
        "1285cf69b3ad42b8b83596d403d2fbfb": {
          "model_module": "@jupyter-widgets/controls",
          "model_name": "DescriptionStyleModel",
          "model_module_version": "1.5.0",
          "state": {
            "_model_module": "@jupyter-widgets/controls",
            "_model_module_version": "1.5.0",
            "_model_name": "DescriptionStyleModel",
            "_view_count": null,
            "_view_module": "@jupyter-widgets/base",
            "_view_module_version": "1.2.0",
            "_view_name": "StyleView",
            "description_width": ""
          }
        },
        "a34177c810714dd7ac0341a159055736": {
          "model_module": "@jupyter-widgets/base",
          "model_name": "LayoutModel",
          "model_module_version": "1.2.0",
          "state": {
            "_model_module": "@jupyter-widgets/base",
            "_model_module_version": "1.2.0",
            "_model_name": "LayoutModel",
            "_view_count": null,
            "_view_module": "@jupyter-widgets/base",
            "_view_module_version": "1.2.0",
            "_view_name": "LayoutView",
            "align_content": null,
            "align_items": null,
            "align_self": null,
            "border": null,
            "bottom": null,
            "display": null,
            "flex": null,
            "flex_flow": null,
            "grid_area": null,
            "grid_auto_columns": null,
            "grid_auto_flow": null,
            "grid_auto_rows": null,
            "grid_column": null,
            "grid_gap": null,
            "grid_row": null,
            "grid_template_areas": null,
            "grid_template_columns": null,
            "grid_template_rows": null,
            "height": null,
            "justify_content": null,
            "justify_items": null,
            "left": null,
            "margin": null,
            "max_height": null,
            "max_width": null,
            "min_height": null,
            "min_width": null,
            "object_fit": null,
            "object_position": null,
            "order": null,
            "overflow": null,
            "overflow_x": null,
            "overflow_y": null,
            "padding": null,
            "right": null,
            "top": null,
            "visibility": null,
            "width": null
          }
        },
        "ec0fee7e41f3463f924867b93de3f928": {
          "model_module": "@jupyter-widgets/controls",
          "model_name": "ProgressStyleModel",
          "model_module_version": "1.5.0",
          "state": {
            "_model_module": "@jupyter-widgets/controls",
            "_model_module_version": "1.5.0",
            "_model_name": "ProgressStyleModel",
            "_view_count": null,
            "_view_module": "@jupyter-widgets/base",
            "_view_module_version": "1.2.0",
            "_view_name": "StyleView",
            "bar_color": null,
            "description_width": ""
          }
        },
        "288107d5b3d64d599a86475aaba9852c": {
          "model_module": "@jupyter-widgets/base",
          "model_name": "LayoutModel",
          "model_module_version": "1.2.0",
          "state": {
            "_model_module": "@jupyter-widgets/base",
            "_model_module_version": "1.2.0",
            "_model_name": "LayoutModel",
            "_view_count": null,
            "_view_module": "@jupyter-widgets/base",
            "_view_module_version": "1.2.0",
            "_view_name": "LayoutView",
            "align_content": null,
            "align_items": null,
            "align_self": null,
            "border": null,
            "bottom": null,
            "display": null,
            "flex": null,
            "flex_flow": null,
            "grid_area": null,
            "grid_auto_columns": null,
            "grid_auto_flow": null,
            "grid_auto_rows": null,
            "grid_column": null,
            "grid_gap": null,
            "grid_row": null,
            "grid_template_areas": null,
            "grid_template_columns": null,
            "grid_template_rows": null,
            "height": null,
            "justify_content": null,
            "justify_items": null,
            "left": null,
            "margin": null,
            "max_height": null,
            "max_width": null,
            "min_height": null,
            "min_width": null,
            "object_fit": null,
            "object_position": null,
            "order": null,
            "overflow": null,
            "overflow_x": null,
            "overflow_y": null,
            "padding": null,
            "right": null,
            "top": null,
            "visibility": null,
            "width": null
          }
        },
        "9c7afe9314fb4cdcbea0d9f0dc27a84d": {
          "model_module": "@jupyter-widgets/controls",
          "model_name": "DescriptionStyleModel",
          "model_module_version": "1.5.0",
          "state": {
            "_model_module": "@jupyter-widgets/controls",
            "_model_module_version": "1.5.0",
            "_model_name": "DescriptionStyleModel",
            "_view_count": null,
            "_view_module": "@jupyter-widgets/base",
            "_view_module_version": "1.2.0",
            "_view_name": "StyleView",
            "description_width": ""
          }
        }
      }
    }
  },
  "nbformat": 4,
  "nbformat_minor": 0
}